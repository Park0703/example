{
 "cells": [
  {
   "cell_type": "code",
   "execution_count": 1,
   "metadata": {},
   "outputs": [],
   "source": [
    "import folium\n",
    "seoul_map = folium.Map(location=[37.55, 126.98], zoom_start=12)\n",
    "seoul_map.save('seoul.html') "
   ]
  },
  {
   "cell_type": "code",
   "execution_count": 2,
   "metadata": {},
   "outputs": [],
   "source": [
    "# tiles : 지도 스타일 설정\n",
    "# openstreetmap, cartodbdark_matter, cartodbpositron, stamenterrain,\n",
    "seoul_map2 = folium.Map(location=[37.55, 126.98], zoom_start=12, tiles = \"openstreetmap\")\n",
    "seoul_map2.save('seoul2.html') "
   ]
  },
  {
   "cell_type": "code",
   "execution_count": 4,
   "metadata": {},
   "outputs": [
    {
     "name": "stdout",
     "output_type": "stream",
     "text": [
      "                     위도          경도\n",
      "KAIST 서울캠퍼스   37.592573  127.046737\n",
      "KC대학교         37.548345  126.854797\n",
      "가톨릭대학교(성신교정)  37.585922  127.004328\n",
      "가톨릭대학교(성의교정)  37.499623  127.006065\n",
      "감리교신학대학교      37.567645  126.961610\n",
      "Index(['KAIST 서울캠퍼스 ', 'KC대학교', '가톨릭대학교(성신교정)', '가톨릭대학교(성의교정)', '감리교신학대학교',\n",
      "       '건국대학교', '경기대학교 서울캠퍼스 ', '경희대학교 서울캠퍼스 ', '고려대학교', '광운대학교', '국민대학교',\n",
      "       '덕성여자대학교', '동국대학교', '동덕여자대학교', '명지대학교 서울캠퍼스 ', '삼육대학교', '상명대학교 서울캠퍼스 ',\n",
      "       '서강대학교', '서경대학교', '서울과학기술대학교', '서울교육대학교', '서울기독대학교', '서울대학교', '서울시립대학교',\n",
      "       '서울여자대학교', '서울한영대학교', '성공회대학교', '성균관대학교 서울캠퍼스  ', '성신여자대학교', '세종대학교',\n",
      "       '숙명여자대학교', '숭실대학교', '연세대학교', '육군사관학교', '이화여자대학교', '장로회신학대학교',\n",
      "       '중앙대학교 서울캠퍼스 ', '총신대학교', '추계예술대학교', '한국방송통신대학교', '한국성서대학교', '한국예술종합학교',\n",
      "       '한국외국어대학교', '한국체육대학교', '한성대학교', '한양대학교', '홍익대학교'],\n",
      "      dtype='object')\n"
     ]
    }
   ],
   "source": [
    "import pandas as pd\n",
    "import folium\n",
    "df = pd.read_excel('서울지역 대학교 위치.xlsx', index_col=0,engine='openpyxl')\n",
    "print(df.head())\n",
    "print(df.index)"
   ]
  },
  {
   "cell_type": "code",
   "execution_count": 5,
   "metadata": {},
   "outputs": [],
   "source": [
    "seoul_map = folium.Map(location=[37.55, 126.98], zoom_start=12, tiles = \"openstreetmap\")\n",
    "for name, lat, lng in zip(df.index, df.위도, df.경도) :\n",
    "    # marker = w지도 표시 객체 ,  popup 마커 표시내용\\\n",
    "    # tooltip 마커에 커서가 들어온 경우 표시됨\n",
    "    folium.Marker([lat, lng], popup=name, tooltip=name).add_to(seoul_map)\n",
    "seoul_map.save('seoul_colleges.html')\n",
    "\n",
    "\n",
    "\n"
   ]
  },
  {
   "cell_type": "code",
   "execution_count": 6,
   "metadata": {},
   "outputs": [],
   "source": [
    "seoul_map3 = folium.Map(location=[37.55, 126.98], zoom_start=12, tiles = \"openstreetmap\")\n",
    "for name, lat, lng in zip(df.index, df.위도, df.경도) :\n",
    "    folium.CircleMarker([lat, lng], # 위경도\n",
    "                        radius = 10, #  반지름\n",
    "                        color = 'brown', # 색 \n",
    "                        fill= True, # 원 둘레 색\n",
    "                        fillcolor= 'coral', # 원을 채우는 색\n",
    "                        fill_opacity=0.7,# 투명도\n",
    "                        popup=name\n",
    "                       ).add_to(seoul_map)\n",
    "seoul_map3.save('seoul_colleges.html')\n",
    "\n"
   ]
  },
  {
   "cell_type": "code",
   "execution_count": 7,
   "metadata": {},
   "outputs": [],
   "source": [
    "# 아이콘 마커표시3\n",
    "seoul_map4 = folium.Map(location=[37.55, 126.98], zoom_start=12, tiles = \"openstreetmap\")\n",
    "for name, lat, lng in zip(df.index, df.위도, df.경도) :\n",
    "    folium.CircleMarker([lat, lng], # 위경도\n",
    "                        popup=name,\n",
    "                        # icon home, flag, bookmark, star\n",
    "                        icon = folium.Icon(color = 'blue', icon='star')\n",
    "                       ).add_to(seoul_map)\n",
    "seoul_map4.save('seoul_colleges.html')\n"
   ]
  },
  {
   "cell_type": "code",
   "execution_count": null,
   "metadata": {},
   "outputs": [],
   "source": []
  },
  {
   "cell_type": "code",
   "execution_count": 15,
   "metadata": {},
   "outputs": [
    {
     "name": "stdout",
     "output_type": "stream",
     "text": [
      "   고유번호   구명   법정동명  산지여부  주지번 부지번                 새주소명                 시설명  \\\n",
      "0    21  구로구   구로3동     1  777   1  구로구 디지털로 27다길 65 2층             꿈마을 도서관   \n",
      "1    22  용산구    후암동     1   30  84        용산구 후암동 30-84              남산 도서관   \n",
      "2    23   중구    신당동     1  844                중구 다산로 32  남산타운 문화체육센터 어린이도서관   \n",
      "3    24  노원구  상계10동     1  686               노원구 온곡길 21            노원 정보도서관   \n",
      "4    25  노원구   중계3동     1  508             노원구 중계3동 508            노원 평생학습관   \n",
      "\n",
      "         운영기관 설립주체    시설구분         개관일      면적                       홈페이지주소  \\\n",
      "0  구로구 시설관리공단        구립도서관  2007-04-05   476.0    lib.guro.go.kr/dreamtown/   \n",
      "1                   교육청도서관  1922-10-05     0.0  lib.sen.go.kr/lib_index.jsp   \n",
      "2      시설관리공단        구립도서관  2010-04-01   273.8        www.e-junggulib.or.kr   \n",
      "3   노원 교육복지재단        구립도서관  2006-02-15  6526.0              www.nowonlib.kr   \n",
      "4                   교육청도서관  1990-05-08     0.0  lib.sen.go.kr/lib_index.jsp   \n",
      "\n",
      "            연락처 생성일          경도         위도  \n",
      "0      830-5807      126.890115  37.487220  \n",
      "1                    126.981375  37.552664  \n",
      "2  02-2280-8520      127.009297  37.549020  \n",
      "3   02-950-0029      127.064177  37.660927  \n",
      "4                    127.067120  37.640120  \n",
      "RangeIndex(start=0, stop=123, step=1)\n"
     ]
    }
   ],
   "source": [
    "import pandas as pd\n",
    "import folium\n",
    "from folium import Marker\n",
    "library = pd.read_csv('library.csv')\n",
    "lib_map = folium.Map(location=[37.55, 126.98], zoom_start=12)\n",
    "print(df1.head())\n",
    "print(df1.index)"
   ]
  },
  {
   "cell_type": "code",
   "execution_count": 18,
   "metadata": {},
   "outputs": [],
   "source": [
    "# color='blue'\n",
    "for name, lat, lng, kbn in zip(library['시설명'],library['위도'],library['경도'],library['시설구분']) :\n",
    "    if kbn == '구립도서관' :\n",
    "        color ='green'\n",
    "    else :\n",
    "        color = 'blue'\n",
    "    Marker(location = [lat, lng], \n",
    "           popup = kbn,\n",
    "           tooltip=name, \n",
    "           icon = folium.Icon(color=color,icon='bookmark')\n",
    "          ).add_to(lib_map)\n",
    "lib_map.save('library.html')\n",
    "\n"
   ]
  },
  {
   "cell_type": "code",
   "execution_count": 19,
   "metadata": {},
   "outputs": [],
   "source": [
    "# markercluster 기능\n",
    "from folium.plugins import MarkerCluster\n",
    "lib_map = folium.Map(location=[37.55, 126.98], zoom_start=12)\n"
   ]
  },
  {
   "cell_type": "code",
   "execution_count": 20,
   "metadata": {},
   "outputs": [],
   "source": [
    "# add points to the map\n",
    "mc = MarkerCluster()\n",
    "# 데이터 중 한개 레코드씩 조회 row 따고 그중 하나씩\n",
    "# _ 인덱스값 저장, 사용안하지만 절차상 피룡\n",
    "for _, row in library.iterrows(): \n",
    "    mc.add_child(\n",
    "        Marker(location = [row['위도'], row['경도']],\n",
    "              popup = row['시설구분'],\n",
    "              tooltip = row['시설명']\n",
    "              )\n",
    "    )\n",
    "lib_map.add_child(mc)\n",
    "lib_map.save('library2.html')"
   ]
  },
  {
   "cell_type": "code",
   "execution_count": 21,
   "metadata": {},
   "outputs": [],
   "source": [
    "# 경기도 인구데이텉와 위치정보를 가지고 지도 표시\n",
    "import pandas as pd\n",
    "import folium\n",
    "import json\n",
    "file_path = './경기도인구데이터.xlsx'\n",
    "df = pd.read_excel(file_path, index_col = '구분', engine = 'openpyxl')\n",
    "df.columns = df.columns.map(str)\n",
    "geo_path = './경기도행정구역경계.json'"
   ]
  },
  {
   "cell_type": "code",
   "execution_count": 27,
   "metadata": {},
   "outputs": [
    {
     "name": "stdout",
     "output_type": "stream",
     "text": [
      "<class 'dict'>\n"
     ]
    }
   ],
   "source": [
    "try :\n",
    "    geo_data = json.load(open(geo_path, encoding = 'utf-8')) # 이게 안되면 \n",
    "except :\n",
    "    geo_data = json.load(open(geo_path, encoding = 'utf-8-sig')) # 이걸로\n",
    "print(type(geo_data)) # dict\n",
    "g_map = folium.Map(location=[37.5502, 126.982], zoom_start=9)\n",
    "year = '2017'"
   ]
  },
  {
   "cell_type": "code",
   "execution_count": 26,
   "metadata": {},
   "outputs": [],
   "source": [
    "# choropleth 클래스로 단계구분 표시\n",
    "# fill_color BuGn, PuRd, BuPu, GnBu, OrRd, PuBu, PuBuGn\n",
    "folium.Choropleth(geo_data = geo_data, # 지도 경계 \n",
    "                 data = df[year], # 표시하려는 데이터\n",
    "                 columns = [df.index, df[year]],\n",
    "                 fill_color = 'YlOrRd', # 면적 색깔\n",
    "                  fill_opacity=0.7, # 면적 투명도 \n",
    "                  line_opacity=0.3,  # 선 투명도\n",
    "                 threshold_scale = [10000,100000,300000,500000,700000], # 색깔구분\n",
    "                 key_on ='feature.properties.name', # 이름으로 구분\n",
    "                 ).add_to(g_map) # 에 추가하자\n",
    "g_map.save('./gyonggi_population_'+year+'.html')"
   ]
  },
  {
   "cell_type": "code",
   "execution_count": null,
   "metadata": {},
   "outputs": [],
   "source": []
  },
  {
   "cell_type": "code",
   "execution_count": null,
   "metadata": {},
   "outputs": [],
   "source": []
  },
  {
   "cell_type": "code",
   "execution_count": null,
   "metadata": {},
   "outputs": [],
   "source": []
  },
  {
   "cell_type": "code",
   "execution_count": null,
   "metadata": {},
   "outputs": [],
   "source": []
  },
  {
   "cell_type": "code",
   "execution_count": null,
   "metadata": {},
   "outputs": [],
   "source": []
  },
  {
   "cell_type": "code",
   "execution_count": null,
   "metadata": {},
   "outputs": [],
   "source": []
  },
  {
   "cell_type": "code",
   "execution_count": null,
   "metadata": {},
   "outputs": [],
   "source": []
  },
  {
   "cell_type": "code",
   "execution_count": null,
   "metadata": {},
   "outputs": [],
   "source": []
  },
  {
   "cell_type": "code",
   "execution_count": null,
   "metadata": {},
   "outputs": [],
   "source": []
  },
  {
   "cell_type": "code",
   "execution_count": null,
   "metadata": {},
   "outputs": [],
   "source": []
  },
  {
   "cell_type": "code",
   "execution_count": null,
   "metadata": {},
   "outputs": [],
   "source": []
  },
  {
   "cell_type": "code",
   "execution_count": null,
   "metadata": {},
   "outputs": [],
   "source": []
  },
  {
   "cell_type": "code",
   "execution_count": null,
   "metadata": {},
   "outputs": [],
   "source": []
  },
  {
   "cell_type": "code",
   "execution_count": null,
   "metadata": {},
   "outputs": [],
   "source": []
  },
  {
   "cell_type": "code",
   "execution_count": null,
   "metadata": {},
   "outputs": [],
   "source": []
  },
  {
   "cell_type": "code",
   "execution_count": null,
   "metadata": {},
   "outputs": [],
   "source": []
  },
  {
   "cell_type": "code",
   "execution_count": null,
   "metadata": {},
   "outputs": [],
   "source": []
  },
  {
   "cell_type": "code",
   "execution_count": null,
   "metadata": {},
   "outputs": [],
   "source": []
  },
  {
   "cell_type": "code",
   "execution_count": null,
   "metadata": {},
   "outputs": [],
   "source": []
  },
  {
   "cell_type": "code",
   "execution_count": null,
   "metadata": {},
   "outputs": [],
   "source": []
  },
  {
   "cell_type": "code",
   "execution_count": null,
   "metadata": {},
   "outputs": [],
   "source": []
  },
  {
   "cell_type": "code",
   "execution_count": null,
   "metadata": {},
   "outputs": [],
   "source": []
  },
  {
   "cell_type": "code",
   "execution_count": null,
   "metadata": {},
   "outputs": [],
   "source": []
  },
  {
   "cell_type": "code",
   "execution_count": null,
   "metadata": {},
   "outputs": [],
   "source": []
  },
  {
   "cell_type": "code",
   "execution_count": null,
   "metadata": {},
   "outputs": [],
   "source": []
  },
  {
   "cell_type": "code",
   "execution_count": null,
   "metadata": {},
   "outputs": [],
   "source": []
  },
  {
   "cell_type": "code",
   "execution_count": null,
   "metadata": {},
   "outputs": [],
   "source": []
  },
  {
   "cell_type": "code",
   "execution_count": null,
   "metadata": {},
   "outputs": [],
   "source": []
  },
  {
   "cell_type": "code",
   "execution_count": null,
   "metadata": {},
   "outputs": [],
   "source": []
  },
  {
   "cell_type": "code",
   "execution_count": null,
   "metadata": {},
   "outputs": [],
   "source": []
  },
  {
   "cell_type": "code",
   "execution_count": null,
   "metadata": {},
   "outputs": [],
   "source": []
  },
  {
   "cell_type": "code",
   "execution_count": null,
   "metadata": {},
   "outputs": [],
   "source": []
  },
  {
   "cell_type": "code",
   "execution_count": null,
   "metadata": {},
   "outputs": [],
   "source": []
  }
 ],
 "metadata": {
  "kernelspec": {
   "display_name": "Python 3",
   "language": "python",
   "name": "python3"
  },
  "language_info": {
   "codemirror_mode": {
    "name": "ipython",
    "version": 3
   },
   "file_extension": ".py",
   "mimetype": "text/x-python",
   "name": "python",
   "nbconvert_exporter": "python",
   "pygments_lexer": "ipython3",
   "version": "3.8.5"
  }
 },
 "nbformat": 4,
 "nbformat_minor": 4
}
