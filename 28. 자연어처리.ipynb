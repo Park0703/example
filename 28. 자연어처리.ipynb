{
 "cells": [
  {
   "cell_type": "code",
   "execution_count": 1,
   "metadata": {},
   "outputs": [
    {
     "data": {
      "text/html": [
       "<div>\n",
       "<style scoped>\n",
       "    .dataframe tbody tr th:only-of-type {\n",
       "        vertical-align: middle;\n",
       "    }\n",
       "\n",
       "    .dataframe tbody tr th {\n",
       "        vertical-align: top;\n",
       "    }\n",
       "\n",
       "    .dataframe thead th {\n",
       "        text-align: right;\n",
       "    }\n",
       "</style>\n",
       "<table border=\"1\" class=\"dataframe\">\n",
       "  <thead>\n",
       "    <tr style=\"text-align: right;\">\n",
       "      <th></th>\n",
       "      <th>score</th>\n",
       "      <th>review</th>\n",
       "      <th>y</th>\n",
       "    </tr>\n",
       "  </thead>\n",
       "  <tbody>\n",
       "    <tr>\n",
       "      <th>0</th>\n",
       "      <td>1</td>\n",
       "      <td>예약할 때는 룸을 주기로 하고 홀을 주고, 덥고, 직원들이 정신이 없어 그 가격에 ...</td>\n",
       "      <td>0</td>\n",
       "    </tr>\n",
       "    <tr>\n",
       "      <th>1</th>\n",
       "      <td>5</td>\n",
       "      <td>점심식사 잘했던곳.후식커피한잔 하기도 좋고 주차가능합니다. 음식 맛있고 직원분 친절...</td>\n",
       "      <td>1</td>\n",
       "    </tr>\n",
       "    <tr>\n",
       "      <th>2</th>\n",
       "      <td>5</td>\n",
       "      <td>新鮮でおいしいです。</td>\n",
       "      <td>1</td>\n",
       "    </tr>\n",
       "    <tr>\n",
       "      <th>3</th>\n",
       "      <td>4</td>\n",
       "      <td>녹는다 녹아</td>\n",
       "      <td>1</td>\n",
       "    </tr>\n",
       "    <tr>\n",
       "      <th>4</th>\n",
       "      <td>4</td>\n",
       "      <td>NaN</td>\n",
       "      <td>1</td>\n",
       "    </tr>\n",
       "    <tr>\n",
       "      <th>...</th>\n",
       "      <td>...</td>\n",
       "      <td>...</td>\n",
       "      <td>...</td>\n",
       "    </tr>\n",
       "    <tr>\n",
       "      <th>75</th>\n",
       "      <td>2</td>\n",
       "      <td>이렇게 대기가 긴 맛집인줄 모르고 갔다가 엄청 기다림 예써라는 어플로 대기 하던데 ...</td>\n",
       "      <td>0</td>\n",
       "    </tr>\n",
       "    <tr>\n",
       "      <th>76</th>\n",
       "      <td>1</td>\n",
       "      <td>단짠의 정석. 진짜 정석으로 달고 짬. 질리는 맛.  사장님이랑 와이프로 추정되는 ...</td>\n",
       "      <td>0</td>\n",
       "    </tr>\n",
       "    <tr>\n",
       "      <th>77</th>\n",
       "      <td>4</td>\n",
       "      <td>만족스러움! 맛있어용</td>\n",
       "      <td>1</td>\n",
       "    </tr>\n",
       "    <tr>\n",
       "      <th>78</th>\n",
       "      <td>1</td>\n",
       "      <td>곱창은 없고 대창만 들어있어서 느끼한데 양념은 너무 매워서 위에 탈이나 고생했습니다ㅠㅠ</td>\n",
       "      <td>0</td>\n",
       "    </tr>\n",
       "    <tr>\n",
       "      <th>79</th>\n",
       "      <td>5</td>\n",
       "      <td>대창덮밥도 맛있고 곱도리탕도 맛나요 완전 소주각입니다.  자리가 쫍아서 테이블마다 ...</td>\n",
       "      <td>1</td>\n",
       "    </tr>\n",
       "  </tbody>\n",
       "</table>\n",
       "<p>80 rows × 3 columns</p>\n",
       "</div>"
      ],
      "text/plain": [
       "    score                                             review  y\n",
       "0       1  예약할 때는 룸을 주기로 하고 홀을 주고, 덥고, 직원들이 정신이 없어 그 가격에 ...  0\n",
       "1       5  점심식사 잘했던곳.후식커피한잔 하기도 좋고 주차가능합니다. 음식 맛있고 직원분 친절...  1\n",
       "2       5                                         新鮮でおいしいです。  1\n",
       "3       4                                             녹는다 녹아  1\n",
       "4       4                                                NaN  1\n",
       "..    ...                                                ... ..\n",
       "75      2  이렇게 대기가 긴 맛집인줄 모르고 갔다가 엄청 기다림 예써라는 어플로 대기 하던데 ...  0\n",
       "76      1  단짠의 정석. 진짜 정석으로 달고 짬. 질리는 맛.  사장님이랑 와이프로 추정되는 ...  0\n",
       "77      4                                        만족스러움! 맛있어용  1\n",
       "78      1  곱창은 없고 대창만 들어있어서 느끼한데 양념은 너무 매워서 위에 탈이나 고생했습니다ㅠㅠ   0\n",
       "79      5  대창덮밥도 맛있고 곱도리탕도 맛나요 완전 소주각입니다.  자리가 쫍아서 테이블마다 ...  1\n",
       "\n",
       "[80 rows x 3 columns]"
      ]
     },
     "execution_count": 1,
     "metadata": {},
     "output_type": "execute_result"
    }
   ],
   "source": [
    "import pandas as pd\n",
    "df = pd.read_csv('review_data.csv')\n",
    "df"
   ]
  },
  {
   "cell_type": "code",
   "execution_count": 2,
   "metadata": {},
   "outputs": [
    {
     "data": {
      "text/plain": [
       "'가나다 라마사아 '"
      ]
     },
     "execution_count": 2,
     "metadata": {},
     "output_type": "execute_result"
    }
   ],
   "source": [
    "import re\n",
    "def text_cleaning(text) :\n",
    "    hangul = re.compile('[^ ㄱ-ㅣ가-힣]+')\n",
    "    result = hangul.sub('', text)\n",
    "    return result\n",
    "text_cleaning(\"abc가나다123 라마사아 123\")"
   ]
  },
  {
   "cell_type": "code",
   "execution_count": 3,
   "metadata": {},
   "outputs": [
    {
     "data": {
      "text/plain": [
       "0     예약할 때는 룸을 주기로 하고 홀을 주고 덥고 직원들이 정신이 없어 그 가격에 내가...\n",
       "1     점심식사 잘했던곳후식커피한잔 하기도 좋고 주차가능합니다 음식 맛있고 직원분 친절하여...\n",
       "2                                                      \n",
       "3                                                녹는다 녹아\n",
       "4                                                      \n",
       "                            ...                        \n",
       "75    이렇게 대기가 긴 맛집인줄 모르고 갔다가 엄청 기다림 예써라는 어플로 대기 하던데 ...\n",
       "76    단짠의 정석 진짜 정석으로 달고 짬 질리는 맛  사장님이랑 와이프로 추정되는 서빙해...\n",
       "77                                           만족스러움 맛있어용\n",
       "78    곱창은 없고 대창만 들어있어서 느끼한데 양념은 너무 매워서 위에 탈이나 고생했습니다ㅠㅠ \n",
       "79    대창덮밥도 맛있고 곱도리탕도 맛나요 완전 소주각입니다  자리가 쫍아서 테이블마다 가...\n",
       "Name: ko_text, Length: 80, dtype: object"
      ]
     },
     "execution_count": 3,
     "metadata": {},
     "output_type": "execute_result"
    }
   ],
   "source": [
    "df['ko_text'] = df['review'].apply(lambda x : text_cleaning(str(x))) # null 값\n",
    "df['ko_text']"
   ]
  },
  {
   "cell_type": "code",
   "execution_count": 4,
   "metadata": {},
   "outputs": [
    {
     "data": {
      "text/plain": [
       "0    예약할 때는 룸을 주기로 하고 홀을 주고, 덥고, 직원들이 정신이 없어 그 가격에 ...\n",
       "1    점심식사 잘했던곳.후식커피한잔 하기도 좋고 주차가능합니다. 음식 맛있고 직원분 친절...\n",
       "2                                           新鮮でおいしいです。\n",
       "3                                               녹는다 녹아\n",
       "4                                                  NaN\n",
       "Name: review, dtype: object"
      ]
     },
     "execution_count": 4,
     "metadata": {},
     "output_type": "execute_result"
    }
   ],
   "source": [
    "df['review'].head()"
   ]
  },
  {
   "cell_type": "code",
   "execution_count": 5,
   "metadata": {},
   "outputs": [
    {
     "data": {
      "text/plain": [
       "score  review  y      ko_text\n",
       "False  False   False  False      65\n",
       "dtype: int64"
      ]
     },
     "execution_count": 5,
     "metadata": {},
     "output_type": "execute_result"
    }
   ],
   "source": [
    "df1 = df.loc[df['ko_text'].apply(lambda x : len(x)) > 0]\n",
    "df1.isnull().value_counts()"
   ]
  },
  {
   "cell_type": "code",
   "execution_count": 6,
   "metadata": {},
   "outputs": [
    {
     "name": "stdout",
     "output_type": "stream",
     "text": [
      "<class 'pandas.core.frame.DataFrame'>\n",
      "RangeIndex: 80 entries, 0 to 79\n",
      "Data columns (total 3 columns):\n",
      " #   Column   Non-Null Count  Dtype \n",
      "---  ------   --------------  ----- \n",
      " 0   score    80 non-null     int64 \n",
      " 1   y        80 non-null     int64 \n",
      " 2   ko_text  80 non-null     object\n",
      "dtypes: int64(2), object(1)\n",
      "memory usage: 2.0+ KB\n"
     ]
    }
   ],
   "source": [
    "del df['review']\n",
    "df.info()"
   ]
  },
  {
   "cell_type": "code",
   "execution_count": 7,
   "metadata": {},
   "outputs": [],
   "source": [
    "from konlpy.tag import Okt"
   ]
  },
  {
   "cell_type": "code",
   "execution_count": 8,
   "metadata": {},
   "outputs": [
    {
     "name": "stdout",
     "output_type": "stream",
     "text": [
      "['예약/Noun', '할/Verb', '때/Noun', '는/Josa', '룸/Noun', '을/Josa', '주기/Noun', '로/Josa', '하고/Verb', '홀/Noun', '을/Josa', '주고/Verb', '덥고/Adjective', '직원/Noun', '들/Suffix', '이/Josa', '정신/Noun', '이/Josa', '없어/Adjective', '그/Noun', '가격/Noun', '에/Josa', '내/Noun', '가/Josa', '직접/Noun', '구워/Verb', '먹고/Verb', '갈비살/Noun', '등심/Noun', '은/Josa', '질/Noun', '기고/Noun', '냉면/Noun', '은/Josa', '맛/Noun', '이/Josa', '없고/Adjective', '장어/Noun', '양념/Noun', '들/Suffix', '도/Josa', '제/Noun', '때/Noun', '안/Noun', '가져다/Verb', '주고/Verb', '회식/Noun', '으로/Josa', '한/Determiner', '시간/Noun', '만에/Josa', '만원/Noun', '을/Josa', '썼는데/Verb', '이런/Adjective', '경험/Noun', '처음/Noun', '입니다/Adjective']\n"
     ]
    }
   ],
   "source": [
    "# 텍스트 데이터 형태소 추출\n",
    "def get_pos(x) :\n",
    "    tagger = Okt()\n",
    "    pos = tagger.pos(x)\n",
    "    # word : konlpy 모듈 형태소 분석단어\n",
    "    # tag : 형태소 분석된 품사\n",
    "    pos = ['{0}/{1}'.format(word, tag) for word, tag in pos]\n",
    "    return pos\n",
    "\n",
    "result = get_pos(df['ko_text'].values[0])\n",
    "print(result)"
   ]
  },
  {
   "cell_type": "code",
   "execution_count": 9,
   "metadata": {},
   "outputs": [
    {
     "data": {
      "text/plain": [
       "(80, 779)"
      ]
     },
     "execution_count": 9,
     "metadata": {},
     "output_type": "execute_result"
    }
   ],
   "source": [
    "from sklearn.feature_extraction.text import CountVectorizer\n",
    "                     #글뭉치(corpus) 인덱스로 생성\n",
    "index_vectorizer = CountVectorizer(tokenizer = lambda x : get_pos(x))\n",
    "# \n",
    " # 형태소분석하고 단어품사로 분리\n",
    "x = index_vectorizer.fit_transform(df['ko_text'].tolist())\n",
    "x.shape"
   ]
  },
  {
   "cell_type": "code",
   "execution_count": 10,
   "metadata": {},
   "outputs": [
    {
     "name": "stdout",
     "output_type": "stream",
     "text": [
      "  (0, 504)\t1\n",
      "  (0, 743)\t1\n",
      "  (0, 224)\t2\n",
      "  (0, 162)\t1\n",
      "  (0, 236)\t1\n",
      "  (0, 538)\t3\n",
      "  (0, 631)\t1\n",
      "  (0, 235)\t1\n",
      "  (0, 721)\t1\n",
      "  (0, 769)\t1\n",
      "  (0, 629)\t2\n",
      "  (0, 189)\t1\n",
      "  (0, 650)\t1\n",
      "  (0, 210)\t2\n",
      "  (0, 546)\t3\n",
      "  (0, 609)\t1\n",
      "  (0, 485)\t1\n",
      "  (0, 97)\t1\n",
      "  (0, 18)\t1\n",
      "  (0, 491)\t1\n",
      "  (0, 141)\t1\n",
      "  (0, 13)\t1\n",
      "  (0, 651)\t1\n",
      "  (0, 87)\t1\n",
      "  (0, 281)\t1\n",
      "  (0, 34)\t1\n",
      "  (0, 222)\t1\n",
      "  (0, 537)\t2\n",
      "  (0, 653)\t1\n",
      "  (0, 107)\t1\n",
      "  (0, 145)\t1\n",
      "  (0, 258)\t1\n",
      "  (0, 481)\t1\n",
      "  (0, 588)\t1\n",
      "  (0, 468)\t1\n",
      "  (0, 192)\t1\n",
      "  (0, 610)\t1\n",
      "  (0, 453)\t1\n",
      "  (0, 29)\t1\n",
      "  (0, 772)\t1\n",
      "  (0, 536)\t1\n",
      "  (0, 738)\t1\n",
      "  (0, 417)\t1\n",
      "  (0, 250)\t1\n",
      "  (0, 251)\t1\n",
      "  (0, 439)\t1\n",
      "  (0, 551)\t1\n",
      "  (0, 61)\t1\n",
      "  (0, 672)\t1\n",
      "  (0, 573)\t1\n",
      "  (0, 650)\t1\n",
      "  (0, 13)\t1\n",
      "  (0, 604)\t1\n",
      "  (0, 585)\t1\n",
      "  (0, 761)\t1\n",
      "  (0, 79)\t1\n",
      "  (0, 776)\t1\n",
      "  (0, 691)\t1\n",
      "  (0, 723)\t1\n",
      "  (0, 618)\t1\n",
      "  (0, 635)\t1\n",
      "  (0, 22)\t1\n",
      "  (0, 540)\t1\n",
      "  (0, 261)\t1\n",
      "  (0, 363)\t1\n",
      "  (0, 689)\t1\n",
      "  (0, 600)\t1\n",
      "  (0, 321)\t1\n",
      "  (0, 648)\t1\n",
      "\n",
      "  (0, 154)\t1\n",
      "  (0, 155)\t1\n",
      "\n",
      "\n",
      "  (0, 162)\t1\n",
      "  (0, 546)\t1\n",
      "  (0, 491)\t1\n",
      "  (0, 192)\t1\n",
      "  (0, 251)\t1\n",
      "  (0, 672)\t1\n",
      "  (0, 529)\t1\n",
      "  (0, 238)\t1\n",
      "  (0, 451)\t1\n",
      "  (0, 454)\t2\n",
      "  (0, 443)\t1\n",
      "  (0, 444)\t1\n",
      "  (0, 506)\t1\n",
      "  (0, 247)\t1\n",
      "  (0, 516)\t1\n",
      "  (0, 397)\t1\n",
      "  (0, 49)\t1\n",
      "  (0, 129)\t1\n",
      "  (0, 641)\t1\n",
      "  (0, 333)\t1\n",
      "  (0, 66)\t1\n",
      "  (0, 511)\t1\n",
      "  (0, 116)\t1\n",
      "  (0, 54)\t2\n",
      "  (0, 318)\t1\n",
      "  (0, 643)\t1\n",
      "  (0, 509)\t1\n",
      "  (0, 460)\t1\n",
      "  (0, 547)\t1\n",
      "  (0, 58)\t1\n",
      "  (0, 409)\t1\n",
      "  (0, 569)\t1\n",
      "  (0, 71)\t1\n",
      "  (0, 446)\t1\n",
      "  (0, 301)\t1\n",
      "  (0, 265)\t1\n",
      "  (0, 649)\t1\n",
      "  (0, 191)\t1\n",
      "  (0, 168)\t1\n",
      "  (0, 510)\t1\n",
      "  (0, 48)\t1\n",
      "  (0, 660)\t1\n",
      "  (0, 389)\t1\n",
      "  (0, 657)\t1\n",
      "  (0, 186)\t1\n",
      "  (0, 132)\t1\n",
      "  (0, 538)\t2\n",
      "  (0, 454)\t1\n",
      "  (0, 66)\t1\n",
      "  (0, 450)\t1\n",
      "  (0, 300)\t1\n",
      "  (0, 246)\t1\n",
      "  (0, 527)\t1\n",
      "  (0, 477)\t1\n",
      "  (0, 237)\t1\n",
      "  (0, 285)\t2\n",
      "  (0, 62)\t1\n",
      "  (0, 88)\t1\n",
      "  (0, 337)\t1\n",
      "  (0, 159)\t1\n",
      "  (0, 314)\t1\n",
      "  (0, 352)\t1\n",
      "  (0, 652)\t1\n",
      "  (0, 373)\t1\n",
      "  (0, 437)\t1\n",
      "  (0, 142)\t1\n",
      "  (0, 663)\t1\n",
      "  (0, 637)\t1\n",
      "  (0, 382)\t1\n",
      "  (0, 504)\t1\n",
      "  (0, 546)\t2\n",
      "  (0, 491)\t2\n",
      "  (0, 536)\t1\n",
      "  (0, 49)\t1\n",
      "  (0, 531)\t1\n",
      "  (0, 178)\t1\n",
      "  (0, 599)\t1\n",
      "  (0, 326)\t1\n",
      "  (0, 628)\t1\n",
      "  (0, 297)\t1\n",
      "  (0, 577)\t1\n",
      "  (0, 68)\t1\n",
      "  (0, 457)\t1\n",
      "  (0, 483)\t1\n",
      "  (0, 746)\t1\n",
      "  (0, 669)\t1\n",
      "  (0, 597)\t1\n",
      "  (0, 690)\t1\n",
      "  (0, 494)\t1\n",
      "  (0, 463)\t1\n",
      "  (0, 632)\t1\n",
      "  (0, 239)\t1\n",
      "  (0, 165)\t1\n",
      "  (0, 695)\t1\n",
      "  (0, 213)\t1\n",
      "  (0, 367)\t1\n",
      "  (0, 296)\t1\n",
      "  (0, 298)\t1\n",
      "  (0, 475)\t1\n",
      "  (0, 727)\t1\n",
      "  (0, 713)\t1\n",
      "  (0, 399)\t1\n",
      "  (0, 702)\t1\n",
      "  (0, 412)\t1\n",
      "  (0, 182)\t1\n",
      "  (0, 567)\t1\n",
      "  (0, 255)\t1\n",
      "  (0, 358)\t1\n",
      "  (0, 346)\t1\n",
      "  (0, 18)\t1\n",
      "  (0, 13)\t1\n",
      "  (0, 573)\t1\n",
      "  (0, 397)\t1\n",
      "  (0, 129)\t1\n",
      "  (0, 182)\t1\n",
      "  (0, 428)\t1\n",
      "  (0, 774)\t1\n",
      "  (0, 542)\t1\n",
      "  (0, 147)\t1\n",
      "  (0, 339)\t1\n"
     ]
    }
   ],
   "source": [
    "for a in x[:10] :\n",
    "    print(a)"
   ]
  },
  {
   "cell_type": "code",
   "execution_count": 11,
   "metadata": {},
   "outputs": [
    {
     "name": "stdout",
     "output_type": "stream",
     "text": [
      "{'예약/Noun': 504, '할/Verb': 743, '때/Noun': 224, '는/Josa': 162..\n"
     ]
    }
   ],
   "source": [
    "print(str(index_vectorizer.vocabulary_)[:60]+\"..\")"
   ]
  },
  {
   "cell_type": "code",
   "execution_count": 12,
   "metadata": {},
   "outputs": [],
   "source": [
    "# TF-IDF 변환\n",
    "# TF : 1개 텍스트에 맛집 3번 있으면 3\n",
    "# IDF : INVERSE역산 DF\n",
    "#       모든 데이터에서 맛집단어가 10번이 존재, 0.1값\n",
    "# TF - IDF 전체문서에서 나타나지 않지만 현재문서에서 많이 나타나면\n",
    "#             그 단어가 현재문서에서 중요한 단어로 판단"
   ]
  },
  {
   "cell_type": "code",
   "execution_count": 13,
   "metadata": {},
   "outputs": [
    {
     "name": "stdout",
     "output_type": "stream",
     "text": [
      "(80, 779)\n",
      "  (0, 772)\t0.13918867813287145\n",
      "  (0, 769)\t0.13918867813287145\n",
      "  (0, 743)\t0.13918867813287145\n",
      "  (0, 738)\t0.12718431152605908\n",
      "  (0, 721)\t0.12718431152605908\n",
      "  (0, 672)\t0.10666271126619092\n",
      "  (0, 653)\t0.12718431152605908\n",
      "  (0, 651)\t0.12718431152605908\n",
      "  (0, 650)\t0.09465834465937853\n",
      "  (0, 631)\t0.13918867813287145\n",
      "  (0, 629)\t0.2783773562657429\n",
      "  (0, 610)\t0.12718431152605908\n",
      "  (0, 609)\t0.13918867813287145\n",
      "  (0, 588)\t0.13918867813287145\n",
      "  (0, 573)\t0.11206059819730396\n",
      "  (0, 551)\t0.11866707787300333\n",
      "  (0, 546)\t0.22748699966260583\n",
      "  (0, 538)\t0.31998813379857277\n",
      "  (0, 537)\t0.17228222201264556\n",
      "  (0, 536)\t0.09814547761313519\n",
      "  (0, 504)\t0.12718431152605908\n",
      "  (0, 491)\t0.07253600802895468\n",
      "  (0, 485)\t0.12718431152605908\n",
      "  (0, 481)\t0.11866707787300333\n",
      "  (0, 468)\t0.11866707787300333\n",
      "  (0, 453)\t0.11206059819730396\n",
      "  (0, 439)\t0.13918867813287145\n",
      "  (0, 417)\t0.11866707787300333\n",
      "  (0, 281)\t0.11206059819730396\n",
      "  (0, 258)\t0.07762387735326703\n",
      "  (0, 251)\t0.11866707787300333\n",
      "  (0, 250)\t0.13918867813287145\n",
      "  (0, 236)\t0.13918867813287145\n",
      "  (0, 235)\t0.10209886289470016\n",
      "  (0, 224)\t0.19629095522627038\n",
      "  (0, 222)\t0.12718431152605908\n",
      "  (0, 210)\t0.21332542253238185\n",
      "  (0, 192)\t0.07101739767756768\n",
      "  (0, 189)\t0.13918867813287145\n",
      "  (0, 162)\t0.08377133371130897\n",
      "  (0, 145)\t0.13918867813287145\n",
      "  (0, 141)\t0.12718431152605908\n",
      "  (0, 107)\t0.12718431152605908\n",
      "  (0, 97)\t0.11206059819730396\n",
      "  (0, 87)\t0.12718431152605908\n",
      "  (0, 61)\t0.13918867813287145\n",
      "  (0, 34)\t0.13918867813287145\n",
      "  (0, 29)\t0.13918867813287145\n",
      "  (0, 18)\t0.11866707787300333\n",
      "  (0, 13)\t0.08377133371130897\n"
     ]
    }
   ],
   "source": [
    "from sklearn.feature_extraction.text import TfidfTransformer\n",
    "tfidf_vectorizer =  TfidfTransformer()\n",
    "x = tfidf_vectorizer.fit_transform(x)\n",
    "print(x.shape)\n",
    "print(x[0])"
   ]
  },
  {
   "cell_type": "code",
   "execution_count": 15,
   "metadata": {},
   "outputs": [],
   "source": [
    "# 긍부정 리뷰분류\n",
    "# 데이터셋 분리\n",
    "from sklearn.model_selection import train_test_split\n",
    "y = df['y']\n",
    "x_train, x_test, y_train, y_test = train_test_split(x, y, test_size = 0.3)"
   ]
  },
  {
   "cell_type": "code",
   "execution_count": 16,
   "metadata": {},
   "outputs": [
    {
     "data": {
      "text/plain": [
       "(56, 779)"
      ]
     },
     "execution_count": 16,
     "metadata": {},
     "output_type": "execute_result"
    }
   ],
   "source": [
    "x_train.shape"
   ]
  },
  {
   "cell_type": "code",
   "execution_count": 17,
   "metadata": {},
   "outputs": [],
   "source": [
    "from sklearn.linear_model import LogisticRegression\n",
    "lr = LogisticRegression(random_state = 0)\n",
    "lr.fit(x_train, y_train)\n",
    "y_pred = lr.predict(x_test)"
   ]
  },
  {
   "cell_type": "code",
   "execution_count": 18,
   "metadata": {},
   "outputs": [
    {
     "name": "stdout",
     "output_type": "stream",
     "text": [
      "accuracy :0.58\n",
      "precision_score :0.57\n",
      "recall_score :1.00\n",
      "f1_score :0.72\n"
     ]
    }
   ],
   "source": [
    "from sklearn.metrics import accuracy_score, precision_score, recall_score, f1_score\n",
    "print(\"accuracy :%.2f\" %accuracy_score(y_test, y_pred)) # (TP+TN) / TP+TN+FP+FN\n",
    "print(\"precision_score :%.2f\" %precision_score(y_test, y_pred))\n",
    "print(\"recall_score :%.2f\" %recall_score(y_test, y_pred))\n",
    "print(\"f1_score :%.2f\" %f1_score(y_test, y_pred))"
   ]
  },
  {
   "cell_type": "code",
   "execution_count": 19,
   "metadata": {},
   "outputs": [
    {
     "ename": "SyntaxError",
     "evalue": "invalid syntax (<ipython-input-19-ec30cdee6c2f>, line 7)",
     "output_type": "error",
     "traceback": [
      "\u001b[1;36m  File \u001b[1;32m\"<ipython-input-19-ec30cdee6c2f>\"\u001b[1;36m, line \u001b[1;32m7\u001b[0m\n\u001b[1;33m    => 얼마나 적절하게 맞췄는가?, TRUE 예측 중에  실제 TRUE\u001b[0m\n\u001b[1;37m    ^\u001b[0m\n\u001b[1;31mSyntaxError\u001b[0m\u001b[1;31m:\u001b[0m invalid syntax\n"
     ]
    }
   ],
   "source": [
    "# (TP+TN) / TP+TN+FP+FN\n",
    "# print(\"accuracy :%.2f\" %accuracy_score(y_test, y_pred)) \n",
    "=> 그냥 다 TRUE로 하면 90%인데?\n",
    "\n",
    "# TP / TP+FP\n",
    "# print(\"precision_score :%.2f\" %precision_score(y_test, y_pred))\n",
    "=> 얼마나 적절하게 맞췄는가?, TRUE 예측 중에  실제 TRUE\n",
    "\n",
    "# (TP+TN) / TP+FN\n",
    "# print(\"recall_score :%.2f\" %recall_score(y_test, y_pred))\n",
    "\n",
    "# print(\"f1_score :%.2f\" %f1_score(y_test, y_pred))"
   ]
  },
  {
   "cell_type": "code",
   "execution_count": 24,
   "metadata": {},
   "outputs": [
    {
     "name": "stdout",
     "output_type": "stream",
     "text": [
      "[[ 1 10]\n",
      " [ 0 13]]\n"
     ]
    }
   ],
   "source": [
    "from sklearn.metrics import confusion_matrix\n",
    "confmat = confusion_matrix(y_test, y_pred)\n",
    "print(confmat)\n",
    "# [[]\n",
    "# []]"
   ]
  },
  {
   "cell_type": "code",
   "execution_count": null,
   "metadata": {},
   "outputs": [],
   "source": [
    "실0[][]\n",
    "실1[][]\n",
    "  예0예1\n",
    "TP : 실제 T, 예측 P // 진짜 posi 54\n",
    "TN : 실제 F, 예측 N // 진짜 nega8\n",
    "FP : 실제 F, 예측 P 가짜 posi 31\n",
    "FN : 실제 T, 예측 n 가짜 false 1\n",
    "F[TN][FP]\n",
    "T[FN][TP]\n",
    "  N P\n",
    "정확도 62(54+8) / 94(54+8+31+1)  = 0.659\n",
    "정밀도 54 / 85(54+31) = 0.635\n",
    "재현율 54 / 55(54 + 1) = 0.9818\n",
    "F1score 2*( 0.635* 0.9818) / ( 0.635+ 0.9818)\n",
    "    \n",
    "# 특이도 specificity 모델이 false로 예측한 정답중 실제 false\n",
    "tn / tn+fp\n"
   ]
  },
  {
   "cell_type": "code",
   "execution_count": 25,
   "metadata": {},
   "outputs": [
    {
     "ename": "SyntaxError",
     "evalue": "invalid syntax (<ipython-input-25-d0374b7b4cfe>, line 3)",
     "output_type": "error",
     "traceback": [
      "\u001b[1;36m  File \u001b[1;32m\"<ipython-input-25-d0374b7b4cfe>\"\u001b[1;36m, line \u001b[1;32m3\u001b[0m\n\u001b[1;33m    y : tpr true positive rate 진짜 양성비율\u001b[0m\n\u001b[1;37m            ^\u001b[0m\n\u001b[1;31mSyntaxError\u001b[0m\u001b[1;31m:\u001b[0m invalid syntax\n"
     ]
    }
   ],
   "source": [
    "roc\n",
    "roc\n",
    "y : tpr true positive rate 진짜 양성비율\n",
    "x : Fpr false positive rate 가짜 양성비율 1-특이율\n",
    "auc (Area under the curve) : 곡선 아래 면적"
   ]
  },
  {
   "cell_type": "code",
   "execution_count": 26,
   "metadata": {},
   "outputs": [
    {
     "name": "stdout",
     "output_type": "stream",
     "text": [
      "AUC : 0.580\n"
     ]
    }
   ],
   "source": [
    "# roc\n",
    "from sklearn.metrics import roc_curve, roc_auc_score\n",
    "import matplotlib.pyplot as plt\n",
    "# y_pred 예측값\n",
    "# y_pred_probability 예측값의 확률값\n",
    "y_pred_probability = lr.predict_proba(x_test)[:,1]\n",
    "false_positive_rate, true_positive_rate, thresholds = \\\n",
    "            roc_curve(y_test, y_pred_probability)\n",
    "roc_auc = roc_auc_score(y_test, y_pred_probability)\n",
    "print('AUC : %.3f' % roc_auc)"
   ]
  },
  {
   "cell_type": "code",
   "execution_count": 27,
   "metadata": {},
   "outputs": [
    {
     "data": {
      "text/plain": [
       "<matplotlib.legend.Legend at 0x1998d54e430>"
      ]
     },
     "execution_count": 27,
     "metadata": {},
     "output_type": "execute_result"
    },
    {
     "data": {
      "image/png": "[encoded data removed]",
      "text/plain": [
       "<Figure size 360x288 with 1 Axes>"
      ]
     },
     "metadata": {
      "needs_background": "light"
     },
     "output_type": "display_data"
    }
   ],
   "source": [
    "plt.rcParams['figure.figsize'] = [5, 4]\n",
    "plt.plot(false_positive_rate, true_positive_rate, \\\n",
    "         label='ROC  Curve(area = %0.3f)' % roc_auc, \n",
    "         color = 'red', linewidth=4.0)\n",
    "plt.plot([0,1], [0,1], 'k--')\n",
    "plt.xlim([0.0, 1.0])\n",
    "plt.ylim([0.0, 1.0])\n",
    "plt.xlabel('False Positive Rate')\n",
    "plt.ylabel('True Positive Rate')\n",
    "plt.title('ROC curve of Logistic regression')\n",
    "plt.legend(loc='lower right')"
   ]
  },
  {
   "cell_type": "code",
   "execution_count": null,
   "metadata": {},
   "outputs": [],
   "source": []
  },
  {
   "cell_type": "code",
   "execution_count": null,
   "metadata": {},
   "outputs": [],
   "source": []
  },
  {
   "cell_type": "code",
   "execution_count": null,
   "metadata": {},
   "outputs": [],
   "source": []
  },
  {
   "cell_type": "code",
   "execution_count": null,
   "metadata": {},
   "outputs": [],
   "source": []
  },
  {
   "cell_type": "code",
   "execution_count": null,
   "metadata": {},
   "outputs": [],
   "source": []
  },
  {
   "cell_type": "code",
   "execution_count": null,
   "metadata": {},
   "outputs": [],
   "source": []
  },
  {
   "cell_type": "code",
   "execution_count": null,
   "metadata": {},
   "outputs": [],
   "source": []
  },
  {
   "cell_type": "code",
   "execution_count": null,
   "metadata": {},
   "outputs": [],
   "source": []
  },
  {
   "cell_type": "code",
   "execution_count": null,
   "metadata": {},
   "outputs": [],
   "source": []
  },
  {
   "cell_type": "code",
   "execution_count": null,
   "metadata": {},
   "outputs": [],
   "source": []
  },
  {
   "cell_type": "code",
   "execution_count": null,
   "metadata": {},
   "outputs": [],
   "source": []
  },
  {
   "cell_type": "code",
   "execution_count": null,
   "metadata": {},
   "outputs": [],
   "source": []
  },
  {
   "cell_type": "code",
   "execution_count": null,
   "metadata": {},
   "outputs": [],
   "source": []
  },
  {
   "cell_type": "code",
   "execution_count": null,
   "metadata": {},
   "outputs": [],
   "source": []
  },
  {
   "cell_type": "code",
   "execution_count": null,
   "metadata": {},
   "outputs": [],
   "source": []
  },
  {
   "cell_type": "code",
   "execution_count": null,
   "metadata": {},
   "outputs": [],
   "source": []
  },
  {
   "cell_type": "code",
   "execution_count": null,
   "metadata": {},
   "outputs": [],
   "source": []
  },
  {
   "cell_type": "code",
   "execution_count": null,
   "metadata": {},
   "outputs": [],
   "source": []
  },
  {
   "cell_type": "code",
   "execution_count": null,
   "metadata": {},
   "outputs": [],
   "source": []
  },
  {
   "cell_type": "code",
   "execution_count": null,
   "metadata": {},
   "outputs": [],
   "source": []
  },
  {
   "cell_type": "code",
   "execution_count": null,
   "metadata": {},
   "outputs": [],
   "source": []
  },
  {
   "cell_type": "code",
   "execution_count": null,
   "metadata": {},
   "outputs": [],
   "source": []
  },
  {
   "cell_type": "code",
   "execution_count": null,
   "metadata": {},
   "outputs": [],
   "source": []
  },
  {
   "cell_type": "code",
   "execution_count": null,
   "metadata": {},
   "outputs": [],
   "source": []
  },
  {
   "cell_type": "code",
   "execution_count": null,
   "metadata": {},
   "outputs": [],
   "source": []
  },
  {
   "cell_type": "code",
   "execution_count": null,
   "metadata": {},
   "outputs": [],
   "source": []
  },
  {
   "cell_type": "code",
   "execution_count": null,
   "metadata": {},
   "outputs": [],
   "source": []
  },
  {
   "cell_type": "code",
   "execution_count": null,
   "metadata": {},
   "outputs": [],
   "source": []
  },
  {
   "cell_type": "code",
   "execution_count": null,
   "metadata": {},
   "outputs": [],
   "source": []
  },
  {
   "cell_type": "code",
   "execution_count": null,
   "metadata": {},
   "outputs": [],
   "source": []
  },
  {
   "cell_type": "code",
   "execution_count": null,
   "metadata": {},
   "outputs": [],
   "source": []
  },
  {
   "cell_type": "code",
   "execution_count": null,
   "metadata": {},
   "outputs": [],
   "source": []
  },
  {
   "cell_type": "code",
   "execution_count": null,
   "metadata": {},
   "outputs": [],
   "source": []
  },
  {
   "cell_type": "code",
   "execution_count": null,
   "metadata": {},
   "outputs": [],
   "source": []
  },
  {
   "cell_type": "code",
   "execution_count": null,
   "metadata": {},
   "outputs": [],
   "source": []
  },
  {
   "cell_type": "code",
   "execution_count": null,
   "metadata": {},
   "outputs": [],
   "source": []
  },
  {
   "cell_type": "code",
   "execution_count": null,
   "metadata": {},
   "outputs": [],
   "source": []
  },
  {
   "cell_type": "code",
   "execution_count": null,
   "metadata": {},
   "outputs": [],
   "source": []
  },
  {
   "cell_type": "code",
   "execution_count": null,
   "metadata": {},
   "outputs": [],
   "source": []
  },
  {
   "cell_type": "code",
   "execution_count": null,
   "metadata": {},
   "outputs": [],
   "source": []
  },
  {
   "cell_type": "code",
   "execution_count": null,
   "metadata": {},
   "outputs": [],
   "source": []
  },
  {
   "cell_type": "code",
   "execution_count": null,
   "metadata": {},
   "outputs": [],
   "source": []
  },
  {
   "cell_type": "code",
   "execution_count": null,
   "metadata": {},
   "outputs": [],
   "source": []
  },
  {
   "cell_type": "code",
   "execution_count": null,
   "metadata": {},
   "outputs": [],
   "source": []
  },
  {
   "cell_type": "code",
   "execution_count": null,
   "metadata": {},
   "outputs": [],
   "source": []
  },
  {
   "cell_type": "code",
   "execution_count": null,
   "metadata": {},
   "outputs": [],
   "source": []
  },
  {
   "cell_type": "code",
   "execution_count": null,
   "metadata": {},
   "outputs": [],
   "source": []
  },
  {
   "cell_type": "code",
   "execution_count": null,
   "metadata": {},
   "outputs": [],
   "source": []
  },
  {
   "cell_type": "code",
   "execution_count": null,
   "metadata": {},
   "outputs": [],
   "source": []
  },
  {
   "cell_type": "code",
   "execution_count": null,
   "metadata": {},
   "outputs": [],
   "source": []
  },
  {
   "cell_type": "code",
   "execution_count": null,
   "metadata": {},
   "outputs": [],
   "source": []
  },
  {
   "cell_type": "code",
   "execution_count": null,
   "metadata": {},
   "outputs": [],
   "source": []
  },
  {
   "cell_type": "code",
   "execution_count": null,
   "metadata": {},
   "outputs": [],
   "source": []
  },
  {
   "cell_type": "code",
   "execution_count": null,
   "metadata": {},
   "outputs": [],
   "source": []
  },
  {
   "cell_type": "code",
   "execution_count": null,
   "metadata": {},
   "outputs": [],
   "source": []
  },
  {
   "cell_type": "code",
   "execution_count": null,
   "metadata": {},
   "outputs": [],
   "source": []
  },
  {
   "cell_type": "code",
   "execution_count": null,
   "metadata": {},
   "outputs": [],
   "source": []
  },
  {
   "cell_type": "code",
   "execution_count": null,
   "metadata": {},
   "outputs": [],
   "source": []
  },
  {
   "cell_type": "code",
   "execution_count": null,
   "metadata": {},
   "outputs": [],
   "source": []
  },
  {
   "cell_type": "code",
   "execution_count": null,
   "metadata": {},
   "outputs": [],
   "source": []
  },
  {
   "cell_type": "code",
   "execution_count": null,
   "metadata": {},
   "outputs": [],
   "source": []
  },
  {
   "cell_type": "code",
   "execution_count": null,
   "metadata": {},
   "outputs": [],
   "source": []
  },
  {
   "cell_type": "code",
   "execution_count": null,
   "metadata": {},
   "outputs": [],
   "source": []
  },
  {
   "cell_type": "code",
   "execution_count": null,
   "metadata": {},
   "outputs": [],
   "source": []
  },
  {
   "cell_type": "code",
   "execution_count": null,
   "metadata": {},
   "outputs": [],
   "source": []
  },
  {
   "cell_type": "code",
   "execution_count": null,
   "metadata": {},
   "outputs": [],
   "source": []
  },
  {
   "cell_type": "code",
   "execution_count": null,
   "metadata": {},
   "outputs": [],
   "source": []
  },
  {
   "cell_type": "code",
   "execution_count": null,
   "metadata": {},
   "outputs": [],
   "source": []
  },
  {
   "cell_type": "code",
   "execution_count": null,
   "metadata": {},
   "outputs": [],
   "source": []
  },
  {
   "cell_type": "code",
   "execution_count": null,
   "metadata": {},
   "outputs": [],
   "source": []
  },
  {
   "cell_type": "code",
   "execution_count": null,
   "metadata": {},
   "outputs": [],
   "source": []
  },
  {
   "cell_type": "code",
   "execution_count": null,
   "metadata": {},
   "outputs": [],
   "source": []
  },
  {
   "cell_type": "code",
   "execution_count": null,
   "metadata": {},
   "outputs": [],
   "source": []
  },
  {
   "cell_type": "code",
   "execution_count": null,
   "metadata": {},
   "outputs": [],
   "source": []
  },
  {
   "cell_type": "code",
   "execution_count": null,
   "metadata": {},
   "outputs": [],
   "source": []
  },
  {
   "cell_type": "code",
   "execution_count": null,
   "metadata": {},
   "outputs": [],
   "source": []
  },
  {
   "cell_type": "code",
   "execution_count": null,
   "metadata": {},
   "outputs": [],
   "source": []
  },
  {
   "cell_type": "code",
   "execution_count": null,
   "metadata": {},
   "outputs": [],
   "source": []
  },
  {
   "cell_type": "code",
   "execution_count": null,
   "metadata": {},
   "outputs": [],
   "source": []
  }
 ],
 "metadata": {
  "kernelspec": {
   "display_name": "Python 3",
   "language": "python",
   "name": "python3"
  },
  "language_info": {
   "codemirror_mode": {
    "name": "ipython",
    "version": 3
   },
   "file_extension": ".py",
   "mimetype": "text/x-python",
   "name": "python",
   "nbconvert_exporter": "python",
   "pygments_lexer": "ipython3",
   "version": "3.8.5"
  }
 },
 "nbformat": 4,
 "nbformat_minor": 4
}
