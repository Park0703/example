{
 "cells": [
  {
   "cell_type": "code",
   "execution_count": 1,
   "metadata": {},
   "outputs": [
    {
     "ename": "SyntaxError",
     "evalue": "invalid syntax (<ipython-input-1-880608218048>, line 1)",
     "output_type": "error",
     "traceback": [
      "\u001b[1;36m  File \u001b[1;32m\"<ipython-input-1-880608218048>\"\u001b[1;36m, line \u001b[1;32m1\u001b[0m\n\u001b[1;33m    RNN Recurrent Neural network : 순환 신경망\u001b[0m\n\u001b[1;37m        ^\u001b[0m\n\u001b[1;31mSyntaxError\u001b[0m\u001b[1;31m:\u001b[0m invalid syntax\n"
     ]
    }
   ],
   "source": [
    "RNN Recurrent Neural network : 순환 신경망\n",
    "    음성인식, 문장변역에 사용\n",
    "    embedding, simplernn 등\n",
    "    순차데이터 텍스트, 시계열 등\n",
    "    +\n",
    "    "
   ]
  },
  {
   "cell_type": "code",
   "execution_count": 1,
   "metadata": {},
   "outputs": [
    {
     "name": "stdout",
     "output_type": "stream",
     "text": [
      "{'<OOV>': 1, 'you': 2, 'are': 3, 'the': 4, 'best': 5, 'thing': 6, 'nice': 7}\n"
     ]
    }
   ],
   "source": [
    "# 토큰 : 의미를 가진 기본적인 문자열, 문법적 최소단위\n",
    "from tensorflow.keras.preprocessing.text import Tokenizer\n",
    "from tensorflow.keras.utils import to_categorical\n",
    "\n",
    "texts = ['You are the Best Thing', 'You are the Nice']\n",
    "# num_words : 10개의 토큰 분리 \n",
    "tokenizer = Tokenizer(num_words = 10, oov_token = '<OOV>') # oov 기존에 토큰화된 문자 없으면 대체되는값\n",
    "#문장을 토큰화\n",
    "# .fit_on_texts : texts 값을 토큰화함\n",
    "tokenizer.fit_on_texts(texts)\n",
    "# 텍스트 데이터를 정수 인덱스로 변환함\n",
    "sequences = tokenizer.texts_to_sequences(texts)\n",
    "# 이진형태 인코딩 함ㅎ\n",
    "binary_results = tokenizer.sequences_to_matrix(sequences, mode = 'binary')\n",
    "print(tokenizer.word_index) # 분석 결과 출력"
   ]
  },
  {
   "cell_type": "code",
   "execution_count": 2,
   "metadata": {},
   "outputs": [
    {
     "name": "stdout",
     "output_type": "stream",
     "text": [
      "[[2, 3, 4, 5, 6], [2, 3, 4, 7]]\n"
     ]
    }
   ],
   "source": [
    "print(sequences) # 정수로 변환"
   ]
  },
  {
   "cell_type": "code",
   "execution_count": 3,
   "metadata": {},
   "outputs": [
    {
     "name": "stdout",
     "output_type": "stream",
     "text": [
      "[[0. 0. 1. 1. 1. 1. 1. 0. 0. 0.]\n",
      " [0. 0. 1. 1. 1. 0. 0. 1. 0. 0.]]\n"
     ]
    }
   ],
   "source": [
    "print(binary_results)  # 정수를 2진 형태 인코딩"
   ]
  },
  {
   "cell_type": "code",
   "execution_count": 4,
   "metadata": {},
   "outputs": [
    {
     "name": "stdout",
     "output_type": "stream",
     "text": [
      "[[2, 3, 4, 1]]\n"
     ]
    }
   ],
   "source": [
    "test_text = ['You are the One']\n",
    "test_seq = tokenizer.texts_to_sequences(test_text)\n",
    "print(test_seq)"
   ]
  },
  {
   "cell_type": "code",
   "execution_count": 22,
   "metadata": {},
   "outputs": [
    {
     "name": "stderr",
     "output_type": "stream",
     "text": [
      "<__array_function__ internals>:5: VisibleDeprecationWarning: Creating an ndarray from ragged nested sequences (which is a list-or-tuple of lists-or-tuples-or ndarrays with different lengths or shapes) is deprecated. If you meant to do this, you must specify 'dtype=object' when creating the ndarray\n",
      "C:\\Users\\pc\\anaconda3\\lib\\site-packages\\tensorflow\\python\\keras\\datasets\\imdb.py:155: VisibleDeprecationWarning: Creating an ndarray from ragged nested sequences (which is a list-or-tuple of lists-or-tuples-or ndarrays with different lengths or shapes) is deprecated. If you meant to do this, you must specify 'dtype=object' when creating the ndarray\n",
      "  x_train, y_train = np.array(xs[:idx]), np.array(labels[:idx])\n",
      "C:\\Users\\pc\\anaconda3\\lib\\site-packages\\tensorflow\\python\\keras\\datasets\\imdb.py:156: VisibleDeprecationWarning: Creating an ndarray from ragged nested sequences (which is a list-or-tuple of lists-or-tuples-or ndarrays with different lengths or shapes) is deprecated. If you meant to do this, you must specify 'dtype=object' when creating the ndarray\n",
      "  x_test, y_test = np.array(xs[idx:]), np.array(labels[idx:])\n"
     ]
    },
    {
     "name": "stdout",
     "output_type": "stream",
     "text": [
      "(25000,) (25000,)\n"
     ]
    }
   ],
   "source": [
    "# imdb 리뷰 5만개, 50% 긍정, 부정, 전처리 완료 : 내용이숫자화\n",
    "from tensorflow.keras.datasets import imdb\n",
    "num_words = 10000\n",
    "(x_train, y_train), (x_test, y_test) = imdb.load_data(num_words = num_words)\n",
    "print(x_train.shape, x_test.shape)"
   ]
  },
  {
   "cell_type": "code",
   "execution_count": 23,
   "metadata": {},
   "outputs": [
    {
     "name": "stdout",
     "output_type": "stream",
     "text": [
      "[1, 14, 22, 16, 43, 530, 973, 1622, 1385, 65, 458, 4468, 66, 3941, 4, 173, 36, 256, 5, 25, 100, 43, 838, 112, 50, 670, 2, 9, 35, 480, 284, 5, 150, 4, 172, 112, 167, 2, 336, 385, 39, 4, 172, 4536, 1111, 17, 546, 38, 13, 447, 4, 192, 50, 16, 6, 147, 2025, 19, 14, 22, 4, 1920, 4613, 469, 4, 22, 71, 87, 12, 16, 43, 530, 38, 76, 15, 13, 1247, 4, 22, 17, 515, 17, 12, 16, 626, 18, 2, 5, 62, 386, 12, 8, 316, 8, 106, 5, 4, 2223, 5244, 16, 480, 66, 3785, 33, 4, 130, 12, 16, 38, 619, 5, 25, 124, 51, 36, 135, 48, 25, 1415, 33, 6, 22, 12, 215, 28, 77, 52, 5, 14, 407, 16, 82, 2, 8, 4, 107, 117, 5952, 15, 256, 4, 2, 7, 3766, 5, 723, 36, 71, 43, 530, 476, 26, 400, 317, 46, 7, 4, 2, 1029, 13, 104, 88, 4, 381, 15, 297, 98, 32, 2071, 56, 26, 141, 6, 194, 7486, 18, 4, 226, 22, 21, 134, 476, 26, 480, 5, 144, 30, 5535, 18, 51, 36, 28, 224, 92, 25, 104, 4, 226, 65, 16, 38, 1334, 88, 12, 16, 283, 5, 16, 4472, 113, 103, 32, 15, 16, 5345, 19, 178, 32]\n"
     ]
    }
   ],
   "source": [
    "print(x_train[0])"
   ]
  },
  {
   "cell_type": "code",
   "execution_count": 24,
   "metadata": {},
   "outputs": [
    {
     "name": "stdout",
     "output_type": "stream",
     "text": [
      "1번째 가장 높은 빈도단어는 the\n",
      "2번째 가장 높은 빈도단어는 and\n",
      "3번째 가장 높은 빈도단어는 a\n",
      "4번째 가장 높은 빈도단어는 of\n",
      "5번째 가장 높은 빈도단어는 to\n"
     ]
    }
   ],
   "source": [
    "igwi = {}\n",
    "for key, value in imdb.get_word_index().items() :\n",
    "    igwi[value] = key\n",
    "for i in range(1, 6) :\n",
    "    print('{}번째 가장 높은 빈도단어는 {}'.format(i, igwi[i]))"
   ]
  },
  {
   "cell_type": "code",
   "execution_count": 25,
   "metadata": {},
   "outputs": [
    {
     "name": "stdout",
     "output_type": "stream",
     "text": [
      "[1 0 0 1 0 0 1 0 1 0]\n"
     ]
    }
   ],
   "source": [
    "print(y_train[:10])"
   ]
  },
  {
   "cell_type": "code",
   "execution_count": 26,
   "metadata": {},
   "outputs": [
    {
     "name": "stdout",
     "output_type": "stream",
     "text": [
      "238.71364 178.0\n"
     ]
    }
   ],
   "source": [
    "import numpy as np\n",
    "lengths = np.array([len(x) for x in x_train])\n",
    "print(np.mean(lengths), np.median(lengths))\n"
   ]
  },
  {
   "cell_type": "code",
   "execution_count": 27,
   "metadata": {},
   "outputs": [
    {
     "data": {
      "image/png": "[encoded data removed]",
      "text/plain": [
       "<Figure size 432x288 with 1 Axes>"
      ]
     },
     "metadata": {
      "needs_background": "light"
     },
     "output_type": "display_data"
    }
   ],
   "source": [
    "# 히스토그램으로 단어 갯수\n",
    "import matplotlib.pyplot as plt\n",
    "plt.hist(lengths)\n",
    "plt.xlabel('length')\n",
    "plt.ylabel('frequency')\n",
    "plt.show()"
   ]
  },
  {
   "cell_type": "code",
   "execution_count": 28,
   "metadata": {},
   "outputs": [
    {
     "name": "stdout",
     "output_type": "stream",
     "text": [
      "[[1 2 3 0 0]]\n",
      "[[4 5 6 7 8]]\n"
     ]
    }
   ],
   "source": [
    "# padding\n",
    "from tensorflow.keras.preprocessing.sequence import pad_sequences\n",
    "a1 = [[1,2,3]]\n",
    "a2 = [[1,2,3,4,5,6,7,8]]\n",
    "a1_post = pad_sequences(a1, maxlen=5, padding = 'post')\n",
    "a2_post = pad_sequences(a2, maxlen=5, padding = 'post')\n",
    "print(a1_post)\n",
    "print(a2_post)"
   ]
  },
  {
   "cell_type": "code",
   "execution_count": 29,
   "metadata": {},
   "outputs": [
    {
     "name": "stdout",
     "output_type": "stream",
     "text": [
      "befor pad 218\n",
      "after pad 500\n"
     ]
    }
   ],
   "source": [
    "# 분석을 위해 데이터의 길이를 통일하게 처리 : padding\n",
    "# 패딩 : 데이터 길이기 지정 길이보다 짧으면 0으로 채움\n",
    "from tensorflow.keras.preprocessing.sequence import pad_sequences\n",
    "max_len = 500\n",
    "print('befor pad', len(x_train[0])) # 218\n",
    "# pre 앞쪽을 0으로\n",
    "pad_x_train = pad_sequences(x_train, maxlen = max_len, padding = 'pre')\n",
    "pad_x_test = pad_sequences(x_test, maxlen = max_len, padding = 'pre')\n",
    "print('after pad', len(pad_x_train[0]))"
   ]
  },
  {
   "cell_type": "code",
   "execution_count": 30,
   "metadata": {},
   "outputs": [
    {
     "name": "stdout",
     "output_type": "stream",
     "text": [
      "after pad [   0    0    0    0    0    0    0    0    0    0    0    0    0    0\n",
      "    0    0    0    0    0    0    0    0    0    0    0    0    0    0\n",
      "    0    0    0    0    0    0    0    0    0    0    0    0    0    0\n",
      "    0    0    0    0    0    0    0    0    0    0    0    0    0    0\n",
      "    0    0    0    0    0    0    0    0    0    0    0    0    0    0\n",
      "    0    0    0    0    0    0    0    0    0    0    0    0    0    0\n",
      "    0    0    0    0    0    0    0    0    0    0    0    0    0    0\n",
      "    0    0    0    0    0    0    0    0    0    0    0    0    0    0\n",
      "    0    0    0    0    0    0    0    0    0    0    0    0    0    0\n",
      "    0    0    0    0    0    0    0    0    0    0    0    0    0    0\n",
      "    0    0    0    0    0    0    0    0    0    0    0    0    0    0\n",
      "    0    0    0    0    0    0    0    0    0    0    0    0    0    0\n",
      "    0    0    0    0    0    0    0    0    0    0    0    0    0    0\n",
      "    0    0    0    0    0    0    0    0    0    0    0    0    0    0\n",
      "    0    0    0    0    0    0    0    0    0    0    0    0    0    0\n",
      "    0    0    0    0    0    0    0    0    0    0    0    0    0    0\n",
      "    0    0    0    0    0    0    0    0    0    0    0    0    0    0\n",
      "    0    0    0    0    0    0    0    0    0    0    0    0    0    0\n",
      "    0    0    0    0    0    0    0    0    0    0    0    0    0    0\n",
      "    0    0    0    0    0    0    0    0    0    0    0    0    0    0\n",
      "    0    0    1   14   22   16   43  530  973 1622 1385   65  458 4468\n",
      "   66 3941    4  173   36  256    5   25  100   43  838  112   50  670\n",
      "    2    9   35  480  284    5  150    4  172  112  167    2  336  385\n",
      "   39    4  172 4536 1111   17  546   38   13  447    4  192   50   16\n",
      "    6  147 2025   19   14   22    4 1920 4613  469    4   22   71   87\n",
      "   12   16   43  530   38   76   15   13 1247    4   22   17  515   17\n",
      "   12   16  626   18    2    5   62  386   12    8  316    8  106    5\n",
      "    4 2223 5244   16  480   66 3785   33    4  130   12   16   38  619\n",
      "    5   25  124   51   36  135   48   25 1415   33    6   22   12  215\n",
      "   28   77   52    5   14  407   16   82    2    8    4  107  117 5952\n",
      "   15  256    4    2    7 3766    5  723   36   71   43  530  476   26\n",
      "  400  317   46    7    4    2 1029   13  104   88    4  381   15  297\n",
      "   98   32 2071   56   26  141    6  194 7486   18    4  226   22   21\n",
      "  134  476   26  480    5  144   30 5535   18   51   36   28  224   92\n",
      "   25  104    4  226   65   16   38 1334   88   12   16  283    5   16\n",
      " 4472  113  103   32   15   16 5345   19  178   32]\n"
     ]
    }
   ],
   "source": [
    "print('after pad',pad_x_train[0])"
   ]
  },
  {
   "cell_type": "code",
   "execution_count": 31,
   "metadata": {},
   "outputs": [
    {
     "name": "stdout",
     "output_type": "stream",
     "text": [
      "Model: \"sequential_2\"\n",
      "_________________________________________________________________\n",
      "Layer (type)                 Output Shape              Param #   \n",
      "=================================================================\n",
      "embedding_1 (Embedding)      (None, 500, 32)           320000    \n",
      "_________________________________________________________________\n",
      "flatten_1 (Flatten)          (None, 16000)             0         \n",
      "_________________________________________________________________\n",
      "dense_2 (Dense)              (None, 1)                 16001     \n",
      "=================================================================\n",
      "Total params: 336,001\n",
      "Trainable params: 336,001\n",
      "Non-trainable params: 0\n",
      "_________________________________________________________________\n"
     ]
    }
   ],
   "source": [
    "# embedding 층 : rnn 가장 기본층, 첫번째 층으로 사용됨\n",
    "from tensorflow.keras.models import Sequential\n",
    "from tensorflow.keras.layers import Dense, Embedding, Flatten\n",
    "\n",
    "model = Sequential()\n",
    "# input_dim 입력 데이터 차수\n",
    "# output_dim 출력 차수\n",
    "# input_length 입력데이터 갯수\n",
    "model.add(Embedding(input_dim = num_words, output_dim = 32, input_length = max_len)) \n",
    "model.add(Flatten())\n",
    "model.add(Dense(1, activation = 'sigmoid'))\n",
    "model.compile(optimizer = 'adam', loss = 'binary_crossentropy', metrics = ['acc'])\n",
    "model.summary()"
   ]
  },
  {
   "cell_type": "code",
   "execution_count": 32,
   "metadata": {},
   "outputs": [
    {
     "name": "stdout",
     "output_type": "stream",
     "text": [
      "Epoch 1/30\n",
      "625/625 [==============================] - 2s 3ms/step - loss: 0.4643 - acc: 0.7681 - val_loss: 0.2965 - val_acc: 0.8802\n",
      "Epoch 2/30\n",
      "625/625 [==============================] - 2s 3ms/step - loss: 0.2000 - acc: 0.9270 - val_loss: 0.2833 - val_acc: 0.8820\n",
      "Epoch 3/30\n",
      "625/625 [==============================] - 2s 3ms/step - loss: 0.1091 - acc: 0.9686 - val_loss: 0.2893 - val_acc: 0.8850\n",
      "Epoch 4/30\n",
      "625/625 [==============================] - 2s 3ms/step - loss: 0.0533 - acc: 0.9895 - val_loss: 0.3153 - val_acc: 0.8848\n",
      "Epoch 5/30\n",
      "625/625 [==============================] - 2s 3ms/step - loss: 0.0249 - acc: 0.9975 - val_loss: 0.3459 - val_acc: 0.8792\n",
      "Epoch 6/30\n",
      "625/625 [==============================] - 2s 3ms/step - loss: 0.0122 - acc: 0.9995 - val_loss: 0.3615 - val_acc: 0.8814\n",
      "Epoch 7/30\n",
      "625/625 [==============================] - 2s 3ms/step - loss: 0.0067 - acc: 0.9998 - val_loss: 0.3851 - val_acc: 0.8820\n",
      "Epoch 8/30\n",
      "625/625 [==============================] - 2s 3ms/step - loss: 0.0039 - acc: 0.9999 - val_loss: 0.4093 - val_acc: 0.8796\n",
      "Epoch 9/30\n",
      "625/625 [==============================] - 2s 3ms/step - loss: 0.0023 - acc: 1.0000 - val_loss: 0.4272 - val_acc: 0.8796\n",
      "Epoch 10/30\n",
      "625/625 [==============================] - 2s 3ms/step - loss: 0.0015 - acc: 1.0000 - val_loss: 0.4471 - val_acc: 0.8794\n",
      "Epoch 11/30\n",
      "625/625 [==============================] - 2s 3ms/step - loss: 9.5945e-04 - acc: 1.0000 - val_loss: 0.4679 - val_acc: 0.8786\n",
      "Epoch 12/30\n",
      "625/625 [==============================] - 2s 3ms/step - loss: 6.6615e-04 - acc: 1.0000 - val_loss: 0.4862 - val_acc: 0.8798\n",
      "Epoch 13/30\n",
      "625/625 [==============================] - 2s 3ms/step - loss: 4.3527e-04 - acc: 1.0000 - val_loss: 0.5048 - val_acc: 0.8784\n",
      "Epoch 14/30\n",
      "625/625 [==============================] - 2s 3ms/step - loss: 2.9935e-04 - acc: 1.0000 - val_loss: 0.5270 - val_acc: 0.8776\n",
      "Epoch 15/30\n",
      "625/625 [==============================] - 2s 3ms/step - loss: 2.0715e-04 - acc: 1.0000 - val_loss: 0.5429 - val_acc: 0.8790\n",
      "Epoch 16/30\n",
      "625/625 [==============================] - 2s 3ms/step - loss: 1.4316e-04 - acc: 1.0000 - val_loss: 0.5626 - val_acc: 0.8778\n",
      "Epoch 17/30\n",
      "625/625 [==============================] - 2s 3ms/step - loss: 9.7496e-05 - acc: 1.0000 - val_loss: 0.5794 - val_acc: 0.8774\n",
      "Epoch 18/30\n",
      "625/625 [==============================] - 2s 3ms/step - loss: 6.8780e-05 - acc: 1.0000 - val_loss: 0.5963 - val_acc: 0.8794\n",
      "Epoch 19/30\n",
      "625/625 [==============================] - 2s 3ms/step - loss: 4.7817e-05 - acc: 1.0000 - val_loss: 0.6149 - val_acc: 0.8782\n",
      "Epoch 20/30\n",
      "625/625 [==============================] - 2s 3ms/step - loss: 3.3617e-05 - acc: 1.0000 - val_loss: 0.6325 - val_acc: 0.8788\n",
      "Epoch 21/30\n",
      "625/625 [==============================] - 2s 3ms/step - loss: 2.3715e-05 - acc: 1.0000 - val_loss: 0.6503 - val_acc: 0.8778\n",
      "Epoch 22/30\n",
      "625/625 [==============================] - 2s 3ms/step - loss: 1.6877e-05 - acc: 1.0000 - val_loss: 0.6675 - val_acc: 0.8786\n",
      "Epoch 23/30\n",
      "625/625 [==============================] - 2s 3ms/step - loss: 1.1974e-05 - acc: 1.0000 - val_loss: 0.6837 - val_acc: 0.8780\n",
      "Epoch 24/30\n",
      "625/625 [==============================] - 2s 3ms/step - loss: 8.5706e-06 - acc: 1.0000 - val_loss: 0.7008 - val_acc: 0.8782\n",
      "Epoch 25/30\n",
      "625/625 [==============================] - 2s 3ms/step - loss: 6.1937e-06 - acc: 1.0000 - val_loss: 0.7186 - val_acc: 0.8776\n",
      "Epoch 26/30\n",
      "625/625 [==============================] - 2s 3ms/step - loss: 4.4893e-06 - acc: 1.0000 - val_loss: 0.7381 - val_acc: 0.8760\n",
      "Epoch 27/30\n",
      "625/625 [==============================] - 2s 3ms/step - loss: 3.1823e-06 - acc: 1.0000 - val_loss: 0.7533 - val_acc: 0.8766\n",
      "Epoch 28/30\n",
      "625/625 [==============================] - 2s 3ms/step - loss: 2.3183e-06 - acc: 1.0000 - val_loss: 0.7697 - val_acc: 0.8766\n",
      "Epoch 29/30\n",
      "625/625 [==============================] - 2s 3ms/step - loss: 1.7335e-06 - acc: 1.0000 - val_loss: 0.7866 - val_acc: 0.8774\n",
      "Epoch 30/30\n",
      "625/625 [==============================] - 2s 3ms/step - loss: 1.2663e-06 - acc: 1.0000 - val_loss: 0.8028 - val_acc: 0.8768\n"
     ]
    }
   ],
   "source": [
    "history = model.fit(pad_x_train, y_train, batch_size = 32, epochs = 30, validation_split = 0.2)"
   ]
  },
  {
   "cell_type": "code",
   "execution_count": 33,
   "metadata": {},
   "outputs": [
    {
     "data": {
      "image/png": "[encoded data removed]",
      "text/plain": [
       "<Figure size 864x288 with 2 Axes>"
      ]
     },
     "metadata": {
      "needs_background": "light"
     },
     "output_type": "display_data"
    }
   ],
   "source": [
    "import matplotlib.pyplot as plt\n",
    "plt.figure(figsize = (12, 4))\n",
    "plt.subplot(1,2,1)\n",
    "plt.plot(history.history['loss'], 'b-', label='loss')\n",
    "plt.plot(history.history['val_loss'], 'r--', label='val_loss')\n",
    "plt.xlabel('Epoch')\n",
    "plt.legend()\n",
    "plt.subplot(1,2,2)\n",
    "plt.plot(history.history['acc'], 'g-', label='acc')\n",
    "plt.plot(history.history['val_acc'], 'k--', label='val_acc')\n",
    "plt.xlabel('Epoch')\n",
    "plt.legend()\n",
    "plt.show()"
   ]
  },
  {
   "cell_type": "code",
   "execution_count": null,
   "metadata": {},
   "outputs": [],
   "source": [
    "model.evaluate(test_generator)"
   ]
  },
  {
   "cell_type": "code",
   "execution_count": 16,
   "metadata": {},
   "outputs": [],
   "source": [
    "# 평가"
   ]
  },
  {
   "cell_type": "code",
   "execution_count": 17,
   "metadata": {},
   "outputs": [
    {
     "ename": "SyntaxError",
     "evalue": "invalid syntax (<ipython-input-17-9625af8b9b13>, line 2)",
     "output_type": "error",
     "traceback": [
      "\u001b[1;36m  File \u001b[1;32m\"<ipython-input-17-9625af8b9b13>\"\u001b[1;36m, line \u001b[1;32m2\u001b[0m\n\u001b[1;33m    embedding 층은 데이터 표현을 학습하여 데이터 사전 구축하여 이해하는 정도\u001b[0m\n\u001b[1;37m              ^\u001b[0m\n\u001b[1;31mSyntaxError\u001b[0m\u001b[1;31m:\u001b[0m invalid syntax\n"
     ]
    }
   ],
   "source": [
    "rnn\n",
    "embedding 층은 데이터 표현을 학습하여 데이터 사전 구축하여 이해하는 정도\n",
    "단어의 순서와 맥락까지 고려해야함 => embedding 층에서는 부족함\n",
    "simple rnn 사용하기"
   ]
  },
  {
   "cell_type": "code",
   "execution_count": 18,
   "metadata": {},
   "outputs": [
    {
     "data": {
      "text/plain": [
       "<matplotlib.legend.Legend at 0x2790c2c34f0>"
      ]
     },
     "execution_count": 18,
     "metadata": {},
     "output_type": "execute_result"
    },
    {
     "data": {
      "image/png": "[encoded data removed]",
      "text/plain": [
       "<Figure size 720x360 with 1 Axes>"
      ]
     },
     "metadata": {
      "needs_background": "light"
     },
     "output_type": "display_data"
    }
   ],
   "source": [
    "# cos 함수를 이용해 데이터 만들기\n",
    "import numpy as np\n",
    "import matplotlib.pyplot as plt\n",
    "np.random.seed(2020)\n",
    "time = np.arange(30*12+1)\n",
    "month_time = (time%30)/30\n",
    "time_series = 20*np.where(month_time < 0.5,\n",
    "                         np.cos(2*np.pi*month_time),\n",
    "                         np.cos(2*np.pi*month_time) +np.random.random(361))\n",
    "plt.figure(figsize = (10, 5))\n",
    "plt.title('timeseries data')\n",
    "plt.xlabel('time')\n",
    "plt.ylabel('value')\n",
    "plt.plot(np.arange(0, 30*11+1), time_series[:30*11+1], color = 'black', alpha = 0.7, label = 'train')\n",
    "plt.plot(np.arange(30*11, 30*12+1), time_series[30*11:], color = 'orange', label = 'test')\n",
    "plt.legend()"
   ]
  },
  {
   "cell_type": "code",
   "execution_count": 19,
   "metadata": {},
   "outputs": [
    {
     "name": "stdout",
     "output_type": "stream",
     "text": [
      "학습데이터 (330, 10, 1) , (330, 1)\n",
      "테스트데이터 (21, 10, 1) , (21, 1)\n"
     ]
    }
   ],
   "source": [
    "def make_sequence(time_series, n) :\n",
    "    x_train, y_train = list(), list()\n",
    "    for i in range(len(time_series)) :\n",
    "        x = time_series[i:(i+n)]\n",
    "        if ( i + n ) < len(time_series) :\n",
    "            x_train.append(x)\n",
    "            y_train.append(time_series[i+n])\n",
    "        else :\n",
    "            break\n",
    "    return np.array(x_train), np.array(y_train)\n",
    "n = 10\n",
    "x_train, y_train = make_sequence(time_series, n)\n",
    "x_train = x_train.reshape(-1, n, 1)\n",
    "y_train = y_train.reshape(-1, 1)\n",
    "patial_x_train = x_train[:30*11]\n",
    "patial_y_train = y_train[:30*11]\n",
    "x_test = x_train[30*11:]\n",
    "y_test = y_train[30*11:]\n",
    "print(\"학습데이터\", patial_x_train.shape, \",\", patial_y_train.shape)\n",
    "print(\"테스트데이터\", x_test.shape, \",\", y_test.shape)"
   ]
  },
  {
   "cell_type": "code",
   "execution_count": 20,
   "metadata": {},
   "outputs": [
    {
     "name": "stdout",
     "output_type": "stream",
     "text": [
      "[ 1  2  3  4  5  6  7  8  9 10] | 11\n",
      "[ 2  3  4  5  6  7  8  9 10 11] | 12\n",
      "[ 3  4  5  6  7  8  9 10 11 12] | 13\n"
     ]
    }
   ],
   "source": [
    "test_arr = np.arange(100)\n",
    "a, b = make_sequence(test_arr, 10)\n",
    "for i in range(1, 4) :\n",
    "    print(a[i], '|', b[i])"
   ]
  },
  {
   "cell_type": "code",
   "execution_count": 21,
   "metadata": {},
   "outputs": [
    {
     "name": "stdout",
     "output_type": "stream",
     "text": [
      "Model: \"sequential_1\"\n",
      "_________________________________________________________________\n",
      "Layer (type)                 Output Shape              Param #   \n",
      "=================================================================\n",
      "simple_rnn (SimpleRNN)       (None, 32)                1088      \n",
      "_________________________________________________________________\n",
      "dense_1 (Dense)              (None, 1)                 33        \n",
      "=================================================================\n",
      "Total params: 1,121\n",
      "Trainable params: 1,121\n",
      "Non-trainable params: 0\n",
      "_________________________________________________________________\n"
     ]
    }
   ],
   "source": [
    "# simpleRNN\n",
    "from tensorflow.keras.layers import SimpleRNN, Flatten, Dense\n",
    "from tensorflow.keras.models import Sequential\n",
    "model = Sequential()\n",
    "model.add(SimpleRNN(units = 32, activation = 'tanh', input_shape = (n, 1)))\n",
    "model.add(Dense(1, activation = 'linear'))\n",
    "model.compile(optimizer = 'adam', loss='mse')\n",
    "model.summary()"
   ]
  },
  {
   "cell_type": "code",
   "execution_count": null,
   "metadata": {},
   "outputs": [],
   "source": []
  },
  {
   "cell_type": "code",
   "execution_count": null,
   "metadata": {},
   "outputs": [],
   "source": []
  },
  {
   "cell_type": "code",
   "execution_count": null,
   "metadata": {},
   "outputs": [],
   "source": []
  },
  {
   "cell_type": "code",
   "execution_count": null,
   "metadata": {},
   "outputs": [],
   "source": []
  },
  {
   "cell_type": "code",
   "execution_count": null,
   "metadata": {},
   "outputs": [],
   "source": []
  },
  {
   "cell_type": "code",
   "execution_count": null,
   "metadata": {},
   "outputs": [],
   "source": []
  },
  {
   "cell_type": "code",
   "execution_count": null,
   "metadata": {},
   "outputs": [],
   "source": []
  },
  {
   "cell_type": "code",
   "execution_count": null,
   "metadata": {},
   "outputs": [],
   "source": []
  },
  {
   "cell_type": "code",
   "execution_count": null,
   "metadata": {},
   "outputs": [],
   "source": []
  },
  {
   "cell_type": "code",
   "execution_count": null,
   "metadata": {},
   "outputs": [],
   "source": []
  },
  {
   "cell_type": "code",
   "execution_count": null,
   "metadata": {},
   "outputs": [],
   "source": []
  },
  {
   "cell_type": "code",
   "execution_count": null,
   "metadata": {},
   "outputs": [],
   "source": []
  },
  {
   "cell_type": "code",
   "execution_count": null,
   "metadata": {},
   "outputs": [],
   "source": []
  },
  {
   "cell_type": "code",
   "execution_count": null,
   "metadata": {},
   "outputs": [],
   "source": []
  },
  {
   "cell_type": "code",
   "execution_count": null,
   "metadata": {},
   "outputs": [],
   "source": []
  },
  {
   "cell_type": "code",
   "execution_count": null,
   "metadata": {},
   "outputs": [],
   "source": []
  },
  {
   "cell_type": "code",
   "execution_count": null,
   "metadata": {},
   "outputs": [],
   "source": []
  },
  {
   "cell_type": "code",
   "execution_count": null,
   "metadata": {},
   "outputs": [],
   "source": []
  },
  {
   "cell_type": "code",
   "execution_count": null,
   "metadata": {},
   "outputs": [],
   "source": []
  },
  {
   "cell_type": "code",
   "execution_count": null,
   "metadata": {},
   "outputs": [],
   "source": []
  },
  {
   "cell_type": "code",
   "execution_count": null,
   "metadata": {},
   "outputs": [],
   "source": []
  },
  {
   "cell_type": "code",
   "execution_count": null,
   "metadata": {},
   "outputs": [],
   "source": []
  },
  {
   "cell_type": "code",
   "execution_count": null,
   "metadata": {},
   "outputs": [],
   "source": []
  },
  {
   "cell_type": "code",
   "execution_count": null,
   "metadata": {},
   "outputs": [],
   "source": []
  },
  {
   "cell_type": "code",
   "execution_count": null,
   "metadata": {},
   "outputs": [],
   "source": []
  },
  {
   "cell_type": "code",
   "execution_count": null,
   "metadata": {},
   "outputs": [],
   "source": []
  },
  {
   "cell_type": "code",
   "execution_count": null,
   "metadata": {},
   "outputs": [],
   "source": []
  }
 ],
 "metadata": {
  "kernelspec": {
   "display_name": "Python 3",
   "language": "python",
   "name": "python3"
  },
  "language_info": {
   "codemirror_mode": {
    "name": "ipython",
    "version": 3
   },
   "file_extension": ".py",
   "mimetype": "text/x-python",
   "name": "python",
   "nbconvert_exporter": "python",
   "pygments_lexer": "ipython3",
   "version": "3.8.5"
  }
 },
 "nbformat": 4,
 "nbformat_minor": 4
}
