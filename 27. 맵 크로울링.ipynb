{
 "cells": [
  {
   "cell_type": "code",
   "execution_count": 3,
   "metadata": {},
   "outputs": [
    {
     "ename": "InvalidSelectorException",
     "evalue": "Message: invalid selector: Unable to locate an element with the xpath expression //[@id='search.keyword.query'] because of the following error:\nSyntaxError: Failed to execute 'evaluate' on 'Document': The string '//[@id='search.keyword.query']' is not a valid XPath expression.\n  (Session info: chrome=92.0.4515.107)\n",
     "output_type": "error",
     "traceback": [
      "\u001b[1;31m---------------------------------------------------------------------------\u001b[0m",
      "\u001b[1;31mInvalidSelectorException\u001b[0m                  Traceback (most recent call last)",
      "\u001b[1;32m<ipython-input-3-6618a7be7e1f>\u001b[0m in \u001b[0;36m<module>\u001b[1;34m\u001b[0m\n\u001b[0;32m     14\u001b[0m \u001b[0mdriver\u001b[0m\u001b[1;33m.\u001b[0m\u001b[0mget\u001b[0m\u001b[1;33m(\u001b[0m\u001b[0msource_url\u001b[0m\u001b[1;33m)\u001b[0m\u001b[1;33m\u001b[0m\u001b[1;33m\u001b[0m\u001b[0m\n\u001b[0;32m     15\u001b[0m \u001b[1;31m# 검색창\u001b[0m\u001b[1;33m\u001b[0m\u001b[1;33m\u001b[0m\u001b[1;33m\u001b[0m\u001b[0m\n\u001b[1;32m---> 16\u001b[1;33m \u001b[0msearchbox\u001b[0m \u001b[1;33m=\u001b[0m \u001b[0mdriver\u001b[0m\u001b[1;33m.\u001b[0m\u001b[0mfind_element_by_xpath\u001b[0m\u001b[1;33m(\u001b[0m\u001b[1;34m\"//[@id='search.keyword.query']\"\u001b[0m\u001b[1;33m)\u001b[0m \u001b[1;31m# // input 가장 처음 input 찾기\u001b[0m\u001b[1;33m\u001b[0m\u001b[1;33m\u001b[0m\u001b[0m\n\u001b[0m\u001b[0;32m     17\u001b[0m \u001b[0msearchbox\u001b[0m\u001b[1;33m.\u001b[0m\u001b[0msend_keys\u001b[0m\u001b[1;33m(\u001b[0m\u001b[1;34m\"강남역 고기집\"\u001b[0m\u001b[1;33m)\u001b[0m\u001b[1;33m\u001b[0m\u001b[1;33m\u001b[0m\u001b[0m\n\u001b[0;32m     18\u001b[0m \u001b[0msearchbutton\u001b[0m \u001b[1;33m=\u001b[0m \u001b[0mdriver\u001b[0m\u001b[1;33m.\u001b[0m\u001b[0mfind_element_by_xpath\u001b[0m\u001b[1;33m(\u001b[0m\u001b[1;34m\"//[@id='search.keyword.submit']\"\u001b[0m\u001b[1;33m)\u001b[0m\u001b[1;33m\u001b[0m\u001b[1;33m\u001b[0m\u001b[0m\n",
      "\u001b[1;32m~\\anaconda3\\lib\\site-packages\\selenium\\webdriver\\remote\\webdriver.py\u001b[0m in \u001b[0;36mfind_element_by_xpath\u001b[1;34m(self, xpath)\u001b[0m\n\u001b[0;32m    392\u001b[0m             \u001b[0melement\u001b[0m \u001b[1;33m=\u001b[0m \u001b[0mdriver\u001b[0m\u001b[1;33m.\u001b[0m\u001b[0mfind_element_by_xpath\u001b[0m\u001b[1;33m(\u001b[0m\u001b[1;34m'//div/td[1]'\u001b[0m\u001b[1;33m)\u001b[0m\u001b[1;33m\u001b[0m\u001b[1;33m\u001b[0m\u001b[0m\n\u001b[0;32m    393\u001b[0m         \"\"\"\n\u001b[1;32m--> 394\u001b[1;33m         \u001b[1;32mreturn\u001b[0m \u001b[0mself\u001b[0m\u001b[1;33m.\u001b[0m\u001b[0mfind_element\u001b[0m\u001b[1;33m(\u001b[0m\u001b[0mby\u001b[0m\u001b[1;33m=\u001b[0m\u001b[0mBy\u001b[0m\u001b[1;33m.\u001b[0m\u001b[0mXPATH\u001b[0m\u001b[1;33m,\u001b[0m \u001b[0mvalue\u001b[0m\u001b[1;33m=\u001b[0m\u001b[0mxpath\u001b[0m\u001b[1;33m)\u001b[0m\u001b[1;33m\u001b[0m\u001b[1;33m\u001b[0m\u001b[0m\n\u001b[0m\u001b[0;32m    395\u001b[0m \u001b[1;33m\u001b[0m\u001b[0m\n\u001b[0;32m    396\u001b[0m     \u001b[1;32mdef\u001b[0m \u001b[0mfind_elements_by_xpath\u001b[0m\u001b[1;33m(\u001b[0m\u001b[0mself\u001b[0m\u001b[1;33m,\u001b[0m \u001b[0mxpath\u001b[0m\u001b[1;33m)\u001b[0m\u001b[1;33m:\u001b[0m\u001b[1;33m\u001b[0m\u001b[1;33m\u001b[0m\u001b[0m\n",
      "\u001b[1;32m~\\anaconda3\\lib\\site-packages\\selenium\\webdriver\\remote\\webdriver.py\u001b[0m in \u001b[0;36mfind_element\u001b[1;34m(self, by, value)\u001b[0m\n\u001b[0;32m    974\u001b[0m                 \u001b[0mby\u001b[0m \u001b[1;33m=\u001b[0m \u001b[0mBy\u001b[0m\u001b[1;33m.\u001b[0m\u001b[0mCSS_SELECTOR\u001b[0m\u001b[1;33m\u001b[0m\u001b[1;33m\u001b[0m\u001b[0m\n\u001b[0;32m    975\u001b[0m                 \u001b[0mvalue\u001b[0m \u001b[1;33m=\u001b[0m \u001b[1;34m'[name=\"%s\"]'\u001b[0m \u001b[1;33m%\u001b[0m \u001b[0mvalue\u001b[0m\u001b[1;33m\u001b[0m\u001b[1;33m\u001b[0m\u001b[0m\n\u001b[1;32m--> 976\u001b[1;33m         return self.execute(Command.FIND_ELEMENT, {\n\u001b[0m\u001b[0;32m    977\u001b[0m             \u001b[1;34m'using'\u001b[0m\u001b[1;33m:\u001b[0m \u001b[0mby\u001b[0m\u001b[1;33m,\u001b[0m\u001b[1;33m\u001b[0m\u001b[1;33m\u001b[0m\u001b[0m\n\u001b[0;32m    978\u001b[0m             'value': value})['value']\n",
      "\u001b[1;32m~\\anaconda3\\lib\\site-packages\\selenium\\webdriver\\remote\\webdriver.py\u001b[0m in \u001b[0;36mexecute\u001b[1;34m(self, driver_command, params)\u001b[0m\n\u001b[0;32m    319\u001b[0m         \u001b[0mresponse\u001b[0m \u001b[1;33m=\u001b[0m \u001b[0mself\u001b[0m\u001b[1;33m.\u001b[0m\u001b[0mcommand_executor\u001b[0m\u001b[1;33m.\u001b[0m\u001b[0mexecute\u001b[0m\u001b[1;33m(\u001b[0m\u001b[0mdriver_command\u001b[0m\u001b[1;33m,\u001b[0m \u001b[0mparams\u001b[0m\u001b[1;33m)\u001b[0m\u001b[1;33m\u001b[0m\u001b[1;33m\u001b[0m\u001b[0m\n\u001b[0;32m    320\u001b[0m         \u001b[1;32mif\u001b[0m \u001b[0mresponse\u001b[0m\u001b[1;33m:\u001b[0m\u001b[1;33m\u001b[0m\u001b[1;33m\u001b[0m\u001b[0m\n\u001b[1;32m--> 321\u001b[1;33m             \u001b[0mself\u001b[0m\u001b[1;33m.\u001b[0m\u001b[0merror_handler\u001b[0m\u001b[1;33m.\u001b[0m\u001b[0mcheck_response\u001b[0m\u001b[1;33m(\u001b[0m\u001b[0mresponse\u001b[0m\u001b[1;33m)\u001b[0m\u001b[1;33m\u001b[0m\u001b[1;33m\u001b[0m\u001b[0m\n\u001b[0m\u001b[0;32m    322\u001b[0m             response['value'] = self._unwrap_value(\n\u001b[0;32m    323\u001b[0m                 response.get('value', None))\n",
      "\u001b[1;32m~\\anaconda3\\lib\\site-packages\\selenium\\webdriver\\remote\\errorhandler.py\u001b[0m in \u001b[0;36mcheck_response\u001b[1;34m(self, response)\u001b[0m\n\u001b[0;32m    240\u001b[0m                 \u001b[0malert_text\u001b[0m \u001b[1;33m=\u001b[0m \u001b[0mvalue\u001b[0m\u001b[1;33m[\u001b[0m\u001b[1;34m'alert'\u001b[0m\u001b[1;33m]\u001b[0m\u001b[1;33m.\u001b[0m\u001b[0mget\u001b[0m\u001b[1;33m(\u001b[0m\u001b[1;34m'text'\u001b[0m\u001b[1;33m)\u001b[0m\u001b[1;33m\u001b[0m\u001b[1;33m\u001b[0m\u001b[0m\n\u001b[0;32m    241\u001b[0m             \u001b[1;32mraise\u001b[0m \u001b[0mexception_class\u001b[0m\u001b[1;33m(\u001b[0m\u001b[0mmessage\u001b[0m\u001b[1;33m,\u001b[0m \u001b[0mscreen\u001b[0m\u001b[1;33m,\u001b[0m \u001b[0mstacktrace\u001b[0m\u001b[1;33m,\u001b[0m \u001b[0malert_text\u001b[0m\u001b[1;33m)\u001b[0m\u001b[1;33m\u001b[0m\u001b[1;33m\u001b[0m\u001b[0m\n\u001b[1;32m--> 242\u001b[1;33m         \u001b[1;32mraise\u001b[0m \u001b[0mexception_class\u001b[0m\u001b[1;33m(\u001b[0m\u001b[0mmessage\u001b[0m\u001b[1;33m,\u001b[0m \u001b[0mscreen\u001b[0m\u001b[1;33m,\u001b[0m \u001b[0mstacktrace\u001b[0m\u001b[1;33m)\u001b[0m\u001b[1;33m\u001b[0m\u001b[1;33m\u001b[0m\u001b[0m\n\u001b[0m\u001b[0;32m    243\u001b[0m \u001b[1;33m\u001b[0m\u001b[0m\n\u001b[0;32m    244\u001b[0m     \u001b[1;32mdef\u001b[0m \u001b[0m_value_or_default\u001b[0m\u001b[1;33m(\u001b[0m\u001b[0mself\u001b[0m\u001b[1;33m,\u001b[0m \u001b[0mobj\u001b[0m\u001b[1;33m,\u001b[0m \u001b[0mkey\u001b[0m\u001b[1;33m,\u001b[0m \u001b[0mdefault\u001b[0m\u001b[1;33m)\u001b[0m\u001b[1;33m:\u001b[0m\u001b[1;33m\u001b[0m\u001b[1;33m\u001b[0m\u001b[0m\n",
      "\u001b[1;31mInvalidSelectorException\u001b[0m: Message: invalid selector: Unable to locate an element with the xpath expression //[@id='search.keyword.query'] because of the following error:\nSyntaxError: Failed to execute 'evaluate' on 'Document': The string '//[@id='search.keyword.query']' is not a valid XPath expression.\n  (Session info: chrome=92.0.4515.107)\n"
     ]
    }
   ],
   "source": [
    "import pandas as pd\n",
    "import numpy as np\n",
    "import matplotlib.pyplot as plt\n",
    "import seaborn as sns\n",
    "\n",
    "from selenium import webdriver\n",
    "from bs4 import BeautifulSoup\n",
    "import re\n",
    "import time\n",
    "\n",
    "path = \"C:/R/chromedriver\"\n",
    "source_url = \"https://map.kakao.com/\"\n",
    "driver = webdriver.Chrome(path)\n",
    "driver.get(source_url) \n",
    "# 검색창\n",
    "searchbox = driver.find_element_by_xpath(\"//*[@id='search.keyword.query']\") \n",
    "# // input 가장 처음 input 찾기 , @ 속성표시\n",
    "searchbox.send_keys(\"강남역 고기집\")\n",
    "searchbutton = driver.find_element_by_xpath(\"//*[@id='search.keyword.submit']\")\n",
    "\n",
    "driver.execute_script(\"arguments[0].click();\", searchbutton)\n",
    "time.sleep(1)\n",
    "\n",
    "html = driver.page_source"
   ]
  },
  {
   "cell_type": "code",
   "execution_count": 11,
   "metadata": {},
   "outputs": [
    {
     "name": "stdout",
     "output_type": "stream",
     "text": [
      "https://place.map.kakao.com/85570955\n",
      "https://place.map.kakao.com/1503746075\n",
      "https://place.map.kakao.com/95713992\n",
      "https://place.map.kakao.com/741391811\n",
      "https://place.map.kakao.com/2011092566\n",
      "https://place.map.kakao.com/13573220\n",
      "https://place.map.kakao.com/2062959414\n",
      "https://place.map.kakao.com/1648266796\n",
      "https://place.map.kakao.com/168079537\n",
      "https://place.map.kakao.com/263830255\n",
      "https://place.map.kakao.com/27238067\n",
      "https://place.map.kakao.com/26431943\n",
      "https://place.map.kakao.com/1780387311\n",
      "https://place.map.kakao.com/1907052666\n",
      "https://place.map.kakao.com/1052874675\n",
      "https://place.map.kakao.com/1576421052\n"
     ]
    }
   ],
   "source": [
    "\n",
    "soup = BeautifulSoup(html, \"html.parser\")\n",
    "# 페이지 url \n",
    "moreviews = soup.find_all(name = \"a\", attrs = {\"class\":\"moreview\"})\n",
    "page_urls = []\n",
    "for moreview in moreviews :\n",
    "    page_url = moreview.get(\"href\")\n",
    "    print(page_url)\n",
    "    page_urls.append(page_url)\n",
    "driver.close()"
   ]
  },
  {
   "cell_type": "code",
   "execution_count": 23,
   "metadata": {
    "scrolled": false
   },
   "outputs": [
    {
     "name": "stdout",
     "output_type": "stream",
     "text": [
      "[<em class=\"num_rate\">1<span class=\"screen_out\">점</span></em>, <em class=\"num_rate\">5<span class=\"screen_out\">점</span></em>, <em class=\"num_rate\">5<span class=\"screen_out\">점</span></em>, <em class=\"num_rate\">4<span class=\"screen_out\">점</span></em>, <em class=\"num_rate\">4<span class=\"screen_out\">점</span></em>]\n",
      "[<p class=\"txt_comment \"><span>예약할 때는 룸을 주기로 하고 홀을 주고, 덥고, 직원들이 정신이 없어 그 가격에 내가 직접 구워먹고 갈비살, 등심은 질기고 냉면은 맛이 없고 장어 양념들도 제 때 안 가져다 주고 회식으로 한시간만에 120만원을 썼는데 이런 경험 처음입니다.</span><button class=\"btn_fold\" type=\"button\">더보기</button></p>, <p class=\"txt_comment \"><span>점심식사 잘했던곳.후식커피한잔 하기도 좋고 주차가능합니다. 음식 맛있고 직원분 친절하여 절로 미소가 지어졌어요. </span><button class=\"btn_fold\" type=\"button\">더보기</button></p>, <p class=\"txt_comment \"><span>新鮮でおいしいです。</span><button class=\"btn_fold\" type=\"button\">더보기</button></p>, <p class=\"txt_comment \"><span>녹는다 녹아</span><button class=\"btn_fold\" type=\"button\">더보기</button></p>, <p class=\"txt_comment \"><span></span><button class=\"btn_fold\" type=\"button\">더보기</button></p>]\n",
      "[<em class=\"num_rate\">5<span class=\"screen_out\">점</span></em>, <em class=\"num_rate\">1<span class=\"screen_out\">점</span></em>, <em class=\"num_rate\">1<span class=\"screen_out\">점</span></em>, <em class=\"num_rate\">2<span class=\"screen_out\">점</span></em>, <em class=\"num_rate\">2<span class=\"screen_out\">점</span></em>]\n",
      "[<p class=\"txt_comment \"><span></span><button class=\"btn_fold\" type=\"button\">더보기</button></p>, <p class=\"txt_comment \"><span>원래 리뷰 아예안쓰는데 처음 씁니다.  오랜만에 왔는데 서비스는 개나 줘버리고 고기올려놓고 까먹은건지 뭔지 오지도 않고 이게 소고기인지 고무씹는건지 모르겠네요. 맛있다고 지인 데려왔는데 다신 안올거같아요 만원짜리 삼겹살집이 더 나았을듯 </span><button class=\"btn_fold\" type=\"button\">더보기</button></p>, <p class=\"txt_comment \"><span>아니 고기 몇만원어치를 먹는데 계속 안구워주고 벨을 눌러도 묵묵 부답 진짜 비싼값내고 먹는데 짜증나 죽을뻔함</span><button class=\"btn_fold\" type=\"button\">더보기</button></p>, <p class=\"txt_comment \"><span>5월초 당일전화 예약방문. 주메뉴 3개 있는 고깃집에 안심이 없다함. 착석전에 카운터에서 알려주든가. 마늘 다 타들어가서 불렀더니 멀뚱거리며 어쩌라고 하는 표정으로 서있음. 테이블수 대비 인원이 많이 부족해보임. </span><button class=\"btn_fold\" type=\"button\">더보기</button></p>, <p class=\"txt_comment \"><span>가격 대비 서비스나 실수 후 응대가 너무 별로입니다</span><button class=\"btn_fold\" type=\"button\">더보기</button></p>]\n",
      "[<em class=\"num_rate\">1<span class=\"screen_out\">점</span></em>, <em class=\"num_rate\">3<span class=\"screen_out\">점</span></em>, <em class=\"num_rate\">5<span class=\"screen_out\">점</span></em>, <em class=\"num_rate\">5<span class=\"screen_out\">점</span></em>, <em class=\"num_rate\">5<span class=\"screen_out\">점</span></em>]\n",
      "[<p class=\"txt_comment \"><span>먹고 하루지난 뒤인 지금도 계속 배아파요ㅠㅠㅠ 혹시나하고 들어와봤더니 다른분들도 그러시네요</span><button class=\"btn_fold\" type=\"button\">더보기</button></p>, <p class=\"txt_comment \"><span>이정도면 맛있다고 할수 있는것 같습니다.  가면 또 가겠지만 일부러 먹으러 찾아갈까 싶기도 한 적당한 집. 당면넣어주는게 좋았어요ㅎ</span><button class=\"btn_fold\" type=\"button\">더보기</button></p>, <p class=\"txt_comment \"><span>매번 좋은 사람들 만날때 방문하는데 매번 맛이 좋네요. </span><button class=\"btn_fold\" type=\"button\">더보기</button></p>, <p class=\"txt_comment \"><span>학원끝나고 일주일에 두세번은 가는 듯 ㅎㅋㅋㅋ 장인닭갈비 너무 맛있어요!</span><button class=\"btn_fold\" type=\"button\">더보기</button></p>, <p class=\"txt_comment \"><span>매운 닭갈비에 치즈추가하면 남부러울게 없지</span><button class=\"btn_fold\" type=\"button\">더보기</button></p>]\n",
      "[<em class=\"num_rate\">4<span class=\"screen_out\">점</span></em>, <em class=\"num_rate\">5<span class=\"screen_out\">점</span></em>, <em class=\"num_rate\">5<span class=\"screen_out\">점</span></em>, <em class=\"num_rate\">4<span class=\"screen_out\">점</span></em>, <em class=\"num_rate\">5<span class=\"screen_out\">점</span></em>]\n",
      "[<p class=\"txt_comment \"><span>맛잇으느 비싸다으</span><button class=\"btn_fold\" type=\"button\">더보기</button></p>, <p class=\"txt_comment \"><span>C'est tellement gentil ici que je peux sentir le goût coréen.</span><button class=\"btn_fold\" type=\"button\">더보기</button></p>, <p class=\"txt_comment \"><span>친절하고 너무 맛있었어요. 고기도 진짜 맛잇게 구워주시고..  근데 볶음밥은 진짜 별로에요. 비싼데 맛이없어요.. 고기많이드세요</span><button class=\"btn_fold\" type=\"button\">더보기</button></p>, <p class=\"txt_comment \"><span></span><button class=\"btn_fold\" type=\"button\">더보기</button></p>, <p class=\"txt_comment \"><span>ㅈㅁㅌㅌㄱㄹ</span><button class=\"btn_fold\" type=\"button\">더보기</button></p>]\n",
      "[<em class=\"num_rate\">5<span class=\"screen_out\">점</span></em>, <em class=\"num_rate\">5<span class=\"screen_out\">점</span></em>, <em class=\"num_rate\">2<span class=\"screen_out\">점</span></em>, <em class=\"num_rate\">1<span class=\"screen_out\">점</span></em>, <em class=\"num_rate\">1<span class=\"screen_out\">점</span></em>]\n",
      "[<p class=\"txt_comment \"><span></span><button class=\"btn_fold\" type=\"button\">더보기</button></p>, <p class=\"txt_comment \"><span></span><button class=\"btn_fold\" type=\"button\">더보기</button></p>, <p class=\"txt_comment \"><span></span><button class=\"btn_fold\" type=\"button\">더보기</button></p>, <p class=\"txt_comment \"><span>맛도 그닥.. 가성비 별로. 제일 별로는 직원이 넘 싸가지 없음.. 다들 다른 곳 가시길.. 1점도 아까움ㅠ</span><button class=\"btn_fold\" type=\"button\">더보기</button></p>, <p class=\"txt_comment \"><span>삼겹살이 160그램에 18000원. 삼겹살 목살 각 1인분씩 주문하려고 했으나 첫 주문에는 최소 2인분 주문해야 한다고;;  맛이라도 특별하면 몰라 그냥 하남돼지집 수준.  매장도 너무 시끄러움 걍 도떼기시장 ㅇㅇ 바빠서 그런가 직원들은 짜증이 기본 베이스로 깔려있음. 주차장 넓고 직원이 직접 구워주고 냄새 안 밴다는 것만 장점</span><button class=\"btn_fold\" type=\"button\">더보기</button></p>]\n",
      "[<em class=\"num_rate\">4<span class=\"screen_out\">점</span></em>, <em class=\"num_rate\">5<span class=\"screen_out\">점</span></em>, <em class=\"num_rate\">1<span class=\"screen_out\">점</span></em>, <em class=\"num_rate\">5<span class=\"screen_out\">점</span></em>, <em class=\"num_rate\">3<span class=\"screen_out\">점</span></em>]\n",
      "[<p class=\"txt_comment \"><span></span><button class=\"btn_fold\" type=\"button\">더보기</button></p>, <p class=\"txt_comment \"><span>떡도리탕</span><button class=\"btn_fold\" type=\"button\">더보기</button></p>, <p class=\"txt_comment \"><span></span><button class=\"btn_fold\" type=\"button\">더보기</button></p>, <p class=\"txt_comment \"><span>맛있댜</span><button class=\"btn_fold\" type=\"button\">더보기</button></p>, <p class=\"txt_comment \"><span></span><button class=\"btn_fold\" type=\"button\">더보기</button></p>]\n",
      "[<em class=\"num_rate\">3<span class=\"screen_out\">점</span></em>, <em class=\"num_rate\">5<span class=\"screen_out\">점</span></em>, <em class=\"num_rate\">5<span class=\"screen_out\">점</span></em>, <em class=\"num_rate\">3<span class=\"screen_out\">점</span></em>, <em class=\"num_rate\">2<span class=\"screen_out\">점</span></em>]\n",
      "[<p class=\"txt_comment \"><span>좋게 말하면 굽네치킨을 싸게 먹는 맛. 나쁘게 말하면 딱 예상한 뻔한 맛. 음료 무료인 건 좋아요!</span><button class=\"btn_fold\" type=\"button\">더보기</button></p>, <p class=\"txt_comment \"><span>강남에서 이런 가성비를 찾다니 회전율도 빨라서 전체적으로 신선합니다. 고기도 야채도.</span><button class=\"btn_fold\" type=\"button\">더보기</button></p>, <p class=\"txt_comment \"><span>그냥 술 무제한 지려</span><button class=\"btn_fold\" type=\"button\">더보기</button></p>, <p class=\"txt_comment \"><span></span><button class=\"btn_fold\" type=\"button\">더보기</button></p>, <p class=\"txt_comment \"><span></span><button class=\"btn_fold\" type=\"button\">더보기</button></p>]\n",
      "[<em class=\"num_rate\">5<span class=\"screen_out\">점</span></em>, <em class=\"num_rate\">1<span class=\"screen_out\">점</span></em>, <em class=\"num_rate\">1<span class=\"screen_out\">점</span></em>, <em class=\"num_rate\">5<span class=\"screen_out\">점</span></em>, <em class=\"num_rate\">5<span class=\"screen_out\">점</span></em>]\n",
      "[<p class=\"txt_comment \"><span> 고기는 기본적으로 프리미엄에 숯부터가 달라서 풍미가잇음 추가로 불편하면 자세를고쳐앉으세요 지들이피해의식잇어서 괜히 꼬장부리네 불평불만~</span><button class=\"btn_fold\" type=\"button\">더보기</button></p>, <p class=\"txt_comment \"><span>고기는 맛있는데 직원분들 태도는 그닥... 내 돈 주고가는데 왜 내가 가게직원 눈치를 봐야 하지?</span><button class=\"btn_fold\" type=\"button\">더보기</button></p>, <p class=\"txt_comment \"><span>20분다되도록 고기안나와서 두번이나 얘기했는데  죄송하다는 말도 그닥 성의없이 하시고 고객응대 서비스는 최악이었습니다.  고기는 맛있긴 함.</span><button class=\"btn_fold\" type=\"button\">더보기</button></p>, <p class=\"txt_comment \"><span>걍개마싯윰ㄹㅇ 좀비싸긴함</span><button class=\"btn_fold\" type=\"button\">더보기</button></p>, <p class=\"txt_comment \"><span>고기는 맛있어요~</span><button class=\"btn_fold\" type=\"button\">더보기</button></p>]\n",
      "[<em class=\"num_rate\">3<span class=\"screen_out\">점</span></em>, <em class=\"num_rate\">2<span class=\"screen_out\">점</span></em>, <em class=\"num_rate\">3<span class=\"screen_out\">점</span></em>, <em class=\"num_rate\">1<span class=\"screen_out\">점</span></em>, <em class=\"num_rate\">1<span class=\"screen_out\">점</span></em>]\n",
      "[<p class=\"txt_comment \"><span></span><button class=\"btn_fold\" type=\"button\">더보기</button></p>, <p class=\"txt_comment \"><span>너무질겨요ㅜㅜ</span><button class=\"btn_fold\" type=\"button\">더보기</button></p>, <p class=\"txt_comment \"><span>비싸긴한데 괜찮아요~</span><button class=\"btn_fold\" type=\"button\">더보기</button></p>, <p class=\"txt_comment \"><span>너무너무너무너무질겨서 삼킬수가 없네요ㅠㅠ</span><button class=\"btn_fold\" type=\"button\">더보기</button></p>, <p class=\"txt_comment \"><span>할말은 많지만 하지 않습니다</span><button class=\"btn_fold\" type=\"button\">더보기</button></p>]\n"
     ]
    },
    {
     "name": "stdout",
     "output_type": "stream",
     "text": [
      "[<em class=\"num_rate\">2<span class=\"screen_out\">점</span></em>, <em class=\"num_rate\">5<span class=\"screen_out\">점</span></em>, <em class=\"num_rate\">2<span class=\"screen_out\">점</span></em>, <em class=\"num_rate\">5<span class=\"screen_out\">점</span></em>, <em class=\"num_rate\">5<span class=\"screen_out\">점</span></em>]\n",
      "[<p class=\"txt_comment \"><span>친절하고 깨끗하지만 곱창이 너무 질겨서 실망이었어요ㅜㅜ 별점에비해 맛은 그닥..대파김치덕분에 다 먹었네요</span><button class=\"btn_fold\" type=\"button\">더보기</button></p>, <p class=\"txt_comment \"><span>곱창을 좋아해서 생각없이들어가서먹었는데 곱도많이들어있고 냄새도안나고 질긴것도없고 맛있네요  볶음밥이 신의한수!!  가게내부도 깔끔하고 좋았어요</span><button class=\"btn_fold\" type=\"button\">더보기</button></p>, <p class=\"txt_comment \"><span>그냥 평범함...ㄹㅇ</span><button class=\"btn_fold\" type=\"button\">더보기</button></p>, <p class=\"txt_comment \"><span>대충 친구랑 밥 먹으러 들어갔다가 생각보다 맛있어서 괜찮았어요 사장님도 친절하시고 감사합니당</span><button class=\"btn_fold\" type=\"button\">더보기</button></p>, <p class=\"txt_comment \"><span>어후 소주 안먹고는 안될 맛이었어요 술마실 생각 없었는데;; 진짜 맛있게 잘 먹고 배터질거같다 하면서 나오면서도 여기 또 오자 하고 나왔네요</span><button class=\"btn_fold\" type=\"button\">더보기</button></p>]\n",
      "[<em class=\"num_rate\">3<span class=\"screen_out\">점</span></em>, <em class=\"num_rate\">1<span class=\"screen_out\">점</span></em>, <em class=\"num_rate\">3<span class=\"screen_out\">점</span></em>, <em class=\"num_rate\">5<span class=\"screen_out\">점</span></em>, <em class=\"num_rate\">4<span class=\"screen_out\">점</span></em>]\n",
      "[<p class=\"txt_comment \"><span>점심 삽겹 꿀맛 냄새안나서 좋아요~</span><button class=\"btn_fold\" type=\"button\">더보기</button></p>, <p class=\"txt_comment txt_fold\"><span>머리 하나로 묶은 머리긴(어깨는 넘었음) 여자 종업원이  안익은게 너무 잘 보이는데  그냥 가 더니  먹으라는건지 기다리라는건지 5분넘게 안오시길래  물어보니 다 익은거라고 하네요 사진상 으로 보이는 부분 보여주니 불 가장 쎄게 틀어주고 그냥 가시던데  덕분에 고기 다 타고 사진상  고기도 저희가 구웠어요 이럴꺼면 그냥 저희가 구울껄 그랬어요  고기도 추가...</span><button class=\"btn_fold\" type=\"button\">더보기</button></p>, <p class=\"txt_comment \"><span>먹기 편하게 해줌.</span><button class=\"btn_fold\" type=\"button\">더보기</button></p>, <p class=\"txt_comment \"><span>맛있게 배부르게 잘 먹고 핸드폰도 테이블 무선충전으로 만충하고. 마포점에 이어 방문한 강남점도 친절하고 맛있고 좋습니다.</span><button class=\"btn_fold\" type=\"button\">더보기</button></p>, <p class=\"txt_comment \"><span>비싸지만 맛있고 정갈하게 구워줘서 좋음</span><button class=\"btn_fold\" type=\"button\">더보기</button></p>]\n",
      "[<em class=\"num_rate\">1<span class=\"screen_out\">점</span></em>, <em class=\"num_rate\">2<span class=\"screen_out\">점</span></em>, <em class=\"num_rate\">3<span class=\"screen_out\">점</span></em>, <em class=\"num_rate\">5<span class=\"screen_out\">점</span></em>, <em class=\"num_rate\">5<span class=\"screen_out\">점</span></em>]\n",
      "[<p class=\"txt_comment \"><span>하누세트 20만원짜리 먹었는데 양도 적고 무엇보다 등심도 질기고 양념갈비도 짜고 고기맛이 없어 정말정말 가성비 떨어지는 식당이었습니다. 음식점에서 이렇게 돈이 아까울줄은..처음갔는데 평점에 속은집. </span><button class=\"btn_fold\" type=\"button\">더보기</button></p>, <p class=\"txt_comment \"><span>서비스가 매우 안좋습니다. 소고기 구울때는 구워주고, 삼겹살 먹으면 알아서하라고 합니다.ㅋㅋ 말을 해도 당연하다는듯이.. ?  돼지고기만 먹었으면 모르지만 함께 먹어도 이런 말을 한다는게 어이가...</span><button class=\"btn_fold\" type=\"button\">더보기</button></p>, <p class=\"txt_comment \"><span>황제세트랑 삼합먹었는데.. 고기 구어주는데 숯이 약해 흐물흐물했음 삼합은 맛있어요</span><button class=\"btn_fold\" type=\"button\">더보기</button></p>, <p class=\"txt_comment \"><span>급하게 갔는데도 잘 해주시고  고기도 너무 맛나요  맛있게 구워주시고  잘 먹다가 좋은 시간보내고 갑니다 ㅎㅎ</span><button class=\"btn_fold\" type=\"button\">더보기</button></p>, <p class=\"txt_comment txt_fold\"><span>부모님 모시고 갔는데 좋은 시간 만들어주셔서 감사합니다 :) 조용한 자리에 미리 세팅도 완료해서 준비해주셨고 고기도 처음부터 끝까지 맛있게 구워주셨어요! 메뉴 고를줄 몰라서 이것저것 여쭤봤는데 양이랑 가격 적당한걸로 고르도록 도와주시고 음식이 빨리빨리 나와서 좋았어요. 셀프바도 맛있게, 많이 이용 잘 했습니다 ㅎㅎㅎ, 냄새도 안 배고 좋더라고요 리뷰 보고 ...</span><button class=\"btn_fold\" type=\"button\">더보기</button></p>]\n",
      "[<em class=\"num_rate\">1<span class=\"screen_out\">점</span></em>, <em class=\"num_rate\">5<span class=\"screen_out\">점</span></em>, <em class=\"num_rate\">4<span class=\"screen_out\">점</span></em>, <em class=\"num_rate\">5<span class=\"screen_out\">점</span></em>, <em class=\"num_rate\">1<span class=\"screen_out\">점</span></em>]\n",
      "[<p class=\"txt_comment \"><span>후기 신고해서 삭제하네요  두꺼비 닮은 알바가 불친절해요 많이불친절해요</span><button class=\"btn_fold\" type=\"button\">더보기</button></p>, <p class=\"txt_comment \"><span>제가 가본 냉동삼겹살집중 원탑. 호일 안쓰는게 가장 큰 장점.  냉동의 그 고유한 맛 굿입니다 고사리가 특히 굿굿 사장님은 친절하세요  알바들은 어딜가나 어쩔수없다고 생각함. 제가 갔을 땐 다들 친절하셨음</span><button class=\"btn_fold\" type=\"button\">더보기</button></p>, <p class=\"txt_comment \"><span>고사리 부시고 싶을 때 갑니다. 돈가스도 좋아요. </span><button class=\"btn_fold\" type=\"button\">더보기</button></p>, <p class=\"txt_comment \"><span>저 왔을때는 직원분들 너무 친절하셧구용 싼맛에 먹기좋은 고기같아요!! 돼지냄새 예민하신분들께는 잡내가 좀 날수도있는데 1인분 4900원인거치곤 너무 맛잇게 먹었습니당~ 주전자 우동도 짱. 걍 음식들 다 싸고 양이 엄청많아요!</span><button class=\"btn_fold\" type=\"button\">더보기</button></p>, <p class=\"txt_comment \"><span></span><button class=\"btn_fold\" type=\"button\">더보기</button></p>]\n",
      "[<em class=\"num_rate\">5<span class=\"screen_out\">점</span></em>, <em class=\"num_rate\">5<span class=\"screen_out\">점</span></em>, <em class=\"num_rate\">5<span class=\"screen_out\">점</span></em>, <em class=\"num_rate\">5<span class=\"screen_out\">점</span></em>, <em class=\"num_rate\">5<span class=\"screen_out\">점</span></em>]\n",
      "[<p class=\"txt_comment \"><span>목살 퍽퍽하지 않고 맛있음:)</span><button class=\"btn_fold\" type=\"button\">더보기</button></p>, <p class=\"txt_comment \"><span>꽃삼겹, 통삼겹, 물냉, 된장찌개, 후식아이스크림</span><button class=\"btn_fold\" type=\"button\">더보기</button></p>, <p class=\"txt_comment \"><span>맛있게먹었다 융숭한대접에감사한다</span><button class=\"btn_fold\" type=\"button\">더보기</button></p>, <p class=\"txt_comment \"><span>맛은 항상 만족. 인테리어나 식탁 배치도 마음에 듦.</span><button class=\"btn_fold\" type=\"button\">더보기</button></p>, <p class=\"txt_comment \"><span>메뉴가 다 맛있네요. 후식 아이스크림도 좋습니다</span><button class=\"btn_fold\" type=\"button\">더보기</button></p>]\n",
      "[<em class=\"num_rate\">5<span class=\"screen_out\">점</span></em>, <em class=\"num_rate\">5<span class=\"screen_out\">점</span></em>, <em class=\"num_rate\">5<span class=\"screen_out\">점</span></em>, <em class=\"num_rate\">5<span class=\"screen_out\">점</span></em>, <em class=\"num_rate\">2<span class=\"screen_out\">점</span></em>]\n",
      "[<p class=\"txt_comment \"><span></span><button class=\"btn_fold\" type=\"button\">더보기</button></p>, <p class=\"txt_comment \"><span>김희X 직원분이 상당히 고기를 잘 구우십니다 ~ !</span><button class=\"btn_fold\" type=\"button\">더보기</button></p>, <p class=\"txt_comment \"><span>맛있습니다</span><button class=\"btn_fold\" type=\"button\">더보기</button></p>, <p class=\"txt_comment \"><span>흠 존맛인정 </span><button class=\"btn_fold\" type=\"button\">더보기</button></p>, <p class=\"txt_comment txt_fold\"><span>장점 - 1. 맛있음 2.콜키지 프리 3.위치  단점 - 1. ⭐️불친절⭐️ 말하고 있는데 무시하고 가는 직원은 처음 봄ㅋㅋ근데 더 짜증나는건 들어올 때 부터 기분 나빴는데 그 직원이 처음부터 끝까지 고기 구워줌 검정색 마스크 코 반까지만 쓰고 나이가 좀 있으시던 분^^ 옆테이블은 나이대가 높아서 그런지 열심히 설명해주더니ㅋㅋ 우리는 걍 고기만 구워 줌  ...</span><button class=\"btn_fold\" type=\"button\">더보기</button></p>]\n",
      "[<em class=\"num_rate\">2<span class=\"screen_out\">점</span></em>, <em class=\"num_rate\">1<span class=\"screen_out\">점</span></em>, <em class=\"num_rate\">4<span class=\"screen_out\">점</span></em>, <em class=\"num_rate\">1<span class=\"screen_out\">점</span></em>, <em class=\"num_rate\">5<span class=\"screen_out\">점</span></em>]\n",
      "[<p class=\"txt_comment \"><span>이렇게 대기가 긴 맛집인줄 모르고 갔다가 엄청 기다림 예써라는 어플로 대기 하던데 혹시 갈 예정이면 어플로 확인하는거 추천함 곱도리탕은 맛있지만 대창 때문에 느끼했던 기억... 나중에 덮밥 먹으러 다시 와보고 싶긴함 ☻</span><button class=\"btn_fold\" type=\"button\">더보기</button></p>, <p class=\"txt_comment \"><span>단짠의 정석. 진짜 정석으로 달고 짬. 질리는 맛.  사장님이랑 와이프로 추정되는 서빙해주신 분 매우 친절하셨음. 친절하신것은 인정!  골목안에 작게 했을때 이전하기 전에도 갔었고 그 이후에도 갔는데 갈수록 더 달고 더 짜져서 안간지 꽤 됐는데..  안가게 된 이유는 너무 달고 너무 짜져서지..ㅡㅡ</span><button class=\"btn_fold\" type=\"button\">더보기</button></p>, <p class=\"txt_comment \"><span>만족스러움! 맛있어용</span><button class=\"btn_fold\" type=\"button\">더보기</button></p>, <p class=\"txt_comment \"><span>곱창은 없고 대창만 들어있어서 느끼한데 양념은 너무 매워서 위에 탈이나 고생했습니다ㅠㅠ </span><button class=\"btn_fold\" type=\"button\">더보기</button></p>, <p class=\"txt_comment \"><span>대창덮밥도 맛있고 곱도리탕도 맛나요 완전 소주각입니다.  자리가 쫍아서 테이블마다 가까운게 흠이지만 맛있어서 ㅋㅋ 상관없어유</span><button class=\"btn_fold\" type=\"button\">더보기</button></p>]\n"
     ]
    }
   ],
   "source": [
    "# for p in page_urls :\n",
    "#     print(p)\n",
    "columns = ['score','review']\n",
    "df = pd.DataFrame(columns = columns)\n",
    "driver = webdriver.Chrome(path)\n",
    "for page in page_urls :\n",
    "    driver.get(page)\n",
    "    time.sleep(1.5)\n",
    "    html = driver.page_source\n",
    "    soup = BeautifulSoup(html, \"html.parser\")\n",
    "    # 리뷰\n",
    "    contents_div = soup.find(name = \"div\", attrs={\"class\":\"evaluation_review\"})\n",
    "    # 평점\n",
    "    rates = contents_div.find_all(name=\"em\", attrs={\"class\":\"num_rate\"})\n",
    "    # 리뷰\n",
    "    reviews = contents_div.find_all(name = \"p\", attrs={\"class\":\"txt_comment\"})\n",
    "    print(rates.text)\n",
    "    for rate, review in zip(rates, reviews) :\n",
    "        row = [rate.text[0], review.find(name=\"span\").text]\n",
    "        series = pd.Series(row, index=df.columns)\n",
    "        df = df.append(series, ignore_index=True)\n",
    "        \n",
    "    for button_num in range(2, 6) :\n",
    "        try :\n",
    "            another_reviews = driver.find_element_by_xpath\\\n",
    "                (\"//a[@data-page='\"+str(button_num)+\"']\")\n",
    "            another_reviews.click()\n",
    "            time.sleep(1.5)\n",
    "            html = driver.page_source\n",
    "            soup = BeautifulSoup(html, 'html.parser')\n",
    "            \n",
    "            contents_div = soup.find\\\n",
    "                (name=\"div\", attrs={\"class\":\"evaluation_reivew\"})\n",
    "            rates = contents_div.find_all\\\n",
    "                (name = \"em\", attrs = {\"class\":\"num_rate\"})\n",
    "            raviews = contents_div.find_all\\\n",
    "                (name = \"p\", attrs = {\"class\":\"txt_comment\"})\n",
    "            \n",
    "            for rate, review in zip(rates, reviews) :\n",
    "                row = [rate.text[0], review.find(name=\"span\").text]\n",
    "                series = pd.Series(row, index=df.columns)\n",
    "                df = df.append(series, ignore_index=True)\n",
    "        except :\n",
    "            break\n",
    "driver.close()"
   ]
  },
  {
   "cell_type": "code",
   "execution_count": 24,
   "metadata": {},
   "outputs": [
    {
     "name": "stdout",
     "output_type": "stream",
     "text": [
      "<class 'pandas.core.frame.DataFrame'>\n",
      "RangeIndex: 80 entries, 0 to 79\n",
      "Data columns (total 2 columns):\n",
      " #   Column  Non-Null Count  Dtype \n",
      "---  ------  --------------  ----- \n",
      " 0   score   80 non-null     object\n",
      " 1   review  80 non-null     object\n",
      "dtypes: object(2)\n",
      "memory usage: 1.4+ KB\n"
     ]
    }
   ],
   "source": [
    "df.info()"
   ]
  },
  {
   "cell_type": "code",
   "execution_count": 25,
   "metadata": {},
   "outputs": [
    {
     "data": {
      "text/html": [
       "<div>\n",
       "<style scoped>\n",
       "    .dataframe tbody tr th:only-of-type {\n",
       "        vertical-align: middle;\n",
       "    }\n",
       "\n",
       "    .dataframe tbody tr th {\n",
       "        vertical-align: top;\n",
       "    }\n",
       "\n",
       "    .dataframe thead th {\n",
       "        text-align: right;\n",
       "    }\n",
       "</style>\n",
       "<table border=\"1\" class=\"dataframe\">\n",
       "  <thead>\n",
       "    <tr style=\"text-align: right;\">\n",
       "      <th></th>\n",
       "      <th>score</th>\n",
       "      <th>review</th>\n",
       "    </tr>\n",
       "  </thead>\n",
       "  <tbody>\n",
       "    <tr>\n",
       "      <th>0</th>\n",
       "      <td>1</td>\n",
       "      <td>예약할 때는 룸을 주기로 하고 홀을 주고, 덥고, 직원들이 정신이 없어 그 가격에 ...</td>\n",
       "    </tr>\n",
       "    <tr>\n",
       "      <th>1</th>\n",
       "      <td>5</td>\n",
       "      <td>점심식사 잘했던곳.후식커피한잔 하기도 좋고 주차가능합니다. 음식 맛있고 직원분 친절...</td>\n",
       "    </tr>\n",
       "    <tr>\n",
       "      <th>2</th>\n",
       "      <td>5</td>\n",
       "      <td>新鮮でおいしいです。</td>\n",
       "    </tr>\n",
       "    <tr>\n",
       "      <th>3</th>\n",
       "      <td>4</td>\n",
       "      <td>녹는다 녹아</td>\n",
       "    </tr>\n",
       "    <tr>\n",
       "      <th>4</th>\n",
       "      <td>4</td>\n",
       "      <td></td>\n",
       "    </tr>\n",
       "  </tbody>\n",
       "</table>\n",
       "</div>"
      ],
      "text/plain": [
       "  score                                             review\n",
       "0     1  예약할 때는 룸을 주기로 하고 홀을 주고, 덥고, 직원들이 정신이 없어 그 가격에 ...\n",
       "1     5  점심식사 잘했던곳.후식커피한잔 하기도 좋고 주차가능합니다. 음식 맛있고 직원분 친절...\n",
       "2     5                                         新鮮でおいしいです。\n",
       "3     4                                             녹는다 녹아\n",
       "4     4                                                   "
      ]
     },
     "execution_count": 25,
     "metadata": {},
     "output_type": "execute_result"
    }
   ],
   "source": [
    "df.head()"
   ]
  },
  {
   "cell_type": "code",
   "execution_count": 27,
   "metadata": {},
   "outputs": [
    {
     "data": {
      "text/html": [
       "<div>\n",
       "<style scoped>\n",
       "    .dataframe tbody tr th:only-of-type {\n",
       "        vertical-align: middle;\n",
       "    }\n",
       "\n",
       "    .dataframe tbody tr th {\n",
       "        vertical-align: top;\n",
       "    }\n",
       "\n",
       "    .dataframe thead th {\n",
       "        text-align: right;\n",
       "    }\n",
       "</style>\n",
       "<table border=\"1\" class=\"dataframe\">\n",
       "  <thead>\n",
       "    <tr style=\"text-align: right;\">\n",
       "      <th></th>\n",
       "      <th>score</th>\n",
       "      <th>review</th>\n",
       "      <th>y</th>\n",
       "    </tr>\n",
       "  </thead>\n",
       "  <tbody>\n",
       "    <tr>\n",
       "      <th>0</th>\n",
       "      <td>1</td>\n",
       "      <td>예약할 때는 룸을 주기로 하고 홀을 주고, 덥고, 직원들이 정신이 없어 그 가격에 ...</td>\n",
       "      <td>0</td>\n",
       "    </tr>\n",
       "    <tr>\n",
       "      <th>1</th>\n",
       "      <td>5</td>\n",
       "      <td>점심식사 잘했던곳.후식커피한잔 하기도 좋고 주차가능합니다. 음식 맛있고 직원분 친절...</td>\n",
       "      <td>1</td>\n",
       "    </tr>\n",
       "    <tr>\n",
       "      <th>2</th>\n",
       "      <td>5</td>\n",
       "      <td>新鮮でおいしいです。</td>\n",
       "      <td>1</td>\n",
       "    </tr>\n",
       "    <tr>\n",
       "      <th>3</th>\n",
       "      <td>4</td>\n",
       "      <td>녹는다 녹아</td>\n",
       "      <td>1</td>\n",
       "    </tr>\n",
       "    <tr>\n",
       "      <th>4</th>\n",
       "      <td>4</td>\n",
       "      <td></td>\n",
       "      <td>1</td>\n",
       "    </tr>\n",
       "    <tr>\n",
       "      <th>...</th>\n",
       "      <td>...</td>\n",
       "      <td>...</td>\n",
       "      <td>...</td>\n",
       "    </tr>\n",
       "    <tr>\n",
       "      <th>75</th>\n",
       "      <td>2</td>\n",
       "      <td>이렇게 대기가 긴 맛집인줄 모르고 갔다가 엄청 기다림 예써라는 어플로 대기 하던데 ...</td>\n",
       "      <td>0</td>\n",
       "    </tr>\n",
       "    <tr>\n",
       "      <th>76</th>\n",
       "      <td>1</td>\n",
       "      <td>단짠의 정석. 진짜 정석으로 달고 짬. 질리는 맛.  사장님이랑 와이프로 추정되는 ...</td>\n",
       "      <td>0</td>\n",
       "    </tr>\n",
       "    <tr>\n",
       "      <th>77</th>\n",
       "      <td>4</td>\n",
       "      <td>만족스러움! 맛있어용</td>\n",
       "      <td>1</td>\n",
       "    </tr>\n",
       "    <tr>\n",
       "      <th>78</th>\n",
       "      <td>1</td>\n",
       "      <td>곱창은 없고 대창만 들어있어서 느끼한데 양념은 너무 매워서 위에 탈이나 고생했습니다ㅠㅠ</td>\n",
       "      <td>0</td>\n",
       "    </tr>\n",
       "    <tr>\n",
       "      <th>79</th>\n",
       "      <td>5</td>\n",
       "      <td>대창덮밥도 맛있고 곱도리탕도 맛나요 완전 소주각입니다.  자리가 쫍아서 테이블마다 ...</td>\n",
       "      <td>1</td>\n",
       "    </tr>\n",
       "  </tbody>\n",
       "</table>\n",
       "<p>80 rows × 3 columns</p>\n",
       "</div>"
      ],
      "text/plain": [
       "   score                                             review  y\n",
       "0      1  예약할 때는 룸을 주기로 하고 홀을 주고, 덥고, 직원들이 정신이 없어 그 가격에 ...  0\n",
       "1      5  점심식사 잘했던곳.후식커피한잔 하기도 좋고 주차가능합니다. 음식 맛있고 직원분 친절...  1\n",
       "2      5                                         新鮮でおいしいです。  1\n",
       "3      4                                             녹는다 녹아  1\n",
       "4      4                                                     1\n",
       "..   ...                                                ... ..\n",
       "75     2  이렇게 대기가 긴 맛집인줄 모르고 갔다가 엄청 기다림 예써라는 어플로 대기 하던데 ...  0\n",
       "76     1  단짠의 정석. 진짜 정석으로 달고 짬. 질리는 맛.  사장님이랑 와이프로 추정되는 ...  0\n",
       "77     4                                        만족스러움! 맛있어용  1\n",
       "78     1  곱창은 없고 대창만 들어있어서 느끼한데 양념은 너무 매워서 위에 탈이나 고생했습니다ㅠㅠ   0\n",
       "79     5  대창덮밥도 맛있고 곱도리탕도 맛나요 완전 소주각입니다.  자리가 쫍아서 테이블마다 ...  1\n",
       "\n",
       "[80 rows x 3 columns]"
      ]
     },
     "execution_count": 27,
     "metadata": {},
     "output_type": "execute_result"
    }
   ],
   "source": [
    "# 긍부정 평가\n",
    "df['y'] = df['score'].apply(lambda x : 1 if float(x) > 3 else 0)\n",
    "df"
   ]
  },
  {
   "cell_type": "code",
   "execution_count": 28,
   "metadata": {},
   "outputs": [
    {
     "data": {
      "text/plain": [
       "1    44\n",
       "0    36\n",
       "Name: y, dtype: int64"
      ]
     },
     "execution_count": 28,
     "metadata": {},
     "output_type": "execute_result"
    }
   ],
   "source": [
    "df.y.value_counts()"
   ]
  },
  {
   "cell_type": "code",
   "execution_count": 29,
   "metadata": {},
   "outputs": [],
   "source": [
    "df.to_csv('review_data.csv', index=False)"
   ]
  },
  {
   "cell_type": "code",
   "execution_count": null,
   "metadata": {},
   "outputs": [],
   "source": []
  },
  {
   "cell_type": "code",
   "execution_count": null,
   "metadata": {},
   "outputs": [],
   "source": []
  },
  {
   "cell_type": "code",
   "execution_count": null,
   "metadata": {},
   "outputs": [],
   "source": []
  },
  {
   "cell_type": "code",
   "execution_count": null,
   "metadata": {},
   "outputs": [],
   "source": []
  },
  {
   "cell_type": "code",
   "execution_count": null,
   "metadata": {},
   "outputs": [],
   "source": []
  },
  {
   "cell_type": "code",
   "execution_count": null,
   "metadata": {},
   "outputs": [],
   "source": []
  },
  {
   "cell_type": "code",
   "execution_count": null,
   "metadata": {},
   "outputs": [],
   "source": []
  },
  {
   "cell_type": "code",
   "execution_count": null,
   "metadata": {},
   "outputs": [],
   "source": []
  },
  {
   "cell_type": "code",
   "execution_count": null,
   "metadata": {},
   "outputs": [],
   "source": []
  },
  {
   "cell_type": "code",
   "execution_count": null,
   "metadata": {},
   "outputs": [],
   "source": []
  },
  {
   "cell_type": "code",
   "execution_count": null,
   "metadata": {},
   "outputs": [],
   "source": []
  },
  {
   "cell_type": "code",
   "execution_count": null,
   "metadata": {},
   "outputs": [],
   "source": []
  },
  {
   "cell_type": "code",
   "execution_count": null,
   "metadata": {},
   "outputs": [],
   "source": []
  },
  {
   "cell_type": "code",
   "execution_count": null,
   "metadata": {},
   "outputs": [],
   "source": []
  },
  {
   "cell_type": "code",
   "execution_count": null,
   "metadata": {},
   "outputs": [],
   "source": []
  },
  {
   "cell_type": "code",
   "execution_count": null,
   "metadata": {},
   "outputs": [],
   "source": []
  },
  {
   "cell_type": "code",
   "execution_count": null,
   "metadata": {},
   "outputs": [],
   "source": []
  },
  {
   "cell_type": "code",
   "execution_count": null,
   "metadata": {},
   "outputs": [],
   "source": []
  },
  {
   "cell_type": "code",
   "execution_count": null,
   "metadata": {},
   "outputs": [],
   "source": []
  },
  {
   "cell_type": "code",
   "execution_count": null,
   "metadata": {},
   "outputs": [],
   "source": []
  },
  {
   "cell_type": "code",
   "execution_count": null,
   "metadata": {},
   "outputs": [],
   "source": []
  },
  {
   "cell_type": "code",
   "execution_count": null,
   "metadata": {},
   "outputs": [],
   "source": []
  },
  {
   "cell_type": "code",
   "execution_count": null,
   "metadata": {},
   "outputs": [],
   "source": []
  },
  {
   "cell_type": "code",
   "execution_count": null,
   "metadata": {},
   "outputs": [],
   "source": []
  },
  {
   "cell_type": "code",
   "execution_count": null,
   "metadata": {},
   "outputs": [],
   "source": []
  },
  {
   "cell_type": "code",
   "execution_count": null,
   "metadata": {},
   "outputs": [],
   "source": []
  },
  {
   "cell_type": "code",
   "execution_count": null,
   "metadata": {},
   "outputs": [],
   "source": []
  },
  {
   "cell_type": "code",
   "execution_count": null,
   "metadata": {},
   "outputs": [],
   "source": []
  },
  {
   "cell_type": "code",
   "execution_count": null,
   "metadata": {},
   "outputs": [],
   "source": []
  },
  {
   "cell_type": "code",
   "execution_count": null,
   "metadata": {},
   "outputs": [],
   "source": []
  },
  {
   "cell_type": "code",
   "execution_count": null,
   "metadata": {},
   "outputs": [],
   "source": []
  },
  {
   "cell_type": "code",
   "execution_count": null,
   "metadata": {},
   "outputs": [],
   "source": []
  },
  {
   "cell_type": "code",
   "execution_count": null,
   "metadata": {},
   "outputs": [],
   "source": []
  },
  {
   "cell_type": "code",
   "execution_count": null,
   "metadata": {},
   "outputs": [],
   "source": []
  },
  {
   "cell_type": "code",
   "execution_count": null,
   "metadata": {},
   "outputs": [],
   "source": []
  },
  {
   "cell_type": "code",
   "execution_count": null,
   "metadata": {},
   "outputs": [],
   "source": []
  },
  {
   "cell_type": "code",
   "execution_count": null,
   "metadata": {},
   "outputs": [],
   "source": []
  },
  {
   "cell_type": "code",
   "execution_count": null,
   "metadata": {},
   "outputs": [],
   "source": []
  },
  {
   "cell_type": "code",
   "execution_count": null,
   "metadata": {},
   "outputs": [],
   "source": []
  },
  {
   "cell_type": "code",
   "execution_count": null,
   "metadata": {},
   "outputs": [],
   "source": []
  },
  {
   "cell_type": "code",
   "execution_count": null,
   "metadata": {},
   "outputs": [],
   "source": []
  },
  {
   "cell_type": "code",
   "execution_count": null,
   "metadata": {},
   "outputs": [],
   "source": []
  },
  {
   "cell_type": "code",
   "execution_count": null,
   "metadata": {},
   "outputs": [],
   "source": []
  },
  {
   "cell_type": "code",
   "execution_count": null,
   "metadata": {},
   "outputs": [],
   "source": []
  },
  {
   "cell_type": "code",
   "execution_count": null,
   "metadata": {},
   "outputs": [],
   "source": []
  },
  {
   "cell_type": "code",
   "execution_count": null,
   "metadata": {},
   "outputs": [],
   "source": []
  },
  {
   "cell_type": "code",
   "execution_count": null,
   "metadata": {},
   "outputs": [],
   "source": []
  },
  {
   "cell_type": "code",
   "execution_count": null,
   "metadata": {},
   "outputs": [],
   "source": []
  },
  {
   "cell_type": "code",
   "execution_count": null,
   "metadata": {},
   "outputs": [],
   "source": []
  },
  {
   "cell_type": "code",
   "execution_count": null,
   "metadata": {},
   "outputs": [],
   "source": []
  },
  {
   "cell_type": "code",
   "execution_count": null,
   "metadata": {},
   "outputs": [],
   "source": []
  },
  {
   "cell_type": "code",
   "execution_count": null,
   "metadata": {},
   "outputs": [],
   "source": []
  },
  {
   "cell_type": "code",
   "execution_count": null,
   "metadata": {},
   "outputs": [],
   "source": []
  },
  {
   "cell_type": "code",
   "execution_count": null,
   "metadata": {},
   "outputs": [],
   "source": []
  },
  {
   "cell_type": "code",
   "execution_count": null,
   "metadata": {},
   "outputs": [],
   "source": []
  },
  {
   "cell_type": "code",
   "execution_count": null,
   "metadata": {},
   "outputs": [],
   "source": []
  },
  {
   "cell_type": "code",
   "execution_count": null,
   "metadata": {},
   "outputs": [],
   "source": []
  },
  {
   "cell_type": "code",
   "execution_count": null,
   "metadata": {},
   "outputs": [],
   "source": []
  },
  {
   "cell_type": "code",
   "execution_count": null,
   "metadata": {},
   "outputs": [],
   "source": []
  },
  {
   "cell_type": "code",
   "execution_count": null,
   "metadata": {},
   "outputs": [],
   "source": []
  },
  {
   "cell_type": "code",
   "execution_count": null,
   "metadata": {},
   "outputs": [],
   "source": []
  },
  {
   "cell_type": "code",
   "execution_count": null,
   "metadata": {},
   "outputs": [],
   "source": []
  },
  {
   "cell_type": "code",
   "execution_count": null,
   "metadata": {},
   "outputs": [],
   "source": []
  },
  {
   "cell_type": "code",
   "execution_count": null,
   "metadata": {},
   "outputs": [],
   "source": []
  },
  {
   "cell_type": "code",
   "execution_count": null,
   "metadata": {},
   "outputs": [],
   "source": []
  },
  {
   "cell_type": "code",
   "execution_count": null,
   "metadata": {},
   "outputs": [],
   "source": []
  },
  {
   "cell_type": "code",
   "execution_count": null,
   "metadata": {},
   "outputs": [],
   "source": []
  },
  {
   "cell_type": "code",
   "execution_count": null,
   "metadata": {},
   "outputs": [],
   "source": []
  },
  {
   "cell_type": "code",
   "execution_count": null,
   "metadata": {},
   "outputs": [],
   "source": []
  },
  {
   "cell_type": "code",
   "execution_count": null,
   "metadata": {},
   "outputs": [],
   "source": []
  },
  {
   "cell_type": "code",
   "execution_count": null,
   "metadata": {},
   "outputs": [],
   "source": []
  },
  {
   "cell_type": "code",
   "execution_count": null,
   "metadata": {},
   "outputs": [],
   "source": []
  },
  {
   "cell_type": "code",
   "execution_count": null,
   "metadata": {},
   "outputs": [],
   "source": []
  },
  {
   "cell_type": "code",
   "execution_count": null,
   "metadata": {},
   "outputs": [],
   "source": []
  },
  {
   "cell_type": "code",
   "execution_count": null,
   "metadata": {},
   "outputs": [],
   "source": []
  },
  {
   "cell_type": "code",
   "execution_count": null,
   "metadata": {},
   "outputs": [],
   "source": []
  },
  {
   "cell_type": "code",
   "execution_count": null,
   "metadata": {},
   "outputs": [],
   "source": []
  },
  {
   "cell_type": "code",
   "execution_count": null,
   "metadata": {},
   "outputs": [],
   "source": []
  },
  {
   "cell_type": "code",
   "execution_count": null,
   "metadata": {},
   "outputs": [],
   "source": []
  },
  {
   "cell_type": "code",
   "execution_count": null,
   "metadata": {},
   "outputs": [],
   "source": []
  },
  {
   "cell_type": "code",
   "execution_count": null,
   "metadata": {},
   "outputs": [],
   "source": []
  },
  {
   "cell_type": "code",
   "execution_count": null,
   "metadata": {},
   "outputs": [],
   "source": []
  },
  {
   "cell_type": "code",
   "execution_count": null,
   "metadata": {},
   "outputs": [],
   "source": []
  },
  {
   "cell_type": "code",
   "execution_count": null,
   "metadata": {},
   "outputs": [],
   "source": []
  },
  {
   "cell_type": "code",
   "execution_count": null,
   "metadata": {},
   "outputs": [],
   "source": []
  },
  {
   "cell_type": "code",
   "execution_count": null,
   "metadata": {},
   "outputs": [],
   "source": []
  },
  {
   "cell_type": "code",
   "execution_count": null,
   "metadata": {},
   "outputs": [],
   "source": []
  },
  {
   "cell_type": "code",
   "execution_count": null,
   "metadata": {},
   "outputs": [],
   "source": []
  },
  {
   "cell_type": "code",
   "execution_count": null,
   "metadata": {},
   "outputs": [],
   "source": []
  },
  {
   "cell_type": "code",
   "execution_count": null,
   "metadata": {},
   "outputs": [],
   "source": []
  },
  {
   "cell_type": "code",
   "execution_count": null,
   "metadata": {},
   "outputs": [],
   "source": []
  },
  {
   "cell_type": "code",
   "execution_count": null,
   "metadata": {},
   "outputs": [],
   "source": []
  },
  {
   "cell_type": "code",
   "execution_count": null,
   "metadata": {},
   "outputs": [],
   "source": []
  },
  {
   "cell_type": "code",
   "execution_count": null,
   "metadata": {},
   "outputs": [],
   "source": []
  },
  {
   "cell_type": "code",
   "execution_count": null,
   "metadata": {},
   "outputs": [],
   "source": []
  },
  {
   "cell_type": "code",
   "execution_count": null,
   "metadata": {},
   "outputs": [],
   "source": []
  }
 ],
 "metadata": {
  "kernelspec": {
   "display_name": "Python 3",
   "language": "python",
   "name": "python3"
  },
  "language_info": {
   "codemirror_mode": {
    "name": "ipython",
    "version": 3
   },
   "file_extension": ".py",
   "mimetype": "text/x-python",
   "name": "python",
   "nbconvert_exporter": "python",
   "pygments_lexer": "ipython3",
   "version": "3.8.5"
  }
 },
 "nbformat": 4,
 "nbformat_minor": 4
}
