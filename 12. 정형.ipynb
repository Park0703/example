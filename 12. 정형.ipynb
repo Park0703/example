{
 "cells": [
  {
   "cell_type": "markdown",
   "metadata": {},
   "source": [
    "정형 : db, csv, 엑셀\n",
    "반정형 : html, json\n",
    "비정형 : 이미지"
   ]
  },
  {
   "cell_type": "code",
   "execution_count": 1,
   "metadata": {},
   "outputs": [],
   "source": [
    "html = '''\n",
    "<html><body>\n",
    "<div id='potal'>\n",
    "<h1>포탈목록</h1>\n",
    "\n",
    "<ul class = 'items'>\n",
    "<li><a href=\"http://www.naver.com\">naver</a></li>\n",
    "<li><a href=\"http://www.daum.net\">daum</a></li>\n",
    "</ul>\n",
    "</div>\n",
    "</body></html>\n",
    "'''"
   ]
  },
  {
   "cell_type": "code",
   "execution_count": 3,
   "metadata": {},
   "outputs": [
    {
     "name": "stdout",
     "output_type": "stream",
     "text": [
      "Collecting beautifulSoupNote: you may need to restart the kernel to use updated packages.\n"
     ]
    },
    {
     "name": "stderr",
     "output_type": "stream",
     "text": [
      "    ERROR: Command errored out with exit status 1:\n",
      "     command: 'C:\\Users\\pc\\anaconda3\\python.exe' -c 'import sys, setuptools, tokenize; sys.argv[0] = '\"'\"'C:\\\\Temp\\\\pip-install-gtmqj6eh\\\\beautifulsoup\\\\setup.py'\"'\"'; __file__='\"'\"'C:\\\\Temp\\\\pip-install-gtmqj6eh\\\\beautifulsoup\\\\setup.py'\"'\"';f=getattr(tokenize, '\"'\"'open'\"'\"', open)(__file__);code=f.read().replace('\"'\"'\\r\\n'\"'\"', '\"'\"'\\n'\"'\"');f.close();exec(compile(code, __file__, '\"'\"'exec'\"'\"'))' egg_info --egg-base 'C:\\Temp\\pip-pip-egg-info-kigsemt4'\n",
      "         cwd: C:\\Temp\\pip-install-gtmqj6eh\\beautifulsoup\\\n",
      "    Complete output (6 lines):\n",
      "    Traceback (most recent call last):\n",
      "      File \"<string>\", line 1, in <module>\n",
      "      File \"C:\\Temp\\pip-install-gtmqj6eh\\beautifulsoup\\setup.py\", line 3\n",
      "        \"You're trying to run a very old release of Beautiful Soup under Python 3. This will not work.\"<>\"Please use Beautiful Soup 4, available through the pip package 'beautifulsoup4'.\"\n",
      "                                                                                                        ^\n",
      "    SyntaxError: invalid syntax\n",
      "    ----------------------------------------\n",
      "ERROR: Command errored out with exit status 1: python setup.py egg_info Check the logs for full command output.\n"
     ]
    },
    {
     "name": "stdout",
     "output_type": "stream",
     "text": [
      "\n",
      "  Downloading BeautifulSoup-3.2.2.tar.gz (32 kB)\n"
     ]
    }
   ],
   "source": [
    "pip install beautifulSoup"
   ]
  },
  {
   "cell_type": "code",
   "execution_count": 2,
   "metadata": {},
   "outputs": [
    {
     "name": "stdout",
     "output_type": "stream",
     "text": [
      "naver > http://www.naver.com\n",
      "daum > http://www.daum.net\n"
     ]
    }
   ],
   "source": [
    "from bs4 import BeautifulSoup\n",
    "soup = BeautifulSoup(html, \"html.parser\")\n",
    "links = soup.find_all(\"a\")\n",
    "for a in links :\n",
    "    href = a.attrs[\"href\"]\n",
    "    text = a.string\n",
    "    print(text, \">\", href)"
   ]
  },
  {
   "cell_type": "code",
   "execution_count": 5,
   "metadata": {},
   "outputs": [
    {
     "name": "stdout",
     "output_type": "stream",
     "text": [
      "h1= 포탈목록\n"
     ]
    }
   ],
   "source": [
    "# \"div#potal > h1\" : id 속성값이 potal인 div 태그의 하위 태그 중 태그의 이름이 h1 태그 선택\n",
    "# > : 하위태그, 자식 노드 바로 아래태그\n",
    "#   : 하위태그 자손노드 아래 태그 전부\n",
    "h1 = soup.select_one(\"div#potal > h1\").string\n",
    "print('h1=',h1)"
   ]
  },
  {
   "cell_type": "code",
   "execution_count": 7,
   "metadata": {},
   "outputs": [
    {
     "name": "stdout",
     "output_type": "stream",
     "text": [
      "<class 'list'>\n",
      "[<li><a href=\"http://www.naver.com\">naver</a></li>, <li><a href=\"http://www.daum.net\">daum</a></li>]\n",
      "<li><a href=\"http://www.naver.com\">naver</a></li>\n",
      "li =  naver\n",
      "<li><a href=\"http://www.daum.net\">daum</a></li>\n",
      "li =  daum\n"
     ]
    }
   ],
   "source": [
    "li_list = soup.select(\"div#potal > ul.items > li\")\n",
    "print(type(li_list))\n",
    "print(li_list)\n",
    "for li in li_list :\n",
    "    print(li)\n",
    "    print(\"li = \", li.string)"
   ]
  },
  {
   "cell_type": "code",
   "execution_count": null,
   "metadata": {},
   "outputs": [],
   "source": [
    "# https://www.weather.go.kr/weather/forecast/mid-term-rss3.jsp"
   ]
  },
  {
   "cell_type": "code",
   "execution_count": 11,
   "metadata": {},
   "outputs": [
    {
     "name": "stdout",
     "output_type": "stream",
     "text": [
      "<http.client.HTTPResponse object at 0x000001858008FB20>\n",
      "기상청 육상 중기예보\n",
      "○ (강수) 9일(금)은 전국에 비가 오겠고, 제주도는 11일(일)까지 이어지겠습니다. <br />          10일(토)~11일(일) 오후에 전국(강원영동 제외)에 비가 오겠고, 12일(월) 오후에 수도권과 강원영서, 충청권에, 13일(화) 오전 수도권과 강원영서에 비가 오겠습니다.<br />○ (기온) 이번 예보기간 아침 기온은 21~25도, 낮 기온은 27~33도로 어제(5일, 아침최저기온 19~23도, 낮최고기온 23~30도)보다 높겠습니다.<br />○ (주말전망) 10일(토)~11일(일)은 전국이 구름많고 오후에 비가 오겠습니다. 아침 기온은 21~24도, 낮 기온은 27~32도가 되겠습니다.<br /> <br />* 9일까지 오랜기간 비가 이어지면서 지반이 약해져 축대붕괴, 산사태 등의 피해가 우려되니, 사전에 철저히 대비하기 바랍니다.<br />* 이번 예보기간 동안 북태평양고기압의 확장 정도와 정체전선의 위치에 따라 강수 변동성이 크겠으니, 앞으로 발표되는 기상정보를 참고하기 바랍니다.\n"
     ]
    }
   ],
   "source": [
    "from bs4 import BeautifulSoup\n",
    "import urllib.request as req\n",
    "url = \"https://www.weather.go.kr/weather/forecast/mid-term-rss3.jsp\"\n",
    "res = req.urlopen(url) # 연결\n",
    "print(res)\n",
    "soup = BeautifulSoup(res, \"html.parser\")\n",
    "title = soup.find(\"title\").string\n",
    "wf = soup.find(\"wf\").string\n",
    "print(title)\n",
    "print(wf)"
   ]
  },
  {
   "cell_type": "code",
   "execution_count": null,
   "metadata": {},
   "outputs": [],
   "source": [
    "# <![CDATA[...]]> :CDATA 섹션 > 순수문자열의 영역\n",
    "# 마크업언어로 파싱하지 않고 순수문자열로 인식\n",
    "# <태그>\n",
    "# 10 > 5 PARSER 가 햇갈려함, 그래서 순수문자열의 영역으로 애매함 방지, CDATA 섹션"
   ]
  },
  {
   "cell_type": "code",
   "execution_count": 12,
   "metadata": {},
   "outputs": [
    {
     "name": "stdout",
     "output_type": "stream",
     "text": [
      "○ (강수) 9일(금)은 전국에 비가 오겠고, 제주도는 11일(일)까지 이어지겠습니다. \n",
      "          10일(토)~11일(일) 오후에 전국(강원영동 제외)에 비가 오겠고, 12일(월) 오후에 수도권과 강원영서, 충청권에, 13일(화) 오전 수도권과 강원영서에 비가 오겠습니다.\n",
      "○ (기온) 이번 예보기간 아침 기온은 21~25도, 낮 기온은 27~33도로 어제(5일, 아침최저기온 19~23도, 낮최고기온 23~30도)보다 높겠습니다.\n",
      "○ (주말전망) 10일(토)~11일(일)은 전국이 구름많고 오후에 비가 오겠습니다. 아침 기온은 21~24도, 낮 기온은 27~32도가 되겠습니다.\n",
      " \n",
      "* 9일까지 오랜기간 비가 이어지면서 지반이 약해져 축대붕괴, 산사태 등의 피해가 우려되니, 사전에 철저히 대비하기 바랍니다.\n",
      "* 이번 예보기간 동안 북태평양고기압의 확장 정도와 정체전선의 위치에 따라 강수 변동성이 크겠으니, 앞으로 발표되는 기상정보를 참고하기 바랍니다.\n"
     ]
    }
   ],
   "source": [
    "for w in wf.split(\"<br />\") :\n",
    "    print(w)"
   ]
  },
  {
   "cell_type": "code",
   "execution_count": 13,
   "metadata": {},
   "outputs": [],
   "source": [
    "import os.path\n",
    "if not os.path.exists(\"forcast.xml\") : # 파일없으면\n",
    "    req.urlretrieve(url, \"forcast.xml\") # 파일저장\n",
    "# xml은 메모장으로 가능"
   ]
  },
  {
   "cell_type": "code",
   "execution_count": 15,
   "metadata": {},
   "outputs": [
    {
     "ename": "AttributeError",
     "evalue": "'NoneType' object has no attribute 'string'",
     "output_type": "error",
     "traceback": [
      "\u001b[1;31m---------------------------------------------------------------------------\u001b[0m",
      "\u001b[1;31mAttributeError\u001b[0m                            Traceback (most recent call last)",
      "\u001b[1;32m<ipython-input-15-62c7481dd197>\u001b[0m in \u001b[0;36m<module>\u001b[1;34m\u001b[0m\n\u001b[1;32m----> 1\u001b[1;33m \u001b[0mpubDate\u001b[0m \u001b[1;33m=\u001b[0m \u001b[0msoup\u001b[0m\u001b[1;33m.\u001b[0m\u001b[0mselect_one\u001b[0m\u001b[1;33m(\u001b[0m\u001b[1;34m\"pubDate\"\u001b[0m\u001b[1;33m)\u001b[0m\u001b[1;33m.\u001b[0m\u001b[0mstring\u001b[0m\u001b[1;33m\u001b[0m\u001b[1;33m\u001b[0m\u001b[0m\n\u001b[0m\u001b[0;32m      2\u001b[0m \u001b[0mprint\u001b[0m\u001b[1;33m(\u001b[0m\u001b[0mpubDate\u001b[0m\u001b[1;33m)\u001b[0m\u001b[1;33m\u001b[0m\u001b[1;33m\u001b[0m\u001b[0m\n",
      "\u001b[1;31mAttributeError\u001b[0m: 'NoneType' object has no attribute 'string'"
     ]
    }
   ],
   "source": [
    "pubDate = soup.select_one(\"rss pubDate\").string\n",
    "print(pubDate)"
   ]
  },
  {
   "cell_type": "code",
   "execution_count": 16,
   "metadata": {},
   "outputs": [
    {
     "ename": "AttributeError",
     "evalue": "'NoneType' object has no attribute 'string'",
     "output_type": "error",
     "traceback": [
      "\u001b[1;31m---------------------------------------------------------------------------\u001b[0m",
      "\u001b[1;31mAttributeError\u001b[0m                            Traceback (most recent call last)",
      "\u001b[1;32m<ipython-input-16-53c5a9eb4cc3>\u001b[0m in \u001b[0;36m<module>\u001b[1;34m\u001b[0m\n\u001b[1;32m----> 1\u001b[1;33m \u001b[0mpubDate\u001b[0m \u001b[1;33m=\u001b[0m \u001b[0msoup\u001b[0m\u001b[1;33m.\u001b[0m\u001b[0mfind\u001b[0m\u001b[1;33m(\u001b[0m\u001b[1;34m\"pubDate\"\u001b[0m\u001b[1;33m)\u001b[0m\u001b[1;33m.\u001b[0m\u001b[0mstring\u001b[0m\u001b[1;33m\u001b[0m\u001b[1;33m\u001b[0m\u001b[0m\n\u001b[0m\u001b[0;32m      2\u001b[0m \u001b[0mprint\u001b[0m\u001b[1;33m(\u001b[0m\u001b[0mpubDate\u001b[0m\u001b[1;33m)\u001b[0m\u001b[1;33m\u001b[0m\u001b[1;33m\u001b[0m\u001b[0m\n",
      "\u001b[1;31mAttributeError\u001b[0m: 'NoneType' object has no attribute 'string'"
     ]
    }
   ],
   "source": [
    "pubDate = soup.find(\"pubDate\").string\n",
    "print(pubDate)"
   ]
  },
  {
   "cell_type": "code",
   "execution_count": 17,
   "metadata": {},
   "outputs": [
    {
     "name": "stdout",
     "output_type": "stream",
     "text": [
      "서울 흐리고 비\n",
      "인천 흐리고 비\n",
      "수원 흐리고 비\n",
      "파주 흐리고 비\n",
      "이천 흐리고 비\n",
      "평택 흐리고 비\n",
      "춘천 흐리고 비\n",
      "원주 흐리고 비\n",
      "강릉 흐리고 비\n",
      "대전 흐리고 비\n",
      "세종 흐리고 비\n",
      "홍성 흐리고 비\n",
      "청주 흐리고 비\n",
      "충주 흐리고 비\n",
      "영동 흐리고 비\n",
      "광주 흐리고 비\n",
      "목포 흐리고 비\n",
      "여수 흐리고 비\n",
      "순천 흐리고 비\n",
      "광양 흐리고 비\n",
      "나주 흐리고 비\n",
      "전주 흐리고 비\n",
      "군산 흐리고 비\n",
      "정읍 흐리고 비\n",
      "남원 흐리고 비\n",
      "고창 흐리고 비\n",
      "무주 흐리고 비\n",
      "부산 흐리고 비\n",
      "울산 흐리고 비\n",
      "창원 흐리고 비\n",
      "진주 흐리고 비\n",
      "거창 흐리고 비\n",
      "통영 흐리고 비\n",
      "대구 흐리고 비\n",
      "안동 흐리고 비\n",
      "포항 흐리고 비\n",
      "경주 흐리고 비\n",
      "울진 흐리고 비\n",
      "울릉도 흐리고 비\n",
      "제주 흐리고 비\n",
      "서귀포 흐리고 비\n"
     ]
    }
   ],
   "source": [
    "# 모든 location 태그의 하위태그 중 city 태그를 조회하기\n",
    "for location in soup.find_all(\"location\") :\n",
    "    name = location.find(\"city\").string\n",
    "    weather = location.find(\"wf\").string\n",
    "    print(name, weather)"
   ]
  },
  {
   "cell_type": "code",
   "execution_count": null,
   "metadata": {},
   "outputs": [],
   "source": []
  },
  {
   "cell_type": "code",
   "execution_count": null,
   "metadata": {},
   "outputs": [],
   "source": []
  },
  {
   "cell_type": "code",
   "execution_count": null,
   "metadata": {},
   "outputs": [],
   "source": []
  },
  {
   "cell_type": "code",
   "execution_count": null,
   "metadata": {},
   "outputs": [],
   "source": []
  },
  {
   "cell_type": "code",
   "execution_count": null,
   "metadata": {},
   "outputs": [],
   "source": []
  },
  {
   "cell_type": "code",
   "execution_count": null,
   "metadata": {},
   "outputs": [],
   "source": []
  },
  {
   "cell_type": "code",
   "execution_count": null,
   "metadata": {},
   "outputs": [],
   "source": []
  },
  {
   "cell_type": "code",
   "execution_count": null,
   "metadata": {},
   "outputs": [],
   "source": []
  },
  {
   "cell_type": "code",
   "execution_count": null,
   "metadata": {},
   "outputs": [],
   "source": []
  },
  {
   "cell_type": "code",
   "execution_count": null,
   "metadata": {},
   "outputs": [],
   "source": []
  },
  {
   "cell_type": "code",
   "execution_count": null,
   "metadata": {},
   "outputs": [],
   "source": []
  },
  {
   "cell_type": "code",
   "execution_count": null,
   "metadata": {},
   "outputs": [],
   "source": []
  },
  {
   "cell_type": "code",
   "execution_count": null,
   "metadata": {},
   "outputs": [],
   "source": []
  },
  {
   "cell_type": "code",
   "execution_count": null,
   "metadata": {},
   "outputs": [],
   "source": []
  },
  {
   "cell_type": "code",
   "execution_count": null,
   "metadata": {},
   "outputs": [],
   "source": []
  },
  {
   "cell_type": "code",
   "execution_count": null,
   "metadata": {},
   "outputs": [],
   "source": []
  },
  {
   "cell_type": "code",
   "execution_count": null,
   "metadata": {},
   "outputs": [],
   "source": []
  },
  {
   "cell_type": "code",
   "execution_count": null,
   "metadata": {},
   "outputs": [],
   "source": []
  },
  {
   "cell_type": "code",
   "execution_count": null,
   "metadata": {},
   "outputs": [],
   "source": []
  },
  {
   "cell_type": "code",
   "execution_count": null,
   "metadata": {},
   "outputs": [],
   "source": []
  },
  {
   "cell_type": "code",
   "execution_count": null,
   "metadata": {},
   "outputs": [],
   "source": []
  },
  {
   "cell_type": "code",
   "execution_count": null,
   "metadata": {},
   "outputs": [],
   "source": []
  },
  {
   "cell_type": "code",
   "execution_count": null,
   "metadata": {},
   "outputs": [],
   "source": []
  },
  {
   "cell_type": "code",
   "execution_count": null,
   "metadata": {},
   "outputs": [],
   "source": []
  },
  {
   "cell_type": "code",
   "execution_count": null,
   "metadata": {},
   "outputs": [],
   "source": []
  },
  {
   "cell_type": "code",
   "execution_count": null,
   "metadata": {},
   "outputs": [],
   "source": []
  },
  {
   "cell_type": "code",
   "execution_count": null,
   "metadata": {},
   "outputs": [],
   "source": []
  },
  {
   "cell_type": "code",
   "execution_count": null,
   "metadata": {},
   "outputs": [],
   "source": []
  },
  {
   "cell_type": "code",
   "execution_count": null,
   "metadata": {},
   "outputs": [],
   "source": []
  }
 ],
 "metadata": {
  "kernelspec": {
   "display_name": "Python 3",
   "language": "python",
   "name": "python3"
  },
  "language_info": {
   "codemirror_mode": {
    "name": "ipython",
    "version": 3
   },
   "file_extension": ".py",
   "mimetype": "text/x-python",
   "name": "python",
   "nbconvert_exporter": "python",
   "pygments_lexer": "ipython3",
   "version": "3.8.5"
  }
 },
 "nbformat": 4,
 "nbformat_minor": 4
}
