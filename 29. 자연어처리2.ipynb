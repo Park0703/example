{
 "cells": [
  {
   "cell_type": "code",
   "execution_count": 1,
   "metadata": {},
   "outputs": [
    {
     "data": {
      "text/html": [
       "<div>\n",
       "<style scoped>\n",
       "    .dataframe tbody tr th:only-of-type {\n",
       "        vertical-align: middle;\n",
       "    }\n",
       "\n",
       "    .dataframe tbody tr th {\n",
       "        vertical-align: top;\n",
       "    }\n",
       "\n",
       "    .dataframe thead th {\n",
       "        text-align: right;\n",
       "    }\n",
       "</style>\n",
       "<table border=\"1\" class=\"dataframe\">\n",
       "  <thead>\n",
       "    <tr style=\"text-align: right;\">\n",
       "      <th></th>\n",
       "      <th>score</th>\n",
       "      <th>review</th>\n",
       "      <th>y</th>\n",
       "    </tr>\n",
       "  </thead>\n",
       "  <tbody>\n",
       "    <tr>\n",
       "      <th>0</th>\n",
       "      <td>1</td>\n",
       "      <td>예약할 때는 룸을 주기로 하고 홀을 주고, 덥고, 직원들이 정신이 없어 그 가격에 ...</td>\n",
       "      <td>0</td>\n",
       "    </tr>\n",
       "    <tr>\n",
       "      <th>1</th>\n",
       "      <td>5</td>\n",
       "      <td>점심식사 잘했던곳.후식커피한잔 하기도 좋고 주차가능합니다. 음식 맛있고 직원분 친절...</td>\n",
       "      <td>1</td>\n",
       "    </tr>\n",
       "    <tr>\n",
       "      <th>2</th>\n",
       "      <td>5</td>\n",
       "      <td>新鮮でおいしいです。</td>\n",
       "      <td>1</td>\n",
       "    </tr>\n",
       "    <tr>\n",
       "      <th>3</th>\n",
       "      <td>4</td>\n",
       "      <td>녹는다 녹아</td>\n",
       "      <td>1</td>\n",
       "    </tr>\n",
       "    <tr>\n",
       "      <th>4</th>\n",
       "      <td>4</td>\n",
       "      <td>NaN</td>\n",
       "      <td>1</td>\n",
       "    </tr>\n",
       "    <tr>\n",
       "      <th>...</th>\n",
       "      <td>...</td>\n",
       "      <td>...</td>\n",
       "      <td>...</td>\n",
       "    </tr>\n",
       "    <tr>\n",
       "      <th>75</th>\n",
       "      <td>2</td>\n",
       "      <td>이렇게 대기가 긴 맛집인줄 모르고 갔다가 엄청 기다림 예써라는 어플로 대기 하던데 ...</td>\n",
       "      <td>0</td>\n",
       "    </tr>\n",
       "    <tr>\n",
       "      <th>76</th>\n",
       "      <td>1</td>\n",
       "      <td>단짠의 정석. 진짜 정석으로 달고 짬. 질리는 맛.  사장님이랑 와이프로 추정되는 ...</td>\n",
       "      <td>0</td>\n",
       "    </tr>\n",
       "    <tr>\n",
       "      <th>77</th>\n",
       "      <td>4</td>\n",
       "      <td>만족스러움! 맛있어용</td>\n",
       "      <td>1</td>\n",
       "    </tr>\n",
       "    <tr>\n",
       "      <th>78</th>\n",
       "      <td>1</td>\n",
       "      <td>곱창은 없고 대창만 들어있어서 느끼한데 양념은 너무 매워서 위에 탈이나 고생했습니다ㅠㅠ</td>\n",
       "      <td>0</td>\n",
       "    </tr>\n",
       "    <tr>\n",
       "      <th>79</th>\n",
       "      <td>5</td>\n",
       "      <td>대창덮밥도 맛있고 곱도리탕도 맛나요 완전 소주각입니다.  자리가 쫍아서 테이블마다 ...</td>\n",
       "      <td>1</td>\n",
       "    </tr>\n",
       "  </tbody>\n",
       "</table>\n",
       "<p>80 rows × 3 columns</p>\n",
       "</div>"
      ],
      "text/plain": [
       "    score                                             review  y\n",
       "0       1  예약할 때는 룸을 주기로 하고 홀을 주고, 덥고, 직원들이 정신이 없어 그 가격에 ...  0\n",
       "1       5  점심식사 잘했던곳.후식커피한잔 하기도 좋고 주차가능합니다. 음식 맛있고 직원분 친절...  1\n",
       "2       5                                         新鮮でおいしいです。  1\n",
       "3       4                                             녹는다 녹아  1\n",
       "4       4                                                NaN  1\n",
       "..    ...                                                ... ..\n",
       "75      2  이렇게 대기가 긴 맛집인줄 모르고 갔다가 엄청 기다림 예써라는 어플로 대기 하던데 ...  0\n",
       "76      1  단짠의 정석. 진짜 정석으로 달고 짬. 질리는 맛.  사장님이랑 와이프로 추정되는 ...  0\n",
       "77      4                                        만족스러움! 맛있어용  1\n",
       "78      1  곱창은 없고 대창만 들어있어서 느끼한데 양념은 너무 매워서 위에 탈이나 고생했습니다ㅠㅠ   0\n",
       "79      5  대창덮밥도 맛있고 곱도리탕도 맛나요 완전 소주각입니다.  자리가 쫍아서 테이블마다 ...  1\n",
       "\n",
       "[80 rows x 3 columns]"
      ]
     },
     "execution_count": 1,
     "metadata": {},
     "output_type": "execute_result"
    }
   ],
   "source": [
    "import pandas as pd\n",
    "df = pd.read_csv('review_data.csv')\n",
    "df"
   ]
  },
  {
   "cell_type": "code",
   "execution_count": 2,
   "metadata": {},
   "outputs": [
    {
     "data": {
      "text/plain": [
       "'가나다 라마사아 '"
      ]
     },
     "execution_count": 2,
     "metadata": {},
     "output_type": "execute_result"
    }
   ],
   "source": [
    "import re\n",
    "def text_cleaning(text) :\n",
    "    hangul = re.compile('[^ ㄱ-ㅣ가-힣]+')\n",
    "    result = hangul.sub('', text)\n",
    "    return result\n",
    "text_cleaning(\"abc가나다123 라마사아 123\")"
   ]
  },
  {
   "cell_type": "code",
   "execution_count": 3,
   "metadata": {},
   "outputs": [
    {
     "data": {
      "text/plain": [
       "0     예약할 때는 룸을 주기로 하고 홀을 주고 덥고 직원들이 정신이 없어 그 가격에 내가...\n",
       "1     점심식사 잘했던곳후식커피한잔 하기도 좋고 주차가능합니다 음식 맛있고 직원분 친절하여...\n",
       "2                                                      \n",
       "3                                                녹는다 녹아\n",
       "4                                                      \n",
       "                            ...                        \n",
       "75    이렇게 대기가 긴 맛집인줄 모르고 갔다가 엄청 기다림 예써라는 어플로 대기 하던데 ...\n",
       "76    단짠의 정석 진짜 정석으로 달고 짬 질리는 맛  사장님이랑 와이프로 추정되는 서빙해...\n",
       "77                                           만족스러움 맛있어용\n",
       "78    곱창은 없고 대창만 들어있어서 느끼한데 양념은 너무 매워서 위에 탈이나 고생했습니다ㅠㅠ \n",
       "79    대창덮밥도 맛있고 곱도리탕도 맛나요 완전 소주각입니다  자리가 쫍아서 테이블마다 가...\n",
       "Name: ko_text, Length: 80, dtype: object"
      ]
     },
     "execution_count": 3,
     "metadata": {},
     "output_type": "execute_result"
    }
   ],
   "source": [
    "df['ko_text'] = df['review'].apply(lambda x : text_cleaning(str(x))) # null 값\n",
    "df['ko_text']"
   ]
  },
  {
   "cell_type": "code",
   "execution_count": 4,
   "metadata": {},
   "outputs": [
    {
     "data": {
      "text/plain": [
       "0    예약할 때는 룸을 주기로 하고 홀을 주고, 덥고, 직원들이 정신이 없어 그 가격에 ...\n",
       "1    점심식사 잘했던곳.후식커피한잔 하기도 좋고 주차가능합니다. 음식 맛있고 직원분 친절...\n",
       "2                                           新鮮でおいしいです。\n",
       "3                                               녹는다 녹아\n",
       "4                                                  NaN\n",
       "Name: review, dtype: object"
      ]
     },
     "execution_count": 4,
     "metadata": {},
     "output_type": "execute_result"
    }
   ],
   "source": [
    "df['review'].head()"
   ]
  },
  {
   "cell_type": "code",
   "execution_count": 5,
   "metadata": {},
   "outputs": [
    {
     "data": {
      "text/plain": [
       "score  review  y      ko_text\n",
       "False  False   False  False      65\n",
       "dtype: int64"
      ]
     },
     "execution_count": 5,
     "metadata": {},
     "output_type": "execute_result"
    }
   ],
   "source": [
    "df1 = df.loc[df['ko_text'].apply(lambda x : len(x)) > 0]\n",
    "df1.isnull().value_counts()"
   ]
  },
  {
   "cell_type": "code",
   "execution_count": 6,
   "metadata": {},
   "outputs": [
    {
     "name": "stdout",
     "output_type": "stream",
     "text": [
      "<class 'pandas.core.frame.DataFrame'>\n",
      "RangeIndex: 80 entries, 0 to 79\n",
      "Data columns (total 3 columns):\n",
      " #   Column   Non-Null Count  Dtype \n",
      "---  ------   --------------  ----- \n",
      " 0   score    80 non-null     int64 \n",
      " 1   y        80 non-null     int64 \n",
      " 2   ko_text  80 non-null     object\n",
      "dtypes: int64(2), object(1)\n",
      "memory usage: 2.0+ KB\n"
     ]
    }
   ],
   "source": [
    "del df['review']\n",
    "df.info()"
   ]
  },
  {
   "cell_type": "code",
   "execution_count": 7,
   "metadata": {},
   "outputs": [],
   "source": [
    "from konlpy.tag import Okt"
   ]
  },
  {
   "cell_type": "code",
   "execution_count": 8,
   "metadata": {},
   "outputs": [
    {
     "name": "stdout",
     "output_type": "stream",
     "text": [
      "['예약/Noun', '할/Verb', '때/Noun', '는/Josa', '룸/Noun', '을/Josa', '주기/Noun', '로/Josa', '하고/Verb', '홀/Noun', '을/Josa', '주고/Verb', '덥고/Adjective', '직원/Noun', '들/Suffix', '이/Josa', '정신/Noun', '이/Josa', '없어/Adjective', '그/Noun', '가격/Noun', '에/Josa', '내/Noun', '가/Josa', '직접/Noun', '구워/Verb', '먹고/Verb', '갈비살/Noun', '등심/Noun', '은/Josa', '질/Noun', '기고/Noun', '냉면/Noun', '은/Josa', '맛/Noun', '이/Josa', '없고/Adjective', '장어/Noun', '양념/Noun', '들/Suffix', '도/Josa', '제/Noun', '때/Noun', '안/Noun', '가져다/Verb', '주고/Verb', '회식/Noun', '으로/Josa', '한/Determiner', '시간/Noun', '만에/Josa', '만원/Noun', '을/Josa', '썼는데/Verb', '이런/Adjective', '경험/Noun', '처음/Noun', '입니다/Adjective']\n"
     ]
    }
   ],
   "source": [
    "# 텍스트 데이터 형태소 추출\n",
    "def get_pos(x) :\n",
    "    tagger = Okt()\n",
    "    pos = tagger.pos(x)\n",
    "    # word : konlpy 모듈 형태소 분석단어\n",
    "    # tag : 형태소 분석된 품사\n",
    "    pos = ['{0}/{1}'.format(word, tag) for word, tag in pos]\n",
    "    return pos\n",
    "\n",
    "result = get_pos(df['ko_text'].values[0])\n",
    "print(result)"
   ]
  },
  {
   "cell_type": "code",
   "execution_count": 9,
   "metadata": {},
   "outputs": [
    {
     "data": {
      "text/plain": [
       "(80, 779)"
      ]
     },
     "execution_count": 9,
     "metadata": {},
     "output_type": "execute_result"
    }
   ],
   "source": [
    "from sklearn.feature_extraction.text import CountVectorizer\n",
    "                     #글뭉치(corpus) 인덱스로 생성\n",
    "index_vectorizer = CountVectorizer(tokenizer = lambda x : get_pos(x))\n",
    "# \n",
    " # 형태소분석하고 단어품사 분리\n",
    "x = index_vectorizer.fit_transform(df['ko_text'].tolist())\n",
    "x.shape"
   ]
  },
  {
   "cell_type": "code",
   "execution_count": 48,
   "metadata": {},
   "outputs": [
    {
     "name": "stdout",
     "output_type": "stream",
     "text": [
      "  (0, 504)\t1\n",
      "  (0, 743)\t1\n",
      "  (0, 224)\t2\n",
      "  (0, 162)\t1\n",
      "  (0, 236)\t1\n",
      "  (0, 538)\t3\n",
      "  (0, 631)\t1\n",
      "  (0, 235)\t1\n",
      "  (0, 721)\t1\n",
      "  (0, 769)\t1\n",
      "  (0, 629)\t2\n",
      "  (0, 189)\t1\n",
      "  (0, 650)\t1\n",
      "  (0, 210)\t2\n",
      "  (0, 546)\t3\n",
      "  (0, 609)\t1\n",
      "  (0, 485)\t1\n",
      "  (0, 97)\t1\n",
      "  (0, 18)\t1\n",
      "  (0, 491)\t1\n",
      "  (0, 141)\t1\n",
      "  (0, 13)\t1\n",
      "  (0, 651)\t1\n",
      "  (0, 87)\t1\n",
      "  (0, 281)\t1\n",
      "  (0, 34)\t1\n",
      "  (0, 222)\t1\n",
      "  (0, 537)\t2\n",
      "  (0, 653)\t1\n",
      "  (0, 107)\t1\n",
      "  (0, 145)\t1\n",
      "  (0, 258)\t1\n",
      "  (0, 481)\t1\n",
      "  (0, 588)\t1\n",
      "  (0, 468)\t1\n",
      "  (0, 192)\t1\n",
      "  (0, 610)\t1\n",
      "  (0, 453)\t1\n",
      "  (0, 29)\t1\n",
      "  (0, 772)\t1\n",
      "  (0, 536)\t1\n",
      "  (0, 738)\t1\n",
      "  (0, 417)\t1\n",
      "  (0, 250)\t1\n",
      "  (0, 251)\t1\n",
      "  (0, 439)\t1\n",
      "  (0, 551)\t1\n",
      "  (0, 61)\t1\n",
      "  (0, 672)\t1\n",
      "  (0, 573)\t1\n",
      "  (0, 650)\t1\n",
      "  (0, 13)\t1\n",
      "  (0, 604)\t1\n",
      "  (0, 585)\t1\n",
      "  (0, 761)\t1\n",
      "  (0, 79)\t1\n",
      "  (0, 776)\t1\n",
      "  (0, 691)\t1\n",
      "  (0, 723)\t1\n",
      "  (0, 618)\t1\n",
      "  (0, 635)\t1\n",
      "  (0, 22)\t1\n",
      "  (0, 540)\t1\n",
      "  (0, 261)\t1\n",
      "  (0, 363)\t1\n",
      "  (0, 689)\t1\n",
      "  (0, 600)\t1\n",
      "  (0, 321)\t1\n",
      "  (0, 648)\t1\n",
      "\n",
      "  (0, 154)\t1\n",
      "  (0, 155)\t1\n",
      "\n",
      "\n",
      "  (0, 162)\t1\n",
      "  (0, 546)\t1\n",
      "  (0, 491)\t1\n",
      "  (0, 192)\t1\n",
      "  (0, 251)\t1\n",
      "  (0, 672)\t1\n",
      "  (0, 529)\t1\n",
      "  (0, 238)\t1\n",
      "  (0, 451)\t1\n",
      "  (0, 454)\t2\n",
      "  (0, 443)\t1\n",
      "  (0, 444)\t1\n",
      "  (0, 506)\t1\n",
      "  (0, 247)\t1\n",
      "  (0, 516)\t1\n",
      "  (0, 397)\t1\n",
      "  (0, 49)\t1\n",
      "  (0, 129)\t1\n",
      "  (0, 641)\t1\n",
      "  (0, 333)\t1\n",
      "  (0, 66)\t1\n",
      "  (0, 511)\t1\n",
      "  (0, 116)\t1\n",
      "  (0, 54)\t2\n",
      "  (0, 318)\t1\n",
      "  (0, 643)\t1\n",
      "  (0, 509)\t1\n",
      "  (0, 460)\t1\n",
      "  (0, 547)\t1\n",
      "  (0, 58)\t1\n",
      "  (0, 409)\t1\n",
      "  (0, 569)\t1\n",
      "  (0, 71)\t1\n",
      "  (0, 446)\t1\n",
      "  (0, 301)\t1\n",
      "  (0, 265)\t1\n",
      "  (0, 649)\t1\n",
      "  (0, 191)\t1\n",
      "  (0, 168)\t1\n",
      "  (0, 510)\t1\n",
      "  (0, 48)\t1\n",
      "  (0, 660)\t1\n",
      "  (0, 389)\t1\n",
      "  (0, 657)\t1\n",
      "  (0, 186)\t1\n",
      "  (0, 132)\t1\n",
      "  (0, 538)\t2\n",
      "  (0, 454)\t1\n",
      "  (0, 66)\t1\n",
      "  (0, 450)\t1\n",
      "  (0, 300)\t1\n",
      "  (0, 246)\t1\n",
      "  (0, 527)\t1\n",
      "  (0, 477)\t1\n",
      "  (0, 237)\t1\n",
      "  (0, 285)\t2\n",
      "  (0, 62)\t1\n",
      "  (0, 88)\t1\n",
      "  (0, 337)\t1\n",
      "  (0, 159)\t1\n",
      "  (0, 314)\t1\n",
      "  (0, 352)\t1\n",
      "  (0, 652)\t1\n",
      "  (0, 373)\t1\n",
      "  (0, 437)\t1\n",
      "  (0, 142)\t1\n",
      "  (0, 663)\t1\n",
      "  (0, 637)\t1\n",
      "  (0, 382)\t1\n",
      "  (0, 504)\t1\n",
      "  (0, 546)\t2\n",
      "  (0, 491)\t2\n",
      "  (0, 536)\t1\n",
      "  (0, 49)\t1\n",
      "  (0, 531)\t1\n",
      "  (0, 178)\t1\n",
      "  (0, 599)\t1\n",
      "  (0, 326)\t1\n",
      "  (0, 628)\t1\n",
      "  (0, 297)\t1\n",
      "  (0, 577)\t1\n",
      "  (0, 68)\t1\n",
      "  (0, 457)\t1\n",
      "  (0, 483)\t1\n",
      "  (0, 746)\t1\n",
      "  (0, 669)\t1\n",
      "  (0, 597)\t1\n",
      "  (0, 690)\t1\n",
      "  (0, 494)\t1\n",
      "  (0, 463)\t1\n",
      "  (0, 632)\t1\n",
      "  (0, 239)\t1\n",
      "  (0, 165)\t1\n",
      "  (0, 695)\t1\n",
      "  (0, 213)\t1\n",
      "  (0, 367)\t1\n",
      "  (0, 296)\t1\n",
      "  (0, 298)\t1\n",
      "  (0, 475)\t1\n",
      "  (0, 727)\t1\n",
      "  (0, 713)\t1\n",
      "  (0, 399)\t1\n",
      "  (0, 702)\t1\n",
      "  (0, 412)\t1\n",
      "  (0, 182)\t1\n",
      "  (0, 567)\t1\n",
      "  (0, 255)\t1\n",
      "  (0, 358)\t1\n",
      "  (0, 346)\t1\n",
      "  (0, 18)\t1\n",
      "  (0, 13)\t1\n",
      "  (0, 573)\t1\n",
      "  (0, 397)\t1\n",
      "  (0, 129)\t1\n",
      "  (0, 182)\t1\n",
      "  (0, 428)\t1\n",
      "  (0, 774)\t1\n",
      "  (0, 542)\t1\n",
      "  (0, 147)\t1\n",
      "  (0, 339)\t1\n"
     ]
    }
   ],
   "source": [
    "for a in x[:10] :\n",
    "    print(a)"
   ]
  },
  {
   "cell_type": "code",
   "execution_count": 98,
   "metadata": {},
   "outputs": [
    {
     "name": "stdout",
     "output_type": "stream",
     "text": [
      "{'예약/Noun': 504, '할/Verb': 743, '때/Noun': 224, '는/Josa': 162..\n"
     ]
    }
   ],
   "source": [
    "print(str(index_vectorizer.vocabulary_)[:60]+\"..\")"
   ]
  },
  {
   "cell_type": "code",
   "execution_count": 99,
   "metadata": {},
   "outputs": [],
   "source": [
    "# TF-IDF 변환\n",
    "# TF : 1개 텍스트에 맛집 3번 있으면 3\n",
    "# IDF : INVERSE역산 DF\n",
    "#       모든 데이터에서 맛집단어가 10번이 존재, 0.1값\n",
    "# TF - IDF 전체문서에서 나타나지 않지만 현재문서에서 많이 나타나면\n",
    "#             그 단어가 현재문서에서 중요한 단어로 판단"
   ]
  },
  {
   "cell_type": "code",
   "execution_count": 10,
   "metadata": {},
   "outputs": [
    {
     "name": "stdout",
     "output_type": "stream",
     "text": [
      "(80, 779)\n"
     ]
    }
   ],
   "source": [
    "from sklearn.feature_extraction.text import TfidfTransformer\n",
    "# 글뭉치, 형태소분석의 단어\n",
    "tfidf_vectorizer =  TfidfTransformer()\n",
    "x = tfidf_vectorizer.fit_transform(x)\n",
    "print(x.shape)\n"
   ]
  },
  {
   "cell_type": "code",
   "execution_count": 17,
   "metadata": {},
   "outputs": [],
   "source": [
    "# 긍부정 리뷰분류\n",
    "# 데이터셋 분리\n",
    "from sklearn.model_selection import train_test_split\n",
    "y = df['y']\n",
    "x_train, x_test, y_train, y_test = train_test_split(x, y, test_size = 0.30)"
   ]
  },
  {
   "cell_type": "code",
   "execution_count": 57,
   "metadata": {},
   "outputs": [
    {
     "ename": "NameError",
     "evalue": "name 'x_train' is not defined",
     "output_type": "error",
     "traceback": [
      "\u001b[1;31m---------------------------------------------------------------------------\u001b[0m",
      "\u001b[1;31mNameError\u001b[0m                                 Traceback (most recent call last)",
      "\u001b[1;32m<ipython-input-57-2132a220a582>\u001b[0m in \u001b[0;36m<module>\u001b[1;34m\u001b[0m\n\u001b[1;32m----> 1\u001b[1;33m \u001b[0mx_train\u001b[0m\u001b[1;33m.\u001b[0m\u001b[0mshape\u001b[0m\u001b[1;33m\u001b[0m\u001b[1;33m\u001b[0m\u001b[0m\n\u001b[0m",
      "\u001b[1;31mNameError\u001b[0m: name 'x_train' is not defined"
     ]
    }
   ],
   "source": [
    "x_train.shape"
   ]
  },
  {
   "cell_type": "code",
   "execution_count": 18,
   "metadata": {},
   "outputs": [],
   "source": [
    "from sklearn.linear_model import LogisticRegression\n",
    "lr = LogisticRegression(random_state = 0)\n",
    "lr.fit(x_train, y_train)\n",
    "y_pred = lr.predict(x_test)"
   ]
  },
  {
   "cell_type": "code",
   "execution_count": 19,
   "metadata": {},
   "outputs": [
    {
     "data": {
      "text/plain": [
       "(56, 779)"
      ]
     },
     "execution_count": 19,
     "metadata": {},
     "output_type": "execute_result"
    }
   ],
   "source": [
    "x_train.shape"
   ]
  },
  {
   "cell_type": "code",
   "execution_count": 21,
   "metadata": {},
   "outputs": [
    {
     "data": {
      "text/plain": [
       "779"
      ]
     },
     "execution_count": 21,
     "metadata": {},
     "output_type": "execute_result"
    }
   ],
   "source": [
    "len(lr.coef_[0])"
   ]
  },
  {
   "cell_type": "code",
   "execution_count": 24,
   "metadata": {},
   "outputs": [
    {
     "data": {
      "text/plain": [
       "<BarContainer object of 779 artists>"
      ]
     },
     "execution_count": 24,
     "metadata": {},
     "output_type": "execute_result"
    },
    {
     "data": {
      "image/png": "[encoded data removed]",
      "text/plain": [
       "<Figure size 720x576 with 1 Axes>"
      ]
     },
     "metadata": {
      "needs_background": "light"
     },
     "output_type": "display_data"
    }
   ],
   "source": [
    "import matplotlib.pyplot as plt\n",
    "plt.rcParams['figure.figsize'] = [10, 8]\n",
    "plt.bar(range(len(lr.coef_[0])), lr.coef_[0])"
   ]
  },
  {
   "cell_type": "code",
   "execution_count": 27,
   "metadata": {},
   "outputs": [
    {
     "data": {
      "text/plain": [
       "[(0.31921037916122147, 269),\n",
       " (0.31181674718077157, 266),\n",
       " (0.31181674718077157, 2),\n",
       " (0.22722099938708767, 778),\n",
       " (0.22499528665817484, 719)]"
      ]
     },
     "execution_count": 27,
     "metadata": {},
     "output_type": "execute_result"
    }
   ],
   "source": [
    "# lr.coef_[0] 내림차순\n",
    "# 상위 양수 : 긍정적인 단어, 긍정가중치\n",
    "sorted(((value, index) for index, value in enumerate(lr.coef_[0])), reverse=True)[:5]"
   ]
  },
  {
   "cell_type": "code",
   "execution_count": 28,
   "metadata": {},
   "outputs": [
    {
     "data": {
      "text/plain": [
       "[(-0.3303223649310512, 736),\n",
       " (-0.35074686047120107, 374),\n",
       " (-0.35074686047120107, 80),\n",
       " (-0.3756982096297823, 538),\n",
       " (-0.3907079128326151, 147)]"
      ]
     },
     "execution_count": 28,
     "metadata": {},
     "output_type": "execute_result"
    }
   ],
   "source": [
    "# 하위 음수 : 부정적인 단어, 부정 가중치값 5개\n",
    "sorted(((value, index) for index, value in enumerate(lr.coef_[0])), reverse=True)[-5:]"
   ]
  },
  {
   "cell_type": "code",
   "execution_count": 32,
   "metadata": {},
   "outputs": [
    {
     "name": "stdout",
     "output_type": "stream",
     "text": [
      "예약/Noun 504\n",
      "할/Verb 743\n",
      "때/Noun 224\n",
      "는/Josa 162\n",
      "룸/Noun 236\n",
      "을/Josa 538\n",
      "주기/Noun 631\n",
      "로/Josa 235\n",
      "하고/Verb 721\n",
      "홀/Noun 769\n"
     ]
    }
   ],
   "source": [
    "coef_pos_index = sorted(((value, index) for index, value in enumerate(lr.coef_[0])), reverse=True)\n",
    "invert_index_vectorizer = { v : k for k, v in index_vectorizer.vocabulary_.items()}\n",
    "cnt = 0\n",
    "for k, v in index_vectorizer.vocabulary_.items() :\n",
    "    print(k, v)\n",
    "    cnt += 1\n",
    "    if cnt >= 10 :\n",
    "        break\n",
    "# index_vectorizer 글뭉치 데이터\n",
    "# invert_index_vectorizer 피처 인덱스 : 단어 / 품사"
   ]
  },
  {
   "cell_type": "code",
   "execution_count": 30,
   "metadata": {},
   "outputs": [
    {
     "name": "stdout",
     "output_type": "stream",
     "text": [
      "맛있어요/Adjective 0.31921037916122147\n",
      "맛있댜/Noun 0.31181674718077157\n",
      "ㅈㅁㅌㅌㄱㄹ/KoreanParticle 0.31181674718077157\n",
      "흠/Noun 0.22722099938708767\n",
      "하/Suffix 0.22499528665817484\n",
      "비싸다으/Adjective 0.22048773641905486\n",
      "맛잇으느/Noun 0.22048773641905486\n",
      "녹아/Verb 0.22048773641905486\n",
      "녹는다/Verb 0.22048773641905486\n",
      "탕/Noun 0.2164660184839546\n",
      "도리/Noun 0.2164660184839546\n",
      "아이스크림/Noun 0.21489782468607826\n",
      "후식/Noun 0.2005066237398065\n",
      "매번/Noun 0.19501461266793108\n",
      "맛있어용/Adjective 0.19425368225749348\n",
      "만족스러/Adjective 0.19425368225749348\n",
      "삼겹/Noun 0.19379228613545138\n",
      "떡/Noun 0.19269205269234155\n",
      "맛있네요/Adjective 0.19081949184719\n",
      "닭갈비/Noun 0.1884669938903386\n"
     ]
    }
   ],
   "source": [
    "# 회귀모델의 계수를 index_vectorizer에 맵핑하여, 어떤 형태소인지 출력\n",
    "for coef in coef_pos_index[:20] :\n",
    "    print(invert_index_vectorizer[coef[1]], coef[0]) # 단어 품사\n",
    "#      피처 인덱스값 가져와서, ceof 가중치 가져오기\n",
    "# 진짜 신기하당. 원리는 강사님도 모른다"
   ]
  },
  {
   "cell_type": "code",
   "execution_count": 31,
   "metadata": {},
   "outputs": [
    {
     "name": "stdout",
     "output_type": "stream",
     "text": [
      "할말은/Verb -0.24837542600818435\n",
      "않습니다/Verb -0.24837542600818435\n",
      "많지만/Adjective -0.24837542600818435\n",
      "그냥/Noun -0.2558545368223156\n",
      "내/Noun -0.2666707017208134\n",
      "먹기/Noun -0.2691943240304982\n",
      "불친절해요/Adjective -0.282816560343047\n",
      "해줌/Verb -0.2946023898159785\n",
      "편하게/Adjective -0.2946023898159785\n",
      "ㅜㅜ/KoreanParticle -0.29915590661697383\n",
      "요/Josa -0.30167857441633256\n",
      "평범함/Adjective -0.32572092898704597\n",
      "무질/Noun -0.3292976179312531\n",
      "너/Modifier -0.3292976179312531\n",
      "겨/Noun -0.3292976179312531\n",
      "하지/Verb -0.3303223649310512\n",
      "비싸긴한데/Adjective -0.35074686047120107\n",
      "괜찮아요/Adjective -0.35074686047120107\n",
      "을/Josa -0.3756982096297823\n",
      "너무/Adverb -0.3907079128326151\n"
     ]
    }
   ],
   "source": [
    "for coef in coef_pos_index[-20:] :\n",
    "    print(invert_index_vectorizer[coef[1]], coef[0])"
   ]
  },
  {
   "cell_type": "code",
   "execution_count": 40,
   "metadata": {},
   "outputs": [
    {
     "data": {
      "text/plain": [
       "[('맛있댜/Noun', 0.31181674718077157),\n",
       " ('흠/Noun', 0.22722099938708767),\n",
       " ('맛잇으느/Noun', 0.22048773641905486),\n",
       " ('탕/Noun', 0.2164660184839546),\n",
       " ('도리/Noun', 0.2164660184839546),\n",
       " ('아이스크림/Noun', 0.21489782468607826),\n",
       " ('후식/Noun', 0.2005066237398065),\n",
       " ('매번/Noun', 0.19501461266793108),\n",
       " ('삼겹/Noun', 0.19379228613545138),\n",
       " ('떡/Noun', 0.19269205269234155)]"
      ]
     },
     "execution_count": 40,
     "metadata": {},
     "output_type": "execute_result"
    }
   ],
   "source": [
    "# 명사 기준으로 긍정 10개, 부정 10개\n",
    "noun_list=[]\n",
    "for coef in coef_pos_index :\n",
    "    category = invert_index_vectorizer[coef[1]].split(\"/\")[1] # 이름 가져오고 split\n",
    "    if category == 'Noun' :\n",
    "        noun_list.append((invert_index_vectorizer[coef[1]], coef[0]))\n",
    "noun_list[:10]"
   ]
  },
  {
   "cell_type": "code",
   "execution_count": null,
   "metadata": {},
   "outputs": [],
   "source": []
  },
  {
   "cell_type": "code",
   "execution_count": 42,
   "metadata": {},
   "outputs": [
    {
     "data": {
      "text/plain": [
       "[('맛있어요/Adjective', 0.31921037916122147),\n",
       " ('비싸다으/Adjective', 0.22048773641905486),\n",
       " ('맛있어용/Adjective', 0.19425368225749348),\n",
       " ('만족스러/Adjective', 0.19425368225749348),\n",
       " ('맛있네요/Adjective', 0.19081949184719),\n",
       " ('맛있고/Adjective', 0.16450683695840304),\n",
       " ('맛있게/Adjective', 0.16330050009866345),\n",
       " ('좋음/Adjective', 0.1431229621617376),\n",
       " ('정갈하게/Adjective', 0.1431229621617376),\n",
       " ('비싸지만/Adjective', 0.1431229621617376)]"
      ]
     },
     "execution_count": 42,
     "metadata": {},
     "output_type": "execute_result"
    }
   ],
   "source": [
    "# 형용사 기준으로 긍정 10개, 부정 10개\n",
    "adjective_list=[]\n",
    "for coef in coef_pos_index :\n",
    "    category = invert_index_vectorizer[coef[1]].split(\"/\")[1] # 이름 가져오고 split\n",
    "    if category == 'Adjective' :\n",
    "        adjective_list.append((invert_index_vectorizer[coef[1]], coef[0]))\n",
    "adjective_list[:10]        "
   ]
  },
  {
   "cell_type": "code",
   "execution_count": null,
   "metadata": {},
   "outputs": [],
   "source": []
  },
  {
   "cell_type": "code",
   "execution_count": null,
   "metadata": {},
   "outputs": [],
   "source": []
  },
  {
   "cell_type": "code",
   "execution_count": 60,
   "metadata": {},
   "outputs": [
    {
     "ename": "NameError",
     "evalue": "name 'y_test' is not defined",
     "output_type": "error",
     "traceback": [
      "\u001b[1;31m---------------------------------------------------------------------------\u001b[0m",
      "\u001b[1;31mNameError\u001b[0m                                 Traceback (most recent call last)",
      "\u001b[1;32m<ipython-input-60-865ae520141b>\u001b[0m in \u001b[0;36m<module>\u001b[1;34m\u001b[0m\n\u001b[0;32m      1\u001b[0m \u001b[1;32mfrom\u001b[0m \u001b[0msklearn\u001b[0m\u001b[1;33m.\u001b[0m\u001b[0mmetrics\u001b[0m \u001b[1;32mimport\u001b[0m \u001b[0maccuracy_score\u001b[0m\u001b[1;33m,\u001b[0m \u001b[0mprecision_score\u001b[0m\u001b[1;33m,\u001b[0m \u001b[0mrecall_score\u001b[0m\u001b[1;33m,\u001b[0m \u001b[0mf1_score\u001b[0m\u001b[1;33m\u001b[0m\u001b[1;33m\u001b[0m\u001b[0m\n\u001b[1;32m----> 2\u001b[1;33m \u001b[0mprint\u001b[0m\u001b[1;33m(\u001b[0m\u001b[1;34m\"accuracy :%.2f\"\u001b[0m \u001b[1;33m%\u001b[0m\u001b[0maccuracy_score\u001b[0m\u001b[1;33m(\u001b[0m\u001b[0my_test\u001b[0m\u001b[1;33m,\u001b[0m \u001b[0my_pred\u001b[0m\u001b[1;33m)\u001b[0m\u001b[1;33m)\u001b[0m\u001b[1;33m\u001b[0m\u001b[1;33m\u001b[0m\u001b[0m\n\u001b[0m\u001b[0;32m      3\u001b[0m \u001b[0mprint\u001b[0m\u001b[1;33m(\u001b[0m\u001b[1;34m\"precision_score :%.2f\"\u001b[0m \u001b[1;33m%\u001b[0m\u001b[0mprecision_score\u001b[0m\u001b[1;33m(\u001b[0m\u001b[0my_test\u001b[0m\u001b[1;33m,\u001b[0m \u001b[0my_pred\u001b[0m\u001b[1;33m)\u001b[0m\u001b[1;33m)\u001b[0m\u001b[1;33m\u001b[0m\u001b[1;33m\u001b[0m\u001b[0m\n\u001b[0;32m      4\u001b[0m \u001b[0mprint\u001b[0m\u001b[1;33m(\u001b[0m\u001b[1;34m\"recall_score :%.2f\"\u001b[0m \u001b[1;33m%\u001b[0m\u001b[0mrecall_score\u001b[0m\u001b[1;33m(\u001b[0m\u001b[0my_test\u001b[0m\u001b[1;33m,\u001b[0m \u001b[0my_pred\u001b[0m\u001b[1;33m)\u001b[0m\u001b[1;33m)\u001b[0m\u001b[1;33m\u001b[0m\u001b[1;33m\u001b[0m\u001b[0m\n\u001b[0;32m      5\u001b[0m \u001b[0mprint\u001b[0m\u001b[1;33m(\u001b[0m\u001b[1;34m\"f1_score :%.2f\"\u001b[0m \u001b[1;33m%\u001b[0m\u001b[0mf1_score\u001b[0m\u001b[1;33m(\u001b[0m\u001b[0my_test\u001b[0m\u001b[1;33m,\u001b[0m \u001b[0my_pred\u001b[0m\u001b[1;33m)\u001b[0m\u001b[1;33m)\u001b[0m\u001b[1;33m\u001b[0m\u001b[1;33m\u001b[0m\u001b[0m\n",
      "\u001b[1;31mNameError\u001b[0m: name 'y_test' is not defined"
     ]
    }
   ],
   "source": [
    "from sklearn.metrics import accuracy_score, precision_score, recall_score, f1_score\n",
    "print(\"accuracy :%.2f\" %accuracy_score(y_test, y_pred)) # (TP+TN) / TP+TN+FP+FN\n",
    "print(\"precision_score :%.2f\" %precision_score(y_test, y_pred))\n",
    "print(\"recall_score :%.2f\" %recall_score(y_test, y_pred))\n",
    "print(\"f1_score :%.2f\" %f1_score(y_test, y_pred))"
   ]
  },
  {
   "cell_type": "code",
   "execution_count": null,
   "metadata": {},
   "outputs": [],
   "source": [
    "# (TP+TN) / TP+TN+FP+FN\n",
    "# print(\"accuracy :%.2f\" %accuracy_score(y_test, y_pred)) \n",
    "=> 그냥 다 TRUE로 하면 90%인데?\n",
    "\n",
    "# TP / TP+FP\n",
    "# print(\"precision_score :%.2f\" %precision_score(y_test, y_pred))\n",
    "=> 얼마나 적절하게 맞췄는가?, TRUE 예측 중에  실제 TRUE\n",
    "\n",
    "# (TP+TN) / TP+FN\n",
    "# print(\"recall_score :%.2f\" %recall_score(y_test, y_pred))\n",
    "\n",
    "# print(\"f1_score :%.2f\" %f1_score(y_test, y_pred))"
   ]
  },
  {
   "cell_type": "code",
   "execution_count": 104,
   "metadata": {},
   "outputs": [
    {
     "ename": "ImportError",
     "evalue": "cannot import name 'confusion_metrix' from 'sklearn.metrics' (C:\\Users\\pc\\anaconda3\\lib\\site-packages\\sklearn\\metrics\\__init__.py)",
     "output_type": "error",
     "traceback": [
      "\u001b[1;31m---------------------------------------------------------------------------\u001b[0m",
      "\u001b[1;31mImportError\u001b[0m                               Traceback (most recent call last)",
      "\u001b[1;32m<ipython-input-104-1fab317faba1>\u001b[0m in \u001b[0;36m<module>\u001b[1;34m\u001b[0m\n\u001b[1;32m----> 1\u001b[1;33m \u001b[1;32mfrom\u001b[0m \u001b[0msklearn\u001b[0m\u001b[1;33m.\u001b[0m\u001b[0mmetrics\u001b[0m \u001b[1;32mimport\u001b[0m \u001b[0mconfusion_metrix\u001b[0m\u001b[1;33m\u001b[0m\u001b[1;33m\u001b[0m\u001b[0m\n\u001b[0m\u001b[0;32m      2\u001b[0m \u001b[0mconfmat\u001b[0m \u001b[1;33m=\u001b[0m \u001b[0mcontusion_matrix\u001b[0m\u001b[1;33m(\u001b[0m\u001b[0my_test\u001b[0m\u001b[1;33m,\u001b[0m \u001b[0my_pred\u001b[0m\u001b[1;33m)\u001b[0m\u001b[1;33m\u001b[0m\u001b[1;33m\u001b[0m\u001b[0m\n\u001b[0;32m      3\u001b[0m \u001b[0mprint\u001b[0m\u001b[1;33m(\u001b[0m\u001b[0mconfmat\u001b[0m\u001b[1;33m)\u001b[0m\u001b[1;33m\u001b[0m\u001b[1;33m\u001b[0m\u001b[0m\n",
      "\u001b[1;31mImportError\u001b[0m: cannot import name 'confusion_metrix' from 'sklearn.metrics' (C:\\Users\\pc\\anaconda3\\lib\\site-packages\\sklearn\\metrics\\__init__.py)"
     ]
    }
   ],
   "source": [
    "from sklearn.metrics import confusion_metrix\n",
    "confmat = contusion_matrix(y_test, y_pred)\n",
    "print(confmat)\n",
    "# [[]\n",
    "# []]"
   ]
  },
  {
   "cell_type": "code",
   "execution_count": null,
   "metadata": {},
   "outputs": [],
   "source": [
    "실0[][]\n",
    "실1[][]\n",
    "  예0예1\n",
    "TP : 실제 T, 예측 P // 진짜 posi 54\n",
    "TN : 실제 F, 예측 N // 진짜 nega8\n",
    "FP : 실제 F, 예측 P 가짜 posi 31\n",
    "FN : 실제 T, 예측 n 가짜 false 1\n",
    "F[TN][FP]\n",
    "T[FN][TP]\n",
    "  N P\n",
    "정확도 62(54+8) / 94(54+8+31+1)  = 0.659\n",
    "정밀도 54 / 85(54+31) = 0.635\n",
    "재현율 54 / 55(54 + 1) = 0.9818\n",
    "F1score 2*( 0.635* 0.9818) / ( 0.635+ 0.9818)\n",
    "    \n",
    "# 특이도 specificity 모델이 false로 예측한 정답중 실제 false\n",
    "tn / tn+fp\n"
   ]
  },
  {
   "cell_type": "code",
   "execution_count": null,
   "metadata": {},
   "outputs": [],
   "source": [
    "roc\n",
    "roc\n",
    "y : tpr true positive rate 진짜 양성비율\n",
    "x : Fpr false positive rate 가짜 양성비율 1-특이율\n",
    "auc (Area under the curve) : 곡선 아래 면적"
   ]
  },
  {
   "cell_type": "code",
   "execution_count": 105,
   "metadata": {},
   "outputs": [
    {
     "ename": "NameError",
     "evalue": "name 'x_test' is not defined",
     "output_type": "error",
     "traceback": [
      "\u001b[1;31m---------------------------------------------------------------------------\u001b[0m",
      "\u001b[1;31mNameError\u001b[0m                                 Traceback (most recent call last)",
      "\u001b[1;32m<ipython-input-105-cd61d615b505>\u001b[0m in \u001b[0;36m<module>\u001b[1;34m\u001b[0m\n\u001b[0;32m      2\u001b[0m \u001b[1;32mfrom\u001b[0m \u001b[0msklearn\u001b[0m\u001b[1;33m.\u001b[0m\u001b[0mmetrics\u001b[0m \u001b[1;32mimport\u001b[0m \u001b[0mroc_curve\u001b[0m\u001b[1;33m,\u001b[0m \u001b[0mroc_auc_score\u001b[0m\u001b[1;33m\u001b[0m\u001b[1;33m\u001b[0m\u001b[0m\n\u001b[0;32m      3\u001b[0m \u001b[1;32mimport\u001b[0m \u001b[0mmatplotlib\u001b[0m\u001b[1;33m.\u001b[0m\u001b[0mpyplot\u001b[0m \u001b[1;32mas\u001b[0m \u001b[0mplt\u001b[0m\u001b[1;33m\u001b[0m\u001b[1;33m\u001b[0m\u001b[0m\n\u001b[1;32m----> 4\u001b[1;33m \u001b[0my_pred_probability\u001b[0m \u001b[1;33m=\u001b[0m \u001b[0mlr\u001b[0m\u001b[1;33m.\u001b[0m\u001b[0mpredict_proba\u001b[0m\u001b[1;33m(\u001b[0m\u001b[0mx_test\u001b[0m\u001b[1;33m)\u001b[0m\u001b[1;33m[\u001b[0m\u001b[1;33m:\u001b[0m\u001b[1;33m,\u001b[0m\u001b[1;36m1\u001b[0m\u001b[1;33m]\u001b[0m\u001b[1;33m\u001b[0m\u001b[1;33m\u001b[0m\u001b[0m\n\u001b[0m\u001b[0;32m      5\u001b[0m \u001b[0mfalse_positive_rate\u001b[0m\u001b[1;33m,\u001b[0m \u001b[0mtrue_positive_rate\u001b[0m\u001b[1;33m,\u001b[0m \u001b[0mthresholds\u001b[0m \u001b[1;33m=\u001b[0m\u001b[0;31m \u001b[0m\u001b[0;31m\\\u001b[0m\u001b[1;33m\u001b[0m\u001b[1;33m\u001b[0m\u001b[0m\n\u001b[0;32m      6\u001b[0m             \u001b[0mroc_curve\u001b[0m\u001b[1;33m(\u001b[0m\u001b[0my_test\u001b[0m\u001b[1;33m,\u001b[0m \u001b[0my_pred_probability\u001b[0m\u001b[1;33m)\u001b[0m\u001b[1;33m\u001b[0m\u001b[1;33m\u001b[0m\u001b[0m\n",
      "\u001b[1;31mNameError\u001b[0m: name 'x_test' is not defined"
     ]
    }
   ],
   "source": [
    "# roc\n",
    "from sklearn.metrics import roc_curve, roc_auc_score\n",
    "import matplotlib.pyplot as plt\n",
    "# y_pred 예측값\n",
    "# y_pred_probability 예측값의 확률값\n",
    "y_pred_probability = lr.predict_proba(x_test)[:,1]\n",
    "false_positive_rate, true_positive_rate, thresholds = \\\n",
    "            roc_curve(y_test, y_pred_probability)\n",
    "roc_auc = roc_auc_score(y_test, y_pred_probability)\n",
    "print('AUC : %.3f' % roc_auc)"
   ]
  },
  {
   "cell_type": "code",
   "execution_count": 106,
   "metadata": {},
   "outputs": [
    {
     "ename": "NameError",
     "evalue": "name 'false_positive_rate' is not defined",
     "output_type": "error",
     "traceback": [
      "\u001b[1;31m---------------------------------------------------------------------------\u001b[0m",
      "\u001b[1;31mNameError\u001b[0m                                 Traceback (most recent call last)",
      "\u001b[1;32m<ipython-input-106-ef3af5668590>\u001b[0m in \u001b[0;36m<module>\u001b[1;34m\u001b[0m\n\u001b[0;32m      1\u001b[0m \u001b[0mplt\u001b[0m\u001b[1;33m.\u001b[0m\u001b[0mrcParams\u001b[0m\u001b[1;33m[\u001b[0m\u001b[1;34m'figure.figsize'\u001b[0m\u001b[1;33m]\u001b[0m \u001b[1;33m=\u001b[0m \u001b[1;33m[\u001b[0m\u001b[1;36m5\u001b[0m\u001b[1;33m,\u001b[0m \u001b[1;36m4\u001b[0m\u001b[1;33m]\u001b[0m\u001b[1;33m\u001b[0m\u001b[1;33m\u001b[0m\u001b[0m\n\u001b[1;32m----> 2\u001b[1;33m plt.plot(false_positive_rate, true_positive_rate, \\\n\u001b[0m\u001b[0;32m      3\u001b[0m          \u001b[0mlabel\u001b[0m\u001b[1;33m=\u001b[0m\u001b[1;34m'ROC  Curve(area = %0.3f)'\u001b[0m \u001b[1;33m%\u001b[0m \u001b[0mroc_auc\u001b[0m\u001b[1;33m,\u001b[0m\u001b[1;33m\u001b[0m\u001b[1;33m\u001b[0m\u001b[0m\n\u001b[0;32m      4\u001b[0m          color = 'red', linewidth=4.0)\n\u001b[0;32m      5\u001b[0m \u001b[0mplt\u001b[0m\u001b[1;33m.\u001b[0m\u001b[0mplot\u001b[0m\u001b[1;33m(\u001b[0m\u001b[1;33m[\u001b[0m\u001b[1;36m0\u001b[0m\u001b[1;33m,\u001b[0m\u001b[1;36m1\u001b[0m\u001b[1;33m]\u001b[0m\u001b[1;33m,\u001b[0m \u001b[1;33m[\u001b[0m\u001b[1;36m0\u001b[0m\u001b[1;33m,\u001b[0m\u001b[1;36m1\u001b[0m\u001b[1;33m]\u001b[0m\u001b[1;33m,\u001b[0m \u001b[1;34m'k--'\u001b[0m\u001b[1;33m)\u001b[0m\u001b[1;33m\u001b[0m\u001b[1;33m\u001b[0m\u001b[0m\n",
      "\u001b[1;31mNameError\u001b[0m: name 'false_positive_rate' is not defined"
     ]
    }
   ],
   "source": [
    "plt.rcParams['figure.figsize'] = [5, 4]\n",
    "plt.plot(false_positive_rate, true_positive_rate, \\\n",
    "         label='ROC  Curve(area = %0.3f)' % roc_auc, \n",
    "         color = 'red', linewidth=4.0)\n",
    "plt.plot([0,1], [0,1], 'k--')\n",
    "plt.xlim([0.0, 1.0])\n",
    "plt.ylim([0.0, 1.0])\n",
    "plt.xlabel('False Positive Rate')\n",
    "plt.ylabel('True Positive Rate')\n",
    "plt.title('ROC curve of Logistic regression')\n",
    "plt.legend(loc='lower right')"
   ]
  },
  {
   "cell_type": "code",
   "execution_count": null,
   "metadata": {},
   "outputs": [],
   "source": []
  },
  {
   "cell_type": "code",
   "execution_count": null,
   "metadata": {},
   "outputs": [],
   "source": []
  },
  {
   "cell_type": "code",
   "execution_count": null,
   "metadata": {},
   "outputs": [],
   "source": []
  },
  {
   "cell_type": "code",
   "execution_count": null,
   "metadata": {},
   "outputs": [],
   "source": []
  },
  {
   "cell_type": "code",
   "execution_count": null,
   "metadata": {},
   "outputs": [],
   "source": []
  },
  {
   "cell_type": "code",
   "execution_count": null,
   "metadata": {},
   "outputs": [],
   "source": []
  },
  {
   "cell_type": "code",
   "execution_count": null,
   "metadata": {},
   "outputs": [],
   "source": []
  },
  {
   "cell_type": "code",
   "execution_count": null,
   "metadata": {},
   "outputs": [],
   "source": []
  },
  {
   "cell_type": "code",
   "execution_count": null,
   "metadata": {},
   "outputs": [],
   "source": []
  },
  {
   "cell_type": "code",
   "execution_count": null,
   "metadata": {},
   "outputs": [],
   "source": []
  },
  {
   "cell_type": "code",
   "execution_count": null,
   "metadata": {},
   "outputs": [],
   "source": []
  },
  {
   "cell_type": "code",
   "execution_count": null,
   "metadata": {},
   "outputs": [],
   "source": []
  },
  {
   "cell_type": "code",
   "execution_count": null,
   "metadata": {},
   "outputs": [],
   "source": []
  },
  {
   "cell_type": "code",
   "execution_count": null,
   "metadata": {},
   "outputs": [],
   "source": []
  },
  {
   "cell_type": "code",
   "execution_count": null,
   "metadata": {},
   "outputs": [],
   "source": []
  },
  {
   "cell_type": "code",
   "execution_count": null,
   "metadata": {},
   "outputs": [],
   "source": []
  },
  {
   "cell_type": "code",
   "execution_count": null,
   "metadata": {},
   "outputs": [],
   "source": []
  },
  {
   "cell_type": "code",
   "execution_count": null,
   "metadata": {},
   "outputs": [],
   "source": []
  },
  {
   "cell_type": "code",
   "execution_count": null,
   "metadata": {},
   "outputs": [],
   "source": []
  },
  {
   "cell_type": "code",
   "execution_count": null,
   "metadata": {},
   "outputs": [],
   "source": []
  },
  {
   "cell_type": "code",
   "execution_count": null,
   "metadata": {},
   "outputs": [],
   "source": []
  },
  {
   "cell_type": "code",
   "execution_count": null,
   "metadata": {},
   "outputs": [],
   "source": []
  },
  {
   "cell_type": "code",
   "execution_count": null,
   "metadata": {},
   "outputs": [],
   "source": []
  },
  {
   "cell_type": "code",
   "execution_count": null,
   "metadata": {},
   "outputs": [],
   "source": []
  },
  {
   "cell_type": "code",
   "execution_count": null,
   "metadata": {},
   "outputs": [],
   "source": []
  },
  {
   "cell_type": "code",
   "execution_count": null,
   "metadata": {},
   "outputs": [],
   "source": []
  },
  {
   "cell_type": "code",
   "execution_count": null,
   "metadata": {},
   "outputs": [],
   "source": []
  },
  {
   "cell_type": "code",
   "execution_count": null,
   "metadata": {},
   "outputs": [],
   "source": []
  },
  {
   "cell_type": "code",
   "execution_count": null,
   "metadata": {},
   "outputs": [],
   "source": []
  },
  {
   "cell_type": "code",
   "execution_count": null,
   "metadata": {},
   "outputs": [],
   "source": []
  },
  {
   "cell_type": "code",
   "execution_count": null,
   "metadata": {},
   "outputs": [],
   "source": []
  },
  {
   "cell_type": "code",
   "execution_count": null,
   "metadata": {},
   "outputs": [],
   "source": []
  },
  {
   "cell_type": "code",
   "execution_count": null,
   "metadata": {},
   "outputs": [],
   "source": []
  },
  {
   "cell_type": "code",
   "execution_count": null,
   "metadata": {},
   "outputs": [],
   "source": []
  },
  {
   "cell_type": "code",
   "execution_count": null,
   "metadata": {},
   "outputs": [],
   "source": []
  },
  {
   "cell_type": "code",
   "execution_count": null,
   "metadata": {},
   "outputs": [],
   "source": []
  },
  {
   "cell_type": "code",
   "execution_count": null,
   "metadata": {},
   "outputs": [],
   "source": []
  },
  {
   "cell_type": "code",
   "execution_count": null,
   "metadata": {},
   "outputs": [],
   "source": []
  },
  {
   "cell_type": "code",
   "execution_count": null,
   "metadata": {},
   "outputs": [],
   "source": []
  },
  {
   "cell_type": "code",
   "execution_count": null,
   "metadata": {},
   "outputs": [],
   "source": []
  },
  {
   "cell_type": "code",
   "execution_count": null,
   "metadata": {},
   "outputs": [],
   "source": []
  },
  {
   "cell_type": "code",
   "execution_count": null,
   "metadata": {},
   "outputs": [],
   "source": []
  },
  {
   "cell_type": "code",
   "execution_count": null,
   "metadata": {},
   "outputs": [],
   "source": []
  },
  {
   "cell_type": "code",
   "execution_count": null,
   "metadata": {},
   "outputs": [],
   "source": []
  },
  {
   "cell_type": "code",
   "execution_count": null,
   "metadata": {},
   "outputs": [],
   "source": []
  },
  {
   "cell_type": "code",
   "execution_count": null,
   "metadata": {},
   "outputs": [],
   "source": []
  },
  {
   "cell_type": "code",
   "execution_count": null,
   "metadata": {},
   "outputs": [],
   "source": []
  },
  {
   "cell_type": "code",
   "execution_count": null,
   "metadata": {},
   "outputs": [],
   "source": []
  },
  {
   "cell_type": "code",
   "execution_count": null,
   "metadata": {},
   "outputs": [],
   "source": []
  },
  {
   "cell_type": "code",
   "execution_count": null,
   "metadata": {},
   "outputs": [],
   "source": []
  },
  {
   "cell_type": "code",
   "execution_count": null,
   "metadata": {},
   "outputs": [],
   "source": []
  },
  {
   "cell_type": "code",
   "execution_count": null,
   "metadata": {},
   "outputs": [],
   "source": []
  },
  {
   "cell_type": "code",
   "execution_count": null,
   "metadata": {},
   "outputs": [],
   "source": []
  },
  {
   "cell_type": "code",
   "execution_count": null,
   "metadata": {},
   "outputs": [],
   "source": []
  },
  {
   "cell_type": "code",
   "execution_count": null,
   "metadata": {},
   "outputs": [],
   "source": []
  },
  {
   "cell_type": "code",
   "execution_count": null,
   "metadata": {},
   "outputs": [],
   "source": []
  },
  {
   "cell_type": "code",
   "execution_count": null,
   "metadata": {},
   "outputs": [],
   "source": []
  },
  {
   "cell_type": "code",
   "execution_count": null,
   "metadata": {},
   "outputs": [],
   "source": []
  },
  {
   "cell_type": "code",
   "execution_count": null,
   "metadata": {},
   "outputs": [],
   "source": []
  },
  {
   "cell_type": "code",
   "execution_count": null,
   "metadata": {},
   "outputs": [],
   "source": []
  },
  {
   "cell_type": "code",
   "execution_count": null,
   "metadata": {},
   "outputs": [],
   "source": []
  },
  {
   "cell_type": "code",
   "execution_count": null,
   "metadata": {},
   "outputs": [],
   "source": []
  },
  {
   "cell_type": "code",
   "execution_count": null,
   "metadata": {},
   "outputs": [],
   "source": []
  },
  {
   "cell_type": "code",
   "execution_count": null,
   "metadata": {},
   "outputs": [],
   "source": []
  },
  {
   "cell_type": "code",
   "execution_count": null,
   "metadata": {},
   "outputs": [],
   "source": []
  },
  {
   "cell_type": "code",
   "execution_count": null,
   "metadata": {},
   "outputs": [],
   "source": []
  },
  {
   "cell_type": "code",
   "execution_count": null,
   "metadata": {},
   "outputs": [],
   "source": []
  },
  {
   "cell_type": "code",
   "execution_count": null,
   "metadata": {},
   "outputs": [],
   "source": []
  },
  {
   "cell_type": "code",
   "execution_count": null,
   "metadata": {},
   "outputs": [],
   "source": []
  },
  {
   "cell_type": "code",
   "execution_count": null,
   "metadata": {},
   "outputs": [],
   "source": []
  },
  {
   "cell_type": "code",
   "execution_count": null,
   "metadata": {},
   "outputs": [],
   "source": []
  },
  {
   "cell_type": "code",
   "execution_count": null,
   "metadata": {},
   "outputs": [],
   "source": []
  },
  {
   "cell_type": "code",
   "execution_count": null,
   "metadata": {},
   "outputs": [],
   "source": []
  },
  {
   "cell_type": "code",
   "execution_count": null,
   "metadata": {},
   "outputs": [],
   "source": []
  },
  {
   "cell_type": "code",
   "execution_count": null,
   "metadata": {},
   "outputs": [],
   "source": []
  },
  {
   "cell_type": "code",
   "execution_count": null,
   "metadata": {},
   "outputs": [],
   "source": []
  },
  {
   "cell_type": "code",
   "execution_count": null,
   "metadata": {},
   "outputs": [],
   "source": []
  },
  {
   "cell_type": "code",
   "execution_count": null,
   "metadata": {},
   "outputs": [],
   "source": []
  },
  {
   "cell_type": "code",
   "execution_count": null,
   "metadata": {},
   "outputs": [],
   "source": []
  }
 ],
 "metadata": {
  "kernelspec": {
   "display_name": "Python 3",
   "language": "python",
   "name": "python3"
  },
  "language_info": {
   "codemirror_mode": {
    "name": "ipython",
    "version": 3
   },
   "file_extension": ".py",
   "mimetype": "text/x-python",
   "name": "python",
   "nbconvert_exporter": "python",
   "pygments_lexer": "ipython3",
   "version": "3.8.5"
  }
 },
 "nbformat": 4,
 "nbformat_minor": 4
}
