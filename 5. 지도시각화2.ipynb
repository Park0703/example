{
 "cells": [
  {
   "cell_type": "code",
   "execution_count": 96,
   "metadata": {},
   "outputs": [],
   "source": [
    "# json\n",
    "import pandas as pd\n",
    "import folium\n",
    "import json\n",
    "file_path = './US_Unemployment_Oct2012.csv'\n",
    "df = pd.read_csv(file_path)\n",
    "df.columns = df.columns.map(str)\n",
    "geo_path = './us-states.json'"
   ]
  },
  {
   "cell_type": "code",
   "execution_count": 97,
   "metadata": {},
   "outputs": [
    {
     "name": "stdout",
     "output_type": "stream",
     "text": [
      "<class 'dict'>\n"
     ]
    }
   ],
   "source": [
    "try :\n",
    "    geo_data = json.load(open(geo_path, encoding = 'utf-8')) # 이게 안되면 \n",
    "except :\n",
    "    geo_data = json.load(open(geo_path, encoding = 'utf-8-sig')) # 이걸로\n",
    "print(type(geo_data)) # dict\n",
    "g_map = folium.Map(location=[37, -100], zoom_start=3, tiles=\"stamentoner\")\n"
   ]
  },
  {
   "cell_type": "code",
   "execution_count": 98,
   "metadata": {},
   "outputs": [],
   "source": [
    "# choropleth 클래스로 단계구분 표시\n",
    "# fill_color BuGn, PuRd, BuPu, GnBu, OrRd, PuBu, PuBuGn\n",
    "folium.Choropleth(geo_data = geo_data, # 지도 경계 \n",
    "                 data = df, # 표시하려는 데이터\n",
    "                 columns = ['State','Unemployment'],\n",
    "                 fill_color = 'YlGn', # 면적 색깔\n",
    "                  fill_opacity=0.7, # 면적 투명도 \n",
    "                  line_opacity=0.3,  # 선 투명도\n",
    "                 threshold_scale = [0, 2, 4, 6, 8, 10, 12], # 색깔구분\n",
    "                  \n",
    "                  legend_name='Unemployment Rate (%)',\n",
    "                 key_on ='feature.id', # 이름으로 구분\n",
    "                 ).add_to(g_map) # 에 추가하자\n",
    "g_map.save('./US_Unemployment_Oct_'+'11'+'.html')"
   ]
  },
  {
   "cell_type": "code",
   "execution_count": 84,
   "metadata": {},
   "outputs": [
    {
     "name": "stdout",
     "output_type": "stream",
     "text": [
      "<class 'dict'>\n"
     ]
    }
   ],
   "source": [
    "\n",
    "import pandas as pd\n",
    "import folium\n",
    "import json\n",
    "file_path='US_Unemployment_Oct2012.csv'\n",
    "df=pd.read_csv(file_path)\n",
    "df.head()\n",
    "df.columns=df.columns.map(str)\n",
    "geo_path='us-states.json'\n",
    "\n",
    "try:\n",
    "    geo_data=json.load(open(geo_path,encoding='utf-8'))\n",
    "except:\n",
    "    geo_data=json.load(open(geo_path,encoding='utf-8-sig'))\n",
    "\n",
    "print(type(geo_data))\n",
    "\n",
    "g_map = folium.Map(location=[37,-102],zoom_start=3)\n",
    "folium.Choropleth(geo_data=geo_data, #지도 경계\n",
    "data=df,\n",
    "columns=['State','Unemployment'], #열 지정\n",
    "fill_color='YlGn',fill_opacity=0.7,line_opacity=0.3,\n",
    "legent_name=\"Unemployment Rate (%)\",\n",
    "key_on='feature.id',\n",
    ").add_to(g_map)\n",
    "g_map.save('US_Unemployment.html')\n",
    "\n"
   ]
  },
  {
   "cell_type": "code",
   "execution_count": 100,
   "metadata": {},
   "outputs": [
    {
     "name": "stdout",
     "output_type": "stream",
     "text": [
      "<class 'dict'>\n"
     ]
    }
   ],
   "source": [
    "import pandas as pd\n",
    "import folium\n",
    "import json\n",
    "file_path='crime_in_Seoul_final.csv'\n",
    "df=pd.read_csv(file_path,index_col='구별')\n",
    "df.head()\n",
    "df.columns=df.columns.map(str)\n",
    "geo_path='skorea_municipalities_geo_simple.json'\n",
    "\n",
    "try:\n",
    "    geo_data=json.load(open(geo_path,encoding='utf-8'))\n",
    "except:\n",
    "    geo_data=json.load(open(geo_path,encoding='utf-8-sig'))\n",
    "\n",
    "print(type(geo_data))\n",
    "g_map = folium.Map(location=[37.5502,126.978],zoom_start=10)\n",
    "typ='강간'\n",
    "folium.Choropleth(geo_data=geo_data,\n",
    "data=df[typ], \n",
    "columns=[df.index,df[typ]],\n",
    "fill_color='YlOrRd',fill_opacity=0.7,line_opacity=0.3,\n",
    "key_on='feature.properties.name',\n",
    ").add_to(g_map)\n",
    "g_map.save('crime_Seoul3.html')"
   ]
  },
  {
   "cell_type": "code",
   "execution_count": null,
   "metadata": {},
   "outputs": [],
   "source": []
  },
  {
   "cell_type": "code",
   "execution_count": null,
   "metadata": {},
   "outputs": [],
   "source": []
  },
  {
   "cell_type": "code",
   "execution_count": null,
   "metadata": {},
   "outputs": [],
   "source": []
  },
  {
   "cell_type": "code",
   "execution_count": null,
   "metadata": {},
   "outputs": [],
   "source": []
  },
  {
   "cell_type": "code",
   "execution_count": null,
   "metadata": {},
   "outputs": [],
   "source": []
  },
  {
   "cell_type": "code",
   "execution_count": null,
   "metadata": {},
   "outputs": [],
   "source": []
  },
  {
   "cell_type": "code",
   "execution_count": null,
   "metadata": {},
   "outputs": [],
   "source": []
  },
  {
   "cell_type": "code",
   "execution_count": null,
   "metadata": {},
   "outputs": [],
   "source": []
  },
  {
   "cell_type": "code",
   "execution_count": null,
   "metadata": {},
   "outputs": [],
   "source": []
  },
  {
   "cell_type": "code",
   "execution_count": null,
   "metadata": {},
   "outputs": [],
   "source": []
  },
  {
   "cell_type": "code",
   "execution_count": null,
   "metadata": {},
   "outputs": [],
   "source": []
  },
  {
   "cell_type": "code",
   "execution_count": null,
   "metadata": {},
   "outputs": [],
   "source": []
  },
  {
   "cell_type": "code",
   "execution_count": null,
   "metadata": {},
   "outputs": [],
   "source": []
  },
  {
   "cell_type": "code",
   "execution_count": null,
   "metadata": {},
   "outputs": [],
   "source": []
  },
  {
   "cell_type": "code",
   "execution_count": null,
   "metadata": {},
   "outputs": [],
   "source": []
  },
  {
   "cell_type": "code",
   "execution_count": null,
   "metadata": {},
   "outputs": [],
   "source": []
  },
  {
   "cell_type": "code",
   "execution_count": null,
   "metadata": {},
   "outputs": [],
   "source": []
  },
  {
   "cell_type": "code",
   "execution_count": null,
   "metadata": {},
   "outputs": [],
   "source": []
  },
  {
   "cell_type": "code",
   "execution_count": null,
   "metadata": {},
   "outputs": [],
   "source": []
  },
  {
   "cell_type": "code",
   "execution_count": null,
   "metadata": {},
   "outputs": [],
   "source": []
  },
  {
   "cell_type": "code",
   "execution_count": null,
   "metadata": {},
   "outputs": [],
   "source": []
  },
  {
   "cell_type": "code",
   "execution_count": null,
   "metadata": {},
   "outputs": [],
   "source": []
  },
  {
   "cell_type": "code",
   "execution_count": null,
   "metadata": {},
   "outputs": [],
   "source": []
  },
  {
   "cell_type": "code",
   "execution_count": null,
   "metadata": {},
   "outputs": [],
   "source": []
  },
  {
   "cell_type": "code",
   "execution_count": null,
   "metadata": {},
   "outputs": [],
   "source": []
  },
  {
   "cell_type": "code",
   "execution_count": null,
   "metadata": {},
   "outputs": [],
   "source": []
  },
  {
   "cell_type": "code",
   "execution_count": null,
   "metadata": {},
   "outputs": [],
   "source": []
  },
  {
   "cell_type": "code",
   "execution_count": null,
   "metadata": {},
   "outputs": [],
   "source": []
  },
  {
   "cell_type": "code",
   "execution_count": null,
   "metadata": {},
   "outputs": [],
   "source": []
  },
  {
   "cell_type": "code",
   "execution_count": null,
   "metadata": {},
   "outputs": [],
   "source": []
  },
  {
   "cell_type": "code",
   "execution_count": null,
   "metadata": {},
   "outputs": [],
   "source": []
  }
 ],
 "metadata": {
  "kernelspec": {
   "display_name": "Python 3",
   "language": "python",
   "name": "python3"
  },
  "language_info": {
   "codemirror_mode": {
    "name": "ipython",
    "version": 3
   },
   "file_extension": ".py",
   "mimetype": "text/x-python",
   "name": "python",
   "nbconvert_exporter": "python",
   "pygments_lexer": "ipython3",
   "version": "3.8.5"
  }
 },
 "nbformat": 4,
 "nbformat_minor": 4
}
