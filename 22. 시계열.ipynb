{
 "cells": [
  {
   "cell_type": "code",
   "execution_count": 1,
   "metadata": {},
   "outputs": [
    {
     "name": "stdout",
     "output_type": "stream",
     "text": [
      "<class 'pandas.core.frame.DataFrame'>\n",
      "RangeIndex: 365 entries, 0 to 364\n",
      "Data columns (total 2 columns):\n",
      " #   Column        Non-Null Count  Dtype  \n",
      "---  ------        --------------  -----  \n",
      " 0   Timestamp     365 non-null    object \n",
      " 1   market-price  365 non-null    float64\n",
      "dtypes: float64(1), object(1)\n",
      "memory usage: 5.8+ KB\n"
     ]
    }
   ],
   "source": [
    "# 시계열 데이터 : 연속적인 시간에 따라 다르게 측정데이터\n",
    "# arima 모델 => statsmodel 모듈 이용\n",
    "# ar 과거정보기준\n",
    "# ma 이전정보의 오차를 현재 상태로 추론\n",
    "import pandas as pd\n",
    "import numpy as np\n",
    "import matplotlib.pyplot as plt\n",
    "file_path = 'market-price.csv'\n",
    "bitcoin_df = pd.read_csv(file_path)\n",
    "bitcoin_df.info()"
   ]
  },
  {
   "cell_type": "code",
   "execution_count": 2,
   "metadata": {},
   "outputs": [
    {
     "data": {
      "text/html": [
       "<div>\n",
       "<style scoped>\n",
       "    .dataframe tbody tr th:only-of-type {\n",
       "        vertical-align: middle;\n",
       "    }\n",
       "\n",
       "    .dataframe tbody tr th {\n",
       "        vertical-align: top;\n",
       "    }\n",
       "\n",
       "    .dataframe thead th {\n",
       "        text-align: right;\n",
       "    }\n",
       "</style>\n",
       "<table border=\"1\" class=\"dataframe\">\n",
       "  <thead>\n",
       "    <tr style=\"text-align: right;\">\n",
       "      <th></th>\n",
       "      <th>Timestamp</th>\n",
       "      <th>market-price</th>\n",
       "    </tr>\n",
       "  </thead>\n",
       "  <tbody>\n",
       "    <tr>\n",
       "      <th>0</th>\n",
       "      <td>2017-08-27 00:00:00</td>\n",
       "      <td>4354.308333</td>\n",
       "    </tr>\n",
       "    <tr>\n",
       "      <th>1</th>\n",
       "      <td>2017-08-28 00:00:00</td>\n",
       "      <td>4391.673517</td>\n",
       "    </tr>\n",
       "    <tr>\n",
       "      <th>2</th>\n",
       "      <td>2017-08-29 00:00:00</td>\n",
       "      <td>4607.985450</td>\n",
       "    </tr>\n",
       "    <tr>\n",
       "      <th>3</th>\n",
       "      <td>2017-08-30 00:00:00</td>\n",
       "      <td>4594.987850</td>\n",
       "    </tr>\n",
       "    <tr>\n",
       "      <th>4</th>\n",
       "      <td>2017-08-31 00:00:00</td>\n",
       "      <td>4748.255000</td>\n",
       "    </tr>\n",
       "  </tbody>\n",
       "</table>\n",
       "</div>"
      ],
      "text/plain": [
       "             Timestamp  market-price\n",
       "0  2017-08-27 00:00:00   4354.308333\n",
       "1  2017-08-28 00:00:00   4391.673517\n",
       "2  2017-08-29 00:00:00   4607.985450\n",
       "3  2017-08-30 00:00:00   4594.987850\n",
       "4  2017-08-31 00:00:00   4748.255000"
      ]
     },
     "execution_count": 2,
     "metadata": {},
     "output_type": "execute_result"
    }
   ],
   "source": [
    "bitcoin_df.head()"
   ]
  },
  {
   "cell_type": "code",
   "execution_count": 3,
   "metadata": {},
   "outputs": [
    {
     "name": "stdout",
     "output_type": "stream",
     "text": [
      "<class 'pandas.core.frame.DataFrame'>\n",
      "RangeIndex: 365 entries, 0 to 364\n",
      "Data columns (total 2 columns):\n",
      " #   Column  Non-Null Count  Dtype  \n",
      "---  ------  --------------  -----  \n",
      " 0   day     365 non-null    object \n",
      " 1   price   365 non-null    float64\n",
      "dtypes: float64(1), object(1)\n",
      "memory usage: 5.8+ KB\n"
     ]
    }
   ],
   "source": [
    "bitcoin_df = pd.read_csv('market-price.csv', names = ['day','price'], header=0)\n",
    "bitcoin_df.info()"
   ]
  },
  {
   "cell_type": "code",
   "execution_count": 4,
   "metadata": {},
   "outputs": [
    {
     "data": {
      "text/html": [
       "<div>\n",
       "<style scoped>\n",
       "    .dataframe tbody tr th:only-of-type {\n",
       "        vertical-align: middle;\n",
       "    }\n",
       "\n",
       "    .dataframe tbody tr th {\n",
       "        vertical-align: top;\n",
       "    }\n",
       "\n",
       "    .dataframe thead th {\n",
       "        text-align: right;\n",
       "    }\n",
       "</style>\n",
       "<table border=\"1\" class=\"dataframe\">\n",
       "  <thead>\n",
       "    <tr style=\"text-align: right;\">\n",
       "      <th></th>\n",
       "      <th>day</th>\n",
       "      <th>price</th>\n",
       "    </tr>\n",
       "  </thead>\n",
       "  <tbody>\n",
       "    <tr>\n",
       "      <th>0</th>\n",
       "      <td>2017-08-27 00:00:00</td>\n",
       "      <td>4354.308333</td>\n",
       "    </tr>\n",
       "    <tr>\n",
       "      <th>1</th>\n",
       "      <td>2017-08-28 00:00:00</td>\n",
       "      <td>4391.673517</td>\n",
       "    </tr>\n",
       "    <tr>\n",
       "      <th>2</th>\n",
       "      <td>2017-08-29 00:00:00</td>\n",
       "      <td>4607.985450</td>\n",
       "    </tr>\n",
       "    <tr>\n",
       "      <th>3</th>\n",
       "      <td>2017-08-30 00:00:00</td>\n",
       "      <td>4594.987850</td>\n",
       "    </tr>\n",
       "    <tr>\n",
       "      <th>4</th>\n",
       "      <td>2017-08-31 00:00:00</td>\n",
       "      <td>4748.255000</td>\n",
       "    </tr>\n",
       "  </tbody>\n",
       "</table>\n",
       "</div>"
      ],
      "text/plain": [
       "                   day        price\n",
       "0  2017-08-27 00:00:00  4354.308333\n",
       "1  2017-08-28 00:00:00  4391.673517\n",
       "2  2017-08-29 00:00:00  4607.985450\n",
       "3  2017-08-30 00:00:00  4594.987850\n",
       "4  2017-08-31 00:00:00  4748.255000"
      ]
     },
     "execution_count": 4,
     "metadata": {},
     "output_type": "execute_result"
    }
   ],
   "source": [
    "bitcoin_df.head()"
   ]
  },
  {
   "cell_type": "code",
   "execution_count": 5,
   "metadata": {},
   "outputs": [
    {
     "data": {
      "text/plain": [
       "(365, 2)"
      ]
     },
     "execution_count": 5,
     "metadata": {},
     "output_type": "execute_result"
    }
   ],
   "source": [
    "bitcoin_df.shape"
   ]
  },
  {
   "cell_type": "code",
   "execution_count": 6,
   "metadata": {},
   "outputs": [
    {
     "name": "stdout",
     "output_type": "stream",
     "text": [
      "<class 'pandas.core.frame.DataFrame'>\n",
      "RangeIndex: 365 entries, 0 to 364\n",
      "Data columns (total 2 columns):\n",
      " #   Column  Non-Null Count  Dtype         \n",
      "---  ------  --------------  -----         \n",
      " 0   day     365 non-null    datetime64[ns]\n",
      " 1   price   365 non-null    float64       \n",
      "dtypes: datetime64[ns](1), float64(1)\n",
      "memory usage: 5.8 KB\n"
     ]
    }
   ],
   "source": [
    "bitcoin_df['day'] = pd.to_datetime(bitcoin_df['day'])\n",
    "bitcoin_df.info()"
   ]
  },
  {
   "cell_type": "code",
   "execution_count": 7,
   "metadata": {},
   "outputs": [
    {
     "data": {
      "text/html": [
       "<div>\n",
       "<style scoped>\n",
       "    .dataframe tbody tr th:only-of-type {\n",
       "        vertical-align: middle;\n",
       "    }\n",
       "\n",
       "    .dataframe tbody tr th {\n",
       "        vertical-align: top;\n",
       "    }\n",
       "\n",
       "    .dataframe thead th {\n",
       "        text-align: right;\n",
       "    }\n",
       "</style>\n",
       "<table border=\"1\" class=\"dataframe\">\n",
       "  <thead>\n",
       "    <tr style=\"text-align: right;\">\n",
       "      <th></th>\n",
       "      <th>price</th>\n",
       "    </tr>\n",
       "  </thead>\n",
       "  <tbody>\n",
       "    <tr>\n",
       "      <th>count</th>\n",
       "      <td>365.000000</td>\n",
       "    </tr>\n",
       "    <tr>\n",
       "      <th>mean</th>\n",
       "      <td>8395.863578</td>\n",
       "    </tr>\n",
       "    <tr>\n",
       "      <th>std</th>\n",
       "      <td>3239.804756</td>\n",
       "    </tr>\n",
       "    <tr>\n",
       "      <th>min</th>\n",
       "      <td>3319.630000</td>\n",
       "    </tr>\n",
       "    <tr>\n",
       "      <th>25%</th>\n",
       "      <td>6396.772500</td>\n",
       "    </tr>\n",
       "    <tr>\n",
       "      <th>50%</th>\n",
       "      <td>7685.633333</td>\n",
       "    </tr>\n",
       "    <tr>\n",
       "      <th>75%</th>\n",
       "      <td>9630.136277</td>\n",
       "    </tr>\n",
       "    <tr>\n",
       "      <th>max</th>\n",
       "      <td>19498.683333</td>\n",
       "    </tr>\n",
       "  </tbody>\n",
       "</table>\n",
       "</div>"
      ],
      "text/plain": [
       "              price\n",
       "count    365.000000\n",
       "mean    8395.863578\n",
       "std     3239.804756\n",
       "min     3319.630000\n",
       "25%     6396.772500\n",
       "50%     7685.633333\n",
       "75%     9630.136277\n",
       "max    19498.683333"
      ]
     },
     "execution_count": 7,
     "metadata": {},
     "output_type": "execute_result"
    }
   ],
   "source": [
    "bitcoin_df.describe()"
   ]
  },
  {
   "cell_type": "code",
   "execution_count": 8,
   "metadata": {},
   "outputs": [
    {
     "data": {
      "image/png": "[encoded data removed]",
      "text/plain": [
       "<Figure size 432x288 with 1 Axes>"
      ]
     },
     "metadata": {
      "needs_background": "light"
     },
     "output_type": "display_data"
    }
   ],
   "source": [
    "bitcoin_df.plot()\n",
    "plt.show()"
   ]
  },
  {
   "cell_type": "code",
   "execution_count": 9,
   "metadata": {
    "scrolled": true
   },
   "outputs": [
    {
     "name": "stderr",
     "output_type": "stream",
     "text": [
      "C:\\Users\\pc\\anaconda3\\lib\\site-packages\\statsmodels\\tsa\\arima_model.py:472: FutureWarning: \n",
      "statsmodels.tsa.arima_model.ARMA and statsmodels.tsa.arima_model.ARIMA have\n",
      "been deprecated in favor of statsmodels.tsa.arima.model.ARIMA (note the .\n",
      "between arima and model) and\n",
      "statsmodels.tsa.SARIMAX. These will be removed after the 0.12 release.\n",
      "\n",
      "statsmodels.tsa.arima.model.ARIMA makes use of the statespace framework and\n",
      "is both well tested and maintained.\n",
      "\n",
      "To silence this warning and continue using ARMA and ARIMA until they are\n",
      "removed, use:\n",
      "\n",
      "import warnings\n",
      "warnings.filterwarnings('ignore', 'statsmodels.tsa.arima_model.ARMA',\n",
      "                        FutureWarning)\n",
      "warnings.filterwarnings('ignore', 'statsmodels.tsa.arima_model.ARIMA',\n",
      "                        FutureWarning)\n",
      "\n",
      "  warnings.warn(ARIMA_DEPRECATION_WARN, FutureWarning)\n",
      "C:\\Users\\pc\\anaconda3\\lib\\site-packages\\statsmodels\\tsa\\arima_model.py:472: FutureWarning: \n",
      "statsmodels.tsa.arima_model.ARMA and statsmodels.tsa.arima_model.ARIMA have\n",
      "been deprecated in favor of statsmodels.tsa.arima.model.ARIMA (note the .\n",
      "between arima and model) and\n",
      "statsmodels.tsa.SARIMAX. These will be removed after the 0.12 release.\n",
      "\n",
      "statsmodels.tsa.arima.model.ARIMA makes use of the statespace framework and\n",
      "is both well tested and maintained.\n",
      "\n",
      "To silence this warning and continue using ARMA and ARIMA until they are\n",
      "removed, use:\n",
      "\n",
      "import warnings\n",
      "warnings.filterwarnings('ignore', 'statsmodels.tsa.arima_model.ARMA',\n",
      "                        FutureWarning)\n",
      "warnings.filterwarnings('ignore', 'statsmodels.tsa.arima_model.ARIMA',\n",
      "                        FutureWarning)\n",
      "\n",
      "  warnings.warn(ARIMA_DEPRECATION_WARN, FutureWarning)\n"
     ]
    },
    {
     "data": {
      "text/plain": [
       "<AxesSubplot:>"
      ]
     },
     "execution_count": 9,
     "metadata": {},
     "output_type": "execute_result"
    },
    {
     "data": {
      "image/png": "[encoded data removed]",
      "text/plain": [
       "<Figure size 432x288 with 1 Axes>"
      ]
     },
     "metadata": {
      "needs_background": "light"
     },
     "output_type": "display_data"
    },
    {
     "data": {
      "image/png": "[encoded data removed]",
      "text/plain": [
       "<Figure size 432x288 with 1 Axes>"
      ]
     },
     "metadata": {
      "needs_background": "light"
     },
     "output_type": "display_data"
    }
   ],
   "source": [
    "# arima 모델 학습\n",
    "# order = (2,1,2)\n",
    "# 2 => ar 2번째 과거까지 알고리즘에 넣음\n",
    "# 1 => difference 차분 정보, 현재상태 - 바로 이전의 상태 뺀값\n",
    "#         시계열 데이터의 불규칙성을 파악 => 비트코인 ^^\n",
    "# 2 => ma 2번째 과거정보오차를 이용해서 현재를 추론\n",
    "\n",
    "from statsmodels.tsa.arima_model import ARIMA\n",
    "model = ARIMA(bitcoin_df.price.values, order=(2,1,2))\n",
    "model_fit = model.fit(trend='c', full_output=True, disp=True)\n",
    "fig = model_fit.plot_predict() # 학습 데이터에 대한 예측 결과 출력\n",
    "risiduals = pd.DataFrame(model_fit.resid)# 잔차의 변동을 시각화\n",
    "risiduals.plot()"
   ]
  },
  {
   "cell_type": "code",
   "execution_count": 11,
   "metadata": {},
   "outputs": [
    {
     "data": {
      "text/plain": [
       "(array([6676.91689529, 6685.04884511, 6690.29837254, 6697.35159419,\n",
       "        6703.26452567]),\n",
       " array([ 512.41529746,  753.50414112,  914.97749885, 1061.45286959,\n",
       "        1184.4382798 ]),\n",
       " array([[5672.60136715, 7681.23242343],\n",
       "        [5208.20786632, 8161.8898239 ],\n",
       "        [4896.97542813, 8483.62131695],\n",
       "        [4616.94219851, 8777.76098987],\n",
       "        [4381.80815535, 9024.720896  ]]))"
      ]
     },
     "execution_count": 11,
     "metadata": {},
     "output_type": "execute_result"
    }
   ],
   "source": [
    "# 실제데이터와 비교\n",
    "# 이후 5일 정보 예측\n",
    "forecast_data = model_fit.forecast(steps=5)\n",
    "forecast_data\n",
    "# 1 번 배열 : 예측값, 5일차 예측값\n",
    "# 2 번 배열 : 표준오차, 5일차 예측값\n",
    "# 3 번 배열 : 5개 배열 [예측데이터 하한값, 예측데이터 상한값]"
   ]
  },
  {
   "cell_type": "code",
   "execution_count": 12,
   "metadata": {},
   "outputs": [],
   "source": [
    "# 실데이터 읽어오기\n",
    "test_file_path = 'market-price-test.csv'\n",
    "bitcoin_test_df = pd.read_csv(test_file_path, names = ['ds','y'], header=0)"
   ]
  },
  {
   "cell_type": "code",
   "execution_count": 13,
   "metadata": {},
   "outputs": [
    {
     "data": {
      "text/plain": [
       "[6676.9168952924865,\n",
       " 6685.048845109902,\n",
       " 6690.298372539306,\n",
       " 6697.35159419041,\n",
       " 6703.2645256732285]"
      ]
     },
     "execution_count": 13,
     "metadata": {},
     "output_type": "execute_result"
    }
   ],
   "source": [
    "# 예측값을 pred_y 변수에 리스트로 저장 // 원래 튜플\n",
    "pred_y = forecast_data[0].tolist()\n",
    "pred_y"
   ]
  },
  {
   "cell_type": "code",
   "execution_count": 14,
   "metadata": {},
   "outputs": [],
   "source": [
    "# 실제값을 test_y 변수에 리스트로 저장하기\n",
    "test_y = bitcoin_test_df['y'].values\n",
    "test_y\n",
    "pred_y_lower = [] # 최소 예측값\n",
    "pred_y_upper = [] # 최대 예측값\n"
   ]
  },
  {
   "cell_type": "code",
   "execution_count": 15,
   "metadata": {},
   "outputs": [
    {
     "data": {
      "text/plain": [
       "[5672.601367152579,\n",
       " 5208.207866318599,\n",
       " 4896.975428126821,\n",
       " 4616.942198505993,\n",
       " 4381.808155348637]"
      ]
     },
     "execution_count": 15,
     "metadata": {},
     "output_type": "execute_result"
    }
   ],
   "source": [
    "for low_up in forecast_data[2] :\n",
    "    pred_y_lower.append(low_up[0])\n",
    "    pred_y_upper.append(low_up[1])\n",
    "    \n",
    "pred_y_lower"
   ]
  },
  {
   "cell_type": "code",
   "execution_count": 16,
   "metadata": {},
   "outputs": [
    {
     "data": {
      "text/plain": [
       "[7681.232423432394,\n",
       " 8161.889823901204,\n",
       " 8483.62131695179,\n",
       " 8777.760989874827,\n",
       " 9024.72089599782]"
      ]
     },
     "execution_count": 16,
     "metadata": {},
     "output_type": "execute_result"
    }
   ],
   "source": [
    "pred_y_upper"
   ]
  },
  {
   "cell_type": "code",
   "execution_count": 17,
   "metadata": {},
   "outputs": [
    {
     "data": {
      "text/plain": [
       "[<matplotlib.lines.Line2D at 0x26242ebd490>]"
      ]
     },
     "execution_count": 17,
     "metadata": {},
     "output_type": "execute_result"
    },
    {
     "data": {
      "image/png": "[encoded data removed]",
      "text/plain": [
       "<Figure size 432x288 with 1 Axes>"
      ]
     },
     "metadata": {
      "needs_background": "light"
     },
     "output_type": "display_data"
    }
   ],
   "source": [
    "# 시각화\n",
    "plt.plot(pred_y, color='gold') # 예측값\n",
    "plt.plot(test_y, color='green') # 실제값 => 변동성있는 편\n",
    "plt.plot(pred_y_lower, color='red') # 예측 최소값\n",
    "plt.plot(pred_y_upper, color='blue') # 예측 최대값"
   ]
  },
  {
   "cell_type": "code",
   "execution_count": 18,
   "metadata": {},
   "outputs": [
    {
     "ename": "SyntaxError",
     "evalue": "invalid syntax (<ipython-input-18-4f6256cf9ffa>, line 4)",
     "output_type": "error",
     "traceback": [
      "\u001b[1;36m  File \u001b[1;32m\"<ipython-input-18-4f6256cf9ffa>\"\u001b[1;36m, line \u001b[1;32m4\u001b[0m\n\u001b[1;33m    그냥시간이 들어가서 연속적인 => 주가분석 등\u001b[0m\n\u001b[1;37m          ^\u001b[0m\n\u001b[1;31mSyntaxError\u001b[0m\u001b[1;31m:\u001b[0m invalid syntax\n"
     ]
    }
   ],
   "source": [
    "# 시계열 데이터 분석을 위한 모델\n",
    "\n",
    "# ar (자기회귀분석모델)\n",
    "그냥시간이 들어가서 연속적인 => 주가분석 등\n",
    "현재 자신과 과거의 자신을 비교, 관계\n",
    "ar(n) => n 이전의 시점\n",
    "\n",
    "# ma 이동평균모델\n",
    "과거와 현재의 오차의 관계\n",
    "\n",
    "# 합쳐서 자기회귀 이동모델\n",
    "arma(자기회귀 이동평균 모델)\n",
    "현재시점의 나와 과거시점의 나를 비교\n",
    "현재시점의 차이를 비교\n",
    "\n",
    "# arima 자기회귀 누적 이동평균 모델\n",
    "ma 누적차수 ar 누적차수 동시에\n",
    "현재와 추세간의 관계 정의 \n",
    "arma는 규칙적인 시계열데이터는 가능하지만 불규칙적인 시계열에 불리, 한계\n",
    "보완하기위한 모델이다\n",
    "\n",
    "# arima(p, d, q)\n",
    "p : ar 모형 차수\n",
    "d : 차분 : 차이\n",
    "q : ma 모형 차수\n",
    "    # p+q가 짝수인게 좋다"
   ]
  },
  {
   "cell_type": "code",
   "execution_count": 2,
   "metadata": {},
   "outputs": [
    {
     "name": "stdout",
     "output_type": "stream",
     "text": [
      "<class 'pandas.core.frame.DataFrame'>\n",
      "RangeIndex: 365 entries, 0 to 364\n",
      "Data columns (total 2 columns):\n",
      " #   Column  Non-Null Count  Dtype  \n",
      "---  ------  --------------  -----  \n",
      " 0   ds      365 non-null    object \n",
      " 1   y       365 non-null    float64\n",
      "dtypes: float64(1), object(1)\n",
      "memory usage: 5.8+ KB\n"
     ]
    }
   ],
   "source": [
    "# 페이스북 시계열 알고리즘 prophet\n",
    "import numpy as np\n",
    "import pandas as pd\n",
    "import matplotlib.pyplot as plt\n",
    "from fbprophet import Prophet\n",
    "file_path = 'market-price.csv'\n",
    "bitcoin_df = pd.read_csv(file_path, names = ['ds', 'y'], header=0)\n",
    "bitcoin_df.info()"
   ]
  },
  {
   "cell_type": "code",
   "execution_count": 3,
   "metadata": {},
   "outputs": [
    {
     "name": "stderr",
     "output_type": "stream",
     "text": [
      "INFO:numexpr.utils:Note: NumExpr detected 12 cores but \"NUMEXPR_MAX_THREADS\" not set, so enforcing safe limit of 8.\n",
      "INFO:numexpr.utils:NumExpr defaulting to 8 threads.\n"
     ]
    },
    {
     "data": {
      "text/plain": [
       "<fbprophet.forecaster.Prophet at 0x200fffbc700>"
      ]
     },
     "execution_count": 3,
     "metadata": {},
     "output_type": "execute_result"
    }
   ],
   "source": [
    "prophet = Prophet(seasonality_mode = 'multiplicative',\n",
    "                 yearly_seasonality = True, # 연별\n",
    "                 weekly_seasonality = True, # 주별\n",
    "                 daily_seasonality = True, # 일별\n",
    "                 changepoint_prior_scale = 0.5) # 과적합 방지 0.5만큼 만 분석\n",
    "prophet.fit(bitcoin_df) # 학습하기"
   ]
  },
  {
   "cell_type": "markdown",
   "metadata": {},
   "source": [
    "pip install pystan --upgrade"
   ]
  },
  {
   "cell_type": "code",
   "execution_count": 4,
   "metadata": {},
   "outputs": [
    {
     "data": {
      "text/html": [
       "<div>\n",
       "<style scoped>\n",
       "    .dataframe tbody tr th:only-of-type {\n",
       "        vertical-align: middle;\n",
       "    }\n",
       "\n",
       "    .dataframe tbody tr th {\n",
       "        vertical-align: top;\n",
       "    }\n",
       "\n",
       "    .dataframe thead th {\n",
       "        text-align: right;\n",
       "    }\n",
       "</style>\n",
       "<table border=\"1\" class=\"dataframe\">\n",
       "  <thead>\n",
       "    <tr style=\"text-align: right;\">\n",
       "      <th></th>\n",
       "      <th>ds</th>\n",
       "      <th>trend</th>\n",
       "      <th>yhat_lower</th>\n",
       "      <th>yhat_upper</th>\n",
       "      <th>trend_lower</th>\n",
       "      <th>trend_upper</th>\n",
       "      <th>daily</th>\n",
       "      <th>daily_lower</th>\n",
       "      <th>daily_upper</th>\n",
       "      <th>multiplicative_terms</th>\n",
       "      <th>...</th>\n",
       "      <th>weekly</th>\n",
       "      <th>weekly_lower</th>\n",
       "      <th>weekly_upper</th>\n",
       "      <th>yearly</th>\n",
       "      <th>yearly_lower</th>\n",
       "      <th>yearly_upper</th>\n",
       "      <th>additive_terms</th>\n",
       "      <th>additive_terms_lower</th>\n",
       "      <th>additive_terms_upper</th>\n",
       "      <th>yhat</th>\n",
       "    </tr>\n",
       "  </thead>\n",
       "  <tbody>\n",
       "    <tr>\n",
       "      <th>0</th>\n",
       "      <td>2017-08-27</td>\n",
       "      <td>473.569120</td>\n",
       "      <td>3776.764014</td>\n",
       "      <td>5104.491150</td>\n",
       "      <td>473.569120</td>\n",
       "      <td>473.569120</td>\n",
       "      <td>9.563964</td>\n",
       "      <td>9.563964</td>\n",
       "      <td>9.563964</td>\n",
       "      <td>8.356854</td>\n",
       "      <td>...</td>\n",
       "      <td>-0.038472</td>\n",
       "      <td>-0.038472</td>\n",
       "      <td>-0.038472</td>\n",
       "      <td>-1.168637</td>\n",
       "      <td>-1.168637</td>\n",
       "      <td>-1.168637</td>\n",
       "      <td>0.0</td>\n",
       "      <td>0.0</td>\n",
       "      <td>0.0</td>\n",
       "      <td>4431.117317</td>\n",
       "    </tr>\n",
       "    <tr>\n",
       "      <th>1</th>\n",
       "      <td>2017-08-28</td>\n",
       "      <td>476.933144</td>\n",
       "      <td>3833.197375</td>\n",
       "      <td>5183.393019</td>\n",
       "      <td>476.933144</td>\n",
       "      <td>476.933144</td>\n",
       "      <td>9.563964</td>\n",
       "      <td>9.563964</td>\n",
       "      <td>9.563964</td>\n",
       "      <td>8.436224</td>\n",
       "      <td>...</td>\n",
       "      <td>-0.006602</td>\n",
       "      <td>-0.006602</td>\n",
       "      <td>-0.006602</td>\n",
       "      <td>-1.121138</td>\n",
       "      <td>-1.121138</td>\n",
       "      <td>-1.121138</td>\n",
       "      <td>0.0</td>\n",
       "      <td>0.0</td>\n",
       "      <td>0.0</td>\n",
       "      <td>4500.447825</td>\n",
       "    </tr>\n",
       "    <tr>\n",
       "      <th>2</th>\n",
       "      <td>2017-08-29</td>\n",
       "      <td>480.297167</td>\n",
       "      <td>3877.729283</td>\n",
       "      <td>5211.107968</td>\n",
       "      <td>480.297167</td>\n",
       "      <td>480.297167</td>\n",
       "      <td>9.563964</td>\n",
       "      <td>9.563964</td>\n",
       "      <td>9.563964</td>\n",
       "      <td>8.494301</td>\n",
       "      <td>...</td>\n",
       "      <td>0.019974</td>\n",
       "      <td>0.019974</td>\n",
       "      <td>0.019974</td>\n",
       "      <td>-1.089637</td>\n",
       "      <td>-1.089637</td>\n",
       "      <td>-1.089637</td>\n",
       "      <td>0.0</td>\n",
       "      <td>0.0</td>\n",
       "      <td>0.0</td>\n",
       "      <td>4560.085805</td>\n",
       "    </tr>\n",
       "    <tr>\n",
       "      <th>3</th>\n",
       "      <td>2017-08-30</td>\n",
       "      <td>483.661190</td>\n",
       "      <td>3954.539662</td>\n",
       "      <td>5206.571586</td>\n",
       "      <td>483.661190</td>\n",
       "      <td>483.661190</td>\n",
       "      <td>9.563964</td>\n",
       "      <td>9.563964</td>\n",
       "      <td>9.563964</td>\n",
       "      <td>8.440425</td>\n",
       "      <td>...</td>\n",
       "      <td>-0.046634</td>\n",
       "      <td>-0.046634</td>\n",
       "      <td>-0.046634</td>\n",
       "      <td>-1.076905</td>\n",
       "      <td>-1.076905</td>\n",
       "      <td>-1.076905</td>\n",
       "      <td>0.0</td>\n",
       "      <td>0.0</td>\n",
       "      <td>0.0</td>\n",
       "      <td>4565.966993</td>\n",
       "    </tr>\n",
       "    <tr>\n",
       "      <th>4</th>\n",
       "      <td>2017-08-31</td>\n",
       "      <td>487.025213</td>\n",
       "      <td>3931.103385</td>\n",
       "      <td>5269.222802</td>\n",
       "      <td>487.025213</td>\n",
       "      <td>487.025213</td>\n",
       "      <td>9.563964</td>\n",
       "      <td>9.563964</td>\n",
       "      <td>9.563964</td>\n",
       "      <td>8.461194</td>\n",
       "      <td>...</td>\n",
       "      <td>-0.017649</td>\n",
       "      <td>-0.017649</td>\n",
       "      <td>-0.017649</td>\n",
       "      <td>-1.085122</td>\n",
       "      <td>-1.085122</td>\n",
       "      <td>-1.085122</td>\n",
       "      <td>0.0</td>\n",
       "      <td>0.0</td>\n",
       "      <td>0.0</td>\n",
       "      <td>4607.839822</td>\n",
       "    </tr>\n",
       "    <tr>\n",
       "      <th>...</th>\n",
       "      <td>...</td>\n",
       "      <td>...</td>\n",
       "      <td>...</td>\n",
       "      <td>...</td>\n",
       "      <td>...</td>\n",
       "      <td>...</td>\n",
       "      <td>...</td>\n",
       "      <td>...</td>\n",
       "      <td>...</td>\n",
       "      <td>...</td>\n",
       "      <td>...</td>\n",
       "      <td>...</td>\n",
       "      <td>...</td>\n",
       "      <td>...</td>\n",
       "      <td>...</td>\n",
       "      <td>...</td>\n",
       "      <td>...</td>\n",
       "      <td>...</td>\n",
       "      <td>...</td>\n",
       "      <td>...</td>\n",
       "      <td>...</td>\n",
       "    </tr>\n",
       "    <tr>\n",
       "      <th>365</th>\n",
       "      <td>2018-08-27</td>\n",
       "      <td>738.543896</td>\n",
       "      <td>6218.124910</td>\n",
       "      <td>7629.182104</td>\n",
       "      <td>738.543896</td>\n",
       "      <td>738.543896</td>\n",
       "      <td>9.563964</td>\n",
       "      <td>9.563964</td>\n",
       "      <td>9.563964</td>\n",
       "      <td>8.374726</td>\n",
       "      <td>...</td>\n",
       "      <td>-0.006602</td>\n",
       "      <td>-0.006602</td>\n",
       "      <td>-0.006602</td>\n",
       "      <td>-1.182636</td>\n",
       "      <td>-1.182636</td>\n",
       "      <td>-1.182636</td>\n",
       "      <td>0.0</td>\n",
       "      <td>0.0</td>\n",
       "      <td>0.0</td>\n",
       "      <td>6923.647020</td>\n",
       "    </tr>\n",
       "    <tr>\n",
       "      <th>366</th>\n",
       "      <td>2018-08-28</td>\n",
       "      <td>742.612648</td>\n",
       "      <td>6338.876532</td>\n",
       "      <td>7721.930490</td>\n",
       "      <td>742.612648</td>\n",
       "      <td>742.612648</td>\n",
       "      <td>9.563964</td>\n",
       "      <td>9.563964</td>\n",
       "      <td>9.563964</td>\n",
       "      <td>8.452304</td>\n",
       "      <td>...</td>\n",
       "      <td>0.019974</td>\n",
       "      <td>0.019974</td>\n",
       "      <td>0.019974</td>\n",
       "      <td>-1.131634</td>\n",
       "      <td>-1.131634</td>\n",
       "      <td>-1.131634</td>\n",
       "      <td>0.0</td>\n",
       "      <td>0.0</td>\n",
       "      <td>0.0</td>\n",
       "      <td>7019.400574</td>\n",
       "    </tr>\n",
       "    <tr>\n",
       "      <th>367</th>\n",
       "      <td>2018-08-29</td>\n",
       "      <td>746.681400</td>\n",
       "      <td>6371.510730</td>\n",
       "      <td>7768.115586</td>\n",
       "      <td>746.681400</td>\n",
       "      <td>752.202325</td>\n",
       "      <td>9.563964</td>\n",
       "      <td>9.563964</td>\n",
       "      <td>9.563964</td>\n",
       "      <td>8.421478</td>\n",
       "      <td>...</td>\n",
       "      <td>-0.046634</td>\n",
       "      <td>-0.046634</td>\n",
       "      <td>-0.046634</td>\n",
       "      <td>-1.095851</td>\n",
       "      <td>-1.095851</td>\n",
       "      <td>-1.095851</td>\n",
       "      <td>0.0</td>\n",
       "      <td>0.0</td>\n",
       "      <td>0.0</td>\n",
       "      <td>7034.842537</td>\n",
       "    </tr>\n",
       "    <tr>\n",
       "      <th>368</th>\n",
       "      <td>2018-08-30</td>\n",
       "      <td>750.750152</td>\n",
       "      <td>6374.620387</td>\n",
       "      <td>7883.157582</td>\n",
       "      <td>748.285679</td>\n",
       "      <td>770.190606</td>\n",
       "      <td>9.563964</td>\n",
       "      <td>9.563964</td>\n",
       "      <td>9.563964</td>\n",
       "      <td>8.468117</td>\n",
       "      <td>...</td>\n",
       "      <td>-0.017649</td>\n",
       "      <td>-0.017649</td>\n",
       "      <td>-0.017649</td>\n",
       "      <td>-1.078198</td>\n",
       "      <td>-1.078198</td>\n",
       "      <td>-1.078198</td>\n",
       "      <td>0.0</td>\n",
       "      <td>0.0</td>\n",
       "      <td>0.0</td>\n",
       "      <td>7108.190099</td>\n",
       "    </tr>\n",
       "    <tr>\n",
       "      <th>369</th>\n",
       "      <td>2018-08-31</td>\n",
       "      <td>754.818904</td>\n",
       "      <td>6440.287682</td>\n",
       "      <td>7941.401382</td>\n",
       "      <td>742.825041</td>\n",
       "      <td>785.906885</td>\n",
       "      <td>9.563964</td>\n",
       "      <td>9.563964</td>\n",
       "      <td>9.563964</td>\n",
       "      <td>8.518827</td>\n",
       "      <td>...</td>\n",
       "      <td>0.035872</td>\n",
       "      <td>0.035872</td>\n",
       "      <td>0.035872</td>\n",
       "      <td>-1.081008</td>\n",
       "      <td>-1.081008</td>\n",
       "      <td>-1.081008</td>\n",
       "      <td>0.0</td>\n",
       "      <td>0.0</td>\n",
       "      <td>0.0</td>\n",
       "      <td>7184.990775</td>\n",
       "    </tr>\n",
       "  </tbody>\n",
       "</table>\n",
       "<p>370 rows × 22 columns</p>\n",
       "</div>"
      ],
      "text/plain": [
       "            ds       trend   yhat_lower   yhat_upper  trend_lower  \\\n",
       "0   2017-08-27  473.569120  3776.764014  5104.491150   473.569120   \n",
       "1   2017-08-28  476.933144  3833.197375  5183.393019   476.933144   \n",
       "2   2017-08-29  480.297167  3877.729283  5211.107968   480.297167   \n",
       "3   2017-08-30  483.661190  3954.539662  5206.571586   483.661190   \n",
       "4   2017-08-31  487.025213  3931.103385  5269.222802   487.025213   \n",
       "..         ...         ...          ...          ...          ...   \n",
       "365 2018-08-27  738.543896  6218.124910  7629.182104   738.543896   \n",
       "366 2018-08-28  742.612648  6338.876532  7721.930490   742.612648   \n",
       "367 2018-08-29  746.681400  6371.510730  7768.115586   746.681400   \n",
       "368 2018-08-30  750.750152  6374.620387  7883.157582   748.285679   \n",
       "369 2018-08-31  754.818904  6440.287682  7941.401382   742.825041   \n",
       "\n",
       "     trend_upper     daily  daily_lower  daily_upper  multiplicative_terms  \\\n",
       "0     473.569120  9.563964     9.563964     9.563964              8.356854   \n",
       "1     476.933144  9.563964     9.563964     9.563964              8.436224   \n",
       "2     480.297167  9.563964     9.563964     9.563964              8.494301   \n",
       "3     483.661190  9.563964     9.563964     9.563964              8.440425   \n",
       "4     487.025213  9.563964     9.563964     9.563964              8.461194   \n",
       "..           ...       ...          ...          ...                   ...   \n",
       "365   738.543896  9.563964     9.563964     9.563964              8.374726   \n",
       "366   742.612648  9.563964     9.563964     9.563964              8.452304   \n",
       "367   752.202325  9.563964     9.563964     9.563964              8.421478   \n",
       "368   770.190606  9.563964     9.563964     9.563964              8.468117   \n",
       "369   785.906885  9.563964     9.563964     9.563964              8.518827   \n",
       "\n",
       "     ...    weekly  weekly_lower  weekly_upper    yearly  yearly_lower  \\\n",
       "0    ... -0.038472     -0.038472     -0.038472 -1.168637     -1.168637   \n",
       "1    ... -0.006602     -0.006602     -0.006602 -1.121138     -1.121138   \n",
       "2    ...  0.019974      0.019974      0.019974 -1.089637     -1.089637   \n",
       "3    ... -0.046634     -0.046634     -0.046634 -1.076905     -1.076905   \n",
       "4    ... -0.017649     -0.017649     -0.017649 -1.085122     -1.085122   \n",
       "..   ...       ...           ...           ...       ...           ...   \n",
       "365  ... -0.006602     -0.006602     -0.006602 -1.182636     -1.182636   \n",
       "366  ...  0.019974      0.019974      0.019974 -1.131634     -1.131634   \n",
       "367  ... -0.046634     -0.046634     -0.046634 -1.095851     -1.095851   \n",
       "368  ... -0.017649     -0.017649     -0.017649 -1.078198     -1.078198   \n",
       "369  ...  0.035872      0.035872      0.035872 -1.081008     -1.081008   \n",
       "\n",
       "     yearly_upper  additive_terms  additive_terms_lower  additive_terms_upper  \\\n",
       "0       -1.168637             0.0                   0.0                   0.0   \n",
       "1       -1.121138             0.0                   0.0                   0.0   \n",
       "2       -1.089637             0.0                   0.0                   0.0   \n",
       "3       -1.076905             0.0                   0.0                   0.0   \n",
       "4       -1.085122             0.0                   0.0                   0.0   \n",
       "..            ...             ...                   ...                   ...   \n",
       "365     -1.182636             0.0                   0.0                   0.0   \n",
       "366     -1.131634             0.0                   0.0                   0.0   \n",
       "367     -1.095851             0.0                   0.0                   0.0   \n",
       "368     -1.078198             0.0                   0.0                   0.0   \n",
       "369     -1.081008             0.0                   0.0                   0.0   \n",
       "\n",
       "            yhat  \n",
       "0    4431.117317  \n",
       "1    4500.447825  \n",
       "2    4560.085805  \n",
       "3    4565.966993  \n",
       "4    4607.839822  \n",
       "..           ...  \n",
       "365  6923.647020  \n",
       "366  7019.400574  \n",
       "367  7034.842537  \n",
       "368  7108.190099  \n",
       "369  7184.990775  \n",
       "\n",
       "[370 rows x 22 columns]"
      ]
     },
     "execution_count": 4,
     "metadata": {},
     "output_type": "execute_result"
    }
   ],
   "source": [
    "# 5일 앞을 예측하기\n",
    "future_data = prophet.make_future_dataframe(periods=5, freq='d')\n",
    "# 예측\n",
    "forecast_data = prophet.predict(future_data)\n",
    "forecast_data"
   ]
  },
  {
   "cell_type": "code",
   "execution_count": 5,
   "metadata": {},
   "outputs": [
    {
     "data": {
      "text/plain": [
       "(370, 22)"
      ]
     },
     "execution_count": 5,
     "metadata": {},
     "output_type": "execute_result"
    }
   ],
   "source": [
    "forecast_data.shape"
   ]
  },
  {
   "cell_type": "code",
   "execution_count": 6,
   "metadata": {},
   "outputs": [
    {
     "data": {
      "text/html": [
       "<div>\n",
       "<style scoped>\n",
       "    .dataframe tbody tr th:only-of-type {\n",
       "        vertical-align: middle;\n",
       "    }\n",
       "\n",
       "    .dataframe tbody tr th {\n",
       "        vertical-align: top;\n",
       "    }\n",
       "\n",
       "    .dataframe thead th {\n",
       "        text-align: right;\n",
       "    }\n",
       "</style>\n",
       "<table border=\"1\" class=\"dataframe\">\n",
       "  <thead>\n",
       "    <tr style=\"text-align: right;\">\n",
       "      <th></th>\n",
       "      <th>ds</th>\n",
       "      <th>yhat</th>\n",
       "      <th>yhat_lower</th>\n",
       "      <th>yhat_upper</th>\n",
       "    </tr>\n",
       "  </thead>\n",
       "  <tbody>\n",
       "    <tr>\n",
       "      <th>365</th>\n",
       "      <td>2018-08-27</td>\n",
       "      <td>6923.647020</td>\n",
       "      <td>6218.124910</td>\n",
       "      <td>7629.182104</td>\n",
       "    </tr>\n",
       "    <tr>\n",
       "      <th>366</th>\n",
       "      <td>2018-08-28</td>\n",
       "      <td>7019.400574</td>\n",
       "      <td>6338.876532</td>\n",
       "      <td>7721.930490</td>\n",
       "    </tr>\n",
       "    <tr>\n",
       "      <th>367</th>\n",
       "      <td>2018-08-29</td>\n",
       "      <td>7034.842537</td>\n",
       "      <td>6371.510730</td>\n",
       "      <td>7768.115586</td>\n",
       "    </tr>\n",
       "    <tr>\n",
       "      <th>368</th>\n",
       "      <td>2018-08-30</td>\n",
       "      <td>7108.190099</td>\n",
       "      <td>6374.620387</td>\n",
       "      <td>7883.157582</td>\n",
       "    </tr>\n",
       "    <tr>\n",
       "      <th>369</th>\n",
       "      <td>2018-08-31</td>\n",
       "      <td>7184.990775</td>\n",
       "      <td>6440.287682</td>\n",
       "      <td>7941.401382</td>\n",
       "    </tr>\n",
       "  </tbody>\n",
       "</table>\n",
       "</div>"
      ],
      "text/plain": [
       "            ds         yhat   yhat_lower   yhat_upper\n",
       "365 2018-08-27  6923.647020  6218.124910  7629.182104\n",
       "366 2018-08-28  7019.400574  6338.876532  7721.930490\n",
       "367 2018-08-29  7034.842537  6371.510730  7768.115586\n",
       "368 2018-08-30  7108.190099  6374.620387  7883.157582\n",
       "369 2018-08-31  7184.990775  6440.287682  7941.401382"
      ]
     },
     "execution_count": 6,
     "metadata": {},
     "output_type": "execute_result"
    }
   ],
   "source": [
    "# 예측된 데이터의 날짜 , 예측값, 최소 예측값, 최대 예측값\n",
    "forecast_data[['ds', 'yhat', 'yhat_lower', 'yhat_upper']].tail(5)"
   ]
  },
  {
   "cell_type": "code",
   "execution_count": 7,
   "metadata": {},
   "outputs": [
    {
     "data": {
      "image/png": "[encoded data removed]",
      "text/plain": [
       "<Figure size 720x432 with 1 Axes>"
      ]
     },
     "metadata": {},
     "output_type": "display_data"
    }
   ],
   "source": [
    "# 결과 시각화\n",
    "fig1 = prophet.plot(forecast_data)\n",
    "# 검은점 : 실데이터\n",
    "# 파란선 : 예측값"
   ]
  },
  {
   "cell_type": "code",
   "execution_count": 8,
   "metadata": {},
   "outputs": [
    {
     "name": "stderr",
     "output_type": "stream",
     "text": [
      "C:\\Users\\pc\\anaconda3\\lib\\site-packages\\fbprophet\\plot.py:422: UserWarning: FixedFormatter should only be used together with FixedLocator\n",
      "  ax.set_yticklabels(yticklabels)\n",
      "C:\\Users\\pc\\anaconda3\\lib\\site-packages\\fbprophet\\plot.py:422: UserWarning: FixedFormatter should only be used together with FixedLocator\n",
      "  ax.set_yticklabels(yticklabels)\n",
      "C:\\Users\\pc\\anaconda3\\lib\\site-packages\\fbprophet\\plot.py:422: UserWarning: FixedFormatter should only be used together with FixedLocator\n",
      "  ax.set_yticklabels(yticklabels)\n"
     ]
    },
    {
     "data": {
      "image/png": "[encoded data removed]",
      "text/plain": [
       "<Figure size 648x864 with 4 Axes>"
      ]
     },
     "metadata": {},
     "output_type": "display_data"
    }
   ],
   "source": [
    "fig2 = prophet.plot_components(forecast_data)\n",
    "# 4개의 데이터\n",
    "# 원 데이터\n",
    "# 주별\n",
    "# 연별\n",
    "# 시간별"
   ]
  },
  {
   "cell_type": "code",
   "execution_count": 9,
   "metadata": {},
   "outputs": [],
   "source": [
    "# 예측이니 성능 분석도 해야함 \n",
    "# 실제값 - 예측값 \n",
    "y = bitcoin_df.y.values[5:] # 실데이터, 첫5일제외, \n",
    "y_pred = forecast_data.yhat.values[5:-5] #첫5일, 막5일 제외한 예측데이터"
   ]
  },
  {
   "cell_type": "code",
   "execution_count": 10,
   "metadata": {},
   "outputs": [
    {
     "data": {
      "text/plain": [
       "0.9737786665877044"
      ]
     },
     "execution_count": 10,
     "metadata": {},
     "output_type": "execute_result"
    }
   ],
   "source": [
    "# r2score rmse\n",
    "from sklearn.metrics import mean_squared_error, r2_score\n",
    "from math import sqrt\n",
    "r2 = r2_score(y, y_pred)\n",
    "r2"
   ]
  },
  {
   "cell_type": "code",
   "execution_count": 11,
   "metadata": {},
   "outputs": [
    {
     "data": {
      "text/plain": [
       "522.2899311292591"
      ]
     },
     "execution_count": 11,
     "metadata": {},
     "output_type": "execute_result"
    }
   ],
   "source": [
    "rmse = sqrt(mean_squared_error(y, y_pred))\n",
    "rmse"
   ]
  },
  {
   "cell_type": "code",
   "execution_count": 41,
   "metadata": {},
   "outputs": [
    {
     "data": {
      "text/html": [
       "<div>\n",
       "<style scoped>\n",
       "    .dataframe tbody tr th:only-of-type {\n",
       "        vertical-align: middle;\n",
       "    }\n",
       "\n",
       "    .dataframe tbody tr th {\n",
       "        vertical-align: top;\n",
       "    }\n",
       "\n",
       "    .dataframe thead th {\n",
       "        text-align: right;\n",
       "    }\n",
       "</style>\n",
       "<table border=\"1\" class=\"dataframe\">\n",
       "  <thead>\n",
       "    <tr style=\"text-align: right;\">\n",
       "      <th></th>\n",
       "      <th>ds</th>\n",
       "      <th>y</th>\n",
       "    </tr>\n",
       "  </thead>\n",
       "  <tbody>\n",
       "    <tr>\n",
       "      <th>0</th>\n",
       "      <td>2018-08-27 00:00:00</td>\n",
       "      <td>6719.266154</td>\n",
       "    </tr>\n",
       "    <tr>\n",
       "      <th>1</th>\n",
       "      <td>2018-08-28 00:00:00</td>\n",
       "      <td>7000.040000</td>\n",
       "    </tr>\n",
       "    <tr>\n",
       "      <th>2</th>\n",
       "      <td>2018-08-29 00:00:00</td>\n",
       "      <td>7054.276429</td>\n",
       "    </tr>\n",
       "    <tr>\n",
       "      <th>3</th>\n",
       "      <td>2018-08-30 00:00:00</td>\n",
       "      <td>6932.662500</td>\n",
       "    </tr>\n",
       "    <tr>\n",
       "      <th>4</th>\n",
       "      <td>2018-08-31 00:00:00</td>\n",
       "      <td>6981.946154</td>\n",
       "    </tr>\n",
       "  </tbody>\n",
       "</table>\n",
       "</div>"
      ],
      "text/plain": [
       "                    ds            y\n",
       "0  2018-08-27 00:00:00  6719.266154\n",
       "1  2018-08-28 00:00:00  7000.040000\n",
       "2  2018-08-29 00:00:00  7054.276429\n",
       "3  2018-08-30 00:00:00  6932.662500\n",
       "4  2018-08-31 00:00:00  6981.946154"
      ]
     },
     "execution_count": 41,
     "metadata": {},
     "output_type": "execute_result"
    }
   ],
   "source": [
    "# 실데이터와 비교\n",
    "test_file_path = 'market-price-test.csv'\n",
    "bitcoin_test_df = pd.read_csv(test_file_path, names = ['ds','y'], header=0)\n",
    "bitcoin_test_df"
   ]
  },
  {
   "cell_type": "code",
   "execution_count": 42,
   "metadata": {},
   "outputs": [
    {
     "data": {
      "text/plain": [
       "array([6719.26615385, 7000.04      , 7054.27642857, 6932.6625    ,\n",
       "       6981.94615385])"
      ]
     },
     "execution_count": 42,
     "metadata": {},
     "output_type": "execute_result"
    }
   ],
   "source": [
    "y = bitcoin_test_df.y.values\n",
    "y"
   ]
  },
  {
   "cell_type": "code",
   "execution_count": 43,
   "metadata": {},
   "outputs": [
    {
     "data": {
      "text/plain": [
       "array([6923.64702007, 7019.40057427, 7034.84253693, 7108.19009905,\n",
       "       7184.99077545])"
      ]
     },
     "execution_count": 43,
     "metadata": {},
     "output_type": "execute_result"
    }
   ],
   "source": [
    "y_pred = forecast_data.yhat.values[-5:]\n",
    "y_pred "
   ]
  },
  {
   "cell_type": "code",
   "execution_count": 44,
   "metadata": {},
   "outputs": [
    {
     "data": {
      "text/plain": [
       "[<matplotlib.lines.Line2D at 0x262467fa250>]"
      ]
     },
     "execution_count": 44,
     "metadata": {},
     "output_type": "execute_result"
    },
    {
     "data": {
      "image/png": "[encoded data removed]",
      "text/plain": [
       "<Figure size 432x288 with 1 Axes>"
      ]
     },
     "metadata": {
      "needs_background": "light"
     },
     "output_type": "display_data"
    }
   ],
   "source": [
    "plt.plot(y_pred, color = 'gold')\n",
    "plt.plot(y, color = 'green')"
   ]
  },
  {
   "cell_type": "code",
   "execution_count": null,
   "metadata": {},
   "outputs": [],
   "source": []
  },
  {
   "cell_type": "code",
   "execution_count": null,
   "metadata": {},
   "outputs": [],
   "source": []
  },
  {
   "cell_type": "code",
   "execution_count": null,
   "metadata": {},
   "outputs": [],
   "source": []
  },
  {
   "cell_type": "code",
   "execution_count": null,
   "metadata": {},
   "outputs": [],
   "source": []
  },
  {
   "cell_type": "code",
   "execution_count": null,
   "metadata": {},
   "outputs": [],
   "source": []
  },
  {
   "cell_type": "code",
   "execution_count": null,
   "metadata": {},
   "outputs": [],
   "source": []
  },
  {
   "cell_type": "code",
   "execution_count": null,
   "metadata": {},
   "outputs": [],
   "source": []
  },
  {
   "cell_type": "code",
   "execution_count": null,
   "metadata": {},
   "outputs": [],
   "source": []
  },
  {
   "cell_type": "code",
   "execution_count": null,
   "metadata": {},
   "outputs": [],
   "source": []
  },
  {
   "cell_type": "code",
   "execution_count": null,
   "metadata": {},
   "outputs": [],
   "source": []
  },
  {
   "cell_type": "code",
   "execution_count": null,
   "metadata": {},
   "outputs": [],
   "source": []
  },
  {
   "cell_type": "code",
   "execution_count": null,
   "metadata": {},
   "outputs": [],
   "source": []
  },
  {
   "cell_type": "code",
   "execution_count": null,
   "metadata": {},
   "outputs": [],
   "source": []
  },
  {
   "cell_type": "code",
   "execution_count": null,
   "metadata": {},
   "outputs": [],
   "source": []
  },
  {
   "cell_type": "code",
   "execution_count": null,
   "metadata": {},
   "outputs": [],
   "source": []
  },
  {
   "cell_type": "code",
   "execution_count": null,
   "metadata": {},
   "outputs": [],
   "source": []
  },
  {
   "cell_type": "code",
   "execution_count": null,
   "metadata": {},
   "outputs": [],
   "source": []
  },
  {
   "cell_type": "code",
   "execution_count": null,
   "metadata": {},
   "outputs": [],
   "source": []
  },
  {
   "cell_type": "code",
   "execution_count": null,
   "metadata": {},
   "outputs": [],
   "source": []
  },
  {
   "cell_type": "code",
   "execution_count": null,
   "metadata": {},
   "outputs": [],
   "source": []
  },
  {
   "cell_type": "code",
   "execution_count": null,
   "metadata": {},
   "outputs": [],
   "source": []
  },
  {
   "cell_type": "code",
   "execution_count": null,
   "metadata": {},
   "outputs": [],
   "source": []
  },
  {
   "cell_type": "code",
   "execution_count": null,
   "metadata": {},
   "outputs": [],
   "source": []
  },
  {
   "cell_type": "code",
   "execution_count": null,
   "metadata": {},
   "outputs": [],
   "source": []
  },
  {
   "cell_type": "code",
   "execution_count": null,
   "metadata": {},
   "outputs": [],
   "source": []
  },
  {
   "cell_type": "code",
   "execution_count": null,
   "metadata": {},
   "outputs": [],
   "source": []
  },
  {
   "cell_type": "code",
   "execution_count": null,
   "metadata": {},
   "outputs": [],
   "source": []
  },
  {
   "cell_type": "code",
   "execution_count": null,
   "metadata": {},
   "outputs": [],
   "source": []
  },
  {
   "cell_type": "code",
   "execution_count": null,
   "metadata": {},
   "outputs": [],
   "source": []
  },
  {
   "cell_type": "code",
   "execution_count": null,
   "metadata": {},
   "outputs": [],
   "source": []
  },
  {
   "cell_type": "code",
   "execution_count": null,
   "metadata": {},
   "outputs": [],
   "source": []
  },
  {
   "cell_type": "code",
   "execution_count": null,
   "metadata": {},
   "outputs": [],
   "source": []
  },
  {
   "cell_type": "code",
   "execution_count": null,
   "metadata": {},
   "outputs": [],
   "source": []
  },
  {
   "cell_type": "code",
   "execution_count": null,
   "metadata": {},
   "outputs": [],
   "source": []
  },
  {
   "cell_type": "code",
   "execution_count": null,
   "metadata": {},
   "outputs": [],
   "source": []
  },
  {
   "cell_type": "code",
   "execution_count": null,
   "metadata": {},
   "outputs": [],
   "source": []
  },
  {
   "cell_type": "code",
   "execution_count": null,
   "metadata": {},
   "outputs": [],
   "source": []
  },
  {
   "cell_type": "code",
   "execution_count": null,
   "metadata": {},
   "outputs": [],
   "source": []
  },
  {
   "cell_type": "code",
   "execution_count": null,
   "metadata": {},
   "outputs": [],
   "source": []
  },
  {
   "cell_type": "code",
   "execution_count": null,
   "metadata": {},
   "outputs": [],
   "source": []
  },
  {
   "cell_type": "code",
   "execution_count": null,
   "metadata": {},
   "outputs": [],
   "source": []
  },
  {
   "cell_type": "code",
   "execution_count": null,
   "metadata": {},
   "outputs": [],
   "source": []
  },
  {
   "cell_type": "code",
   "execution_count": null,
   "metadata": {},
   "outputs": [],
   "source": []
  },
  {
   "cell_type": "code",
   "execution_count": null,
   "metadata": {},
   "outputs": [],
   "source": []
  },
  {
   "cell_type": "code",
   "execution_count": null,
   "metadata": {},
   "outputs": [],
   "source": []
  },
  {
   "cell_type": "code",
   "execution_count": null,
   "metadata": {},
   "outputs": [],
   "source": []
  },
  {
   "cell_type": "code",
   "execution_count": null,
   "metadata": {},
   "outputs": [],
   "source": []
  },
  {
   "cell_type": "code",
   "execution_count": null,
   "metadata": {},
   "outputs": [],
   "source": []
  },
  {
   "cell_type": "code",
   "execution_count": null,
   "metadata": {},
   "outputs": [],
   "source": []
  },
  {
   "cell_type": "code",
   "execution_count": null,
   "metadata": {},
   "outputs": [],
   "source": []
  },
  {
   "cell_type": "code",
   "execution_count": null,
   "metadata": {},
   "outputs": [],
   "source": []
  },
  {
   "cell_type": "code",
   "execution_count": null,
   "metadata": {},
   "outputs": [],
   "source": []
  },
  {
   "cell_type": "code",
   "execution_count": null,
   "metadata": {},
   "outputs": [],
   "source": []
  },
  {
   "cell_type": "code",
   "execution_count": null,
   "metadata": {},
   "outputs": [],
   "source": []
  },
  {
   "cell_type": "code",
   "execution_count": null,
   "metadata": {},
   "outputs": [],
   "source": []
  },
  {
   "cell_type": "code",
   "execution_count": null,
   "metadata": {},
   "outputs": [],
   "source": []
  },
  {
   "cell_type": "code",
   "execution_count": null,
   "metadata": {},
   "outputs": [],
   "source": []
  },
  {
   "cell_type": "code",
   "execution_count": null,
   "metadata": {},
   "outputs": [],
   "source": []
  },
  {
   "cell_type": "code",
   "execution_count": null,
   "metadata": {},
   "outputs": [],
   "source": []
  },
  {
   "cell_type": "code",
   "execution_count": null,
   "metadata": {},
   "outputs": [],
   "source": []
  },
  {
   "cell_type": "code",
   "execution_count": null,
   "metadata": {},
   "outputs": [],
   "source": []
  },
  {
   "cell_type": "code",
   "execution_count": null,
   "metadata": {},
   "outputs": [],
   "source": []
  },
  {
   "cell_type": "code",
   "execution_count": null,
   "metadata": {},
   "outputs": [],
   "source": []
  },
  {
   "cell_type": "code",
   "execution_count": null,
   "metadata": {},
   "outputs": [],
   "source": []
  },
  {
   "cell_type": "code",
   "execution_count": null,
   "metadata": {},
   "outputs": [],
   "source": []
  },
  {
   "cell_type": "code",
   "execution_count": null,
   "metadata": {},
   "outputs": [],
   "source": []
  },
  {
   "cell_type": "code",
   "execution_count": null,
   "metadata": {},
   "outputs": [],
   "source": []
  },
  {
   "cell_type": "code",
   "execution_count": null,
   "metadata": {},
   "outputs": [],
   "source": []
  },
  {
   "cell_type": "code",
   "execution_count": null,
   "metadata": {},
   "outputs": [],
   "source": []
  },
  {
   "cell_type": "code",
   "execution_count": null,
   "metadata": {},
   "outputs": [],
   "source": []
  },
  {
   "cell_type": "code",
   "execution_count": null,
   "metadata": {},
   "outputs": [],
   "source": []
  },
  {
   "cell_type": "code",
   "execution_count": null,
   "metadata": {},
   "outputs": [],
   "source": []
  },
  {
   "cell_type": "code",
   "execution_count": null,
   "metadata": {},
   "outputs": [],
   "source": []
  },
  {
   "cell_type": "code",
   "execution_count": null,
   "metadata": {},
   "outputs": [],
   "source": []
  },
  {
   "cell_type": "code",
   "execution_count": null,
   "metadata": {},
   "outputs": [],
   "source": []
  },
  {
   "cell_type": "code",
   "execution_count": null,
   "metadata": {},
   "outputs": [],
   "source": []
  },
  {
   "cell_type": "code",
   "execution_count": null,
   "metadata": {},
   "outputs": [],
   "source": []
  },
  {
   "cell_type": "code",
   "execution_count": null,
   "metadata": {},
   "outputs": [],
   "source": []
  },
  {
   "cell_type": "code",
   "execution_count": null,
   "metadata": {},
   "outputs": [],
   "source": []
  },
  {
   "cell_type": "code",
   "execution_count": null,
   "metadata": {},
   "outputs": [],
   "source": []
  },
  {
   "cell_type": "code",
   "execution_count": null,
   "metadata": {},
   "outputs": [],
   "source": []
  },
  {
   "cell_type": "code",
   "execution_count": null,
   "metadata": {},
   "outputs": [],
   "source": []
  },
  {
   "cell_type": "code",
   "execution_count": null,
   "metadata": {},
   "outputs": [],
   "source": []
  },
  {
   "cell_type": "code",
   "execution_count": null,
   "metadata": {},
   "outputs": [],
   "source": []
  },
  {
   "cell_type": "code",
   "execution_count": null,
   "metadata": {},
   "outputs": [],
   "source": []
  },
  {
   "cell_type": "code",
   "execution_count": null,
   "metadata": {},
   "outputs": [],
   "source": []
  },
  {
   "cell_type": "code",
   "execution_count": null,
   "metadata": {},
   "outputs": [],
   "source": []
  },
  {
   "cell_type": "code",
   "execution_count": null,
   "metadata": {},
   "outputs": [],
   "source": []
  },
  {
   "cell_type": "code",
   "execution_count": null,
   "metadata": {},
   "outputs": [],
   "source": []
  },
  {
   "cell_type": "code",
   "execution_count": null,
   "metadata": {},
   "outputs": [],
   "source": []
  },
  {
   "cell_type": "code",
   "execution_count": null,
   "metadata": {},
   "outputs": [],
   "source": []
  },
  {
   "cell_type": "code",
   "execution_count": null,
   "metadata": {},
   "outputs": [],
   "source": []
  },
  {
   "cell_type": "code",
   "execution_count": null,
   "metadata": {},
   "outputs": [],
   "source": []
  },
  {
   "cell_type": "code",
   "execution_count": null,
   "metadata": {},
   "outputs": [],
   "source": []
  },
  {
   "cell_type": "code",
   "execution_count": null,
   "metadata": {},
   "outputs": [],
   "source": []
  },
  {
   "cell_type": "code",
   "execution_count": null,
   "metadata": {},
   "outputs": [],
   "source": []
  },
  {
   "cell_type": "code",
   "execution_count": null,
   "metadata": {},
   "outputs": [],
   "source": []
  },
  {
   "cell_type": "code",
   "execution_count": null,
   "metadata": {},
   "outputs": [],
   "source": []
  },
  {
   "cell_type": "code",
   "execution_count": null,
   "metadata": {},
   "outputs": [],
   "source": []
  },
  {
   "cell_type": "code",
   "execution_count": null,
   "metadata": {},
   "outputs": [],
   "source": []
  },
  {
   "cell_type": "code",
   "execution_count": null,
   "metadata": {},
   "outputs": [],
   "source": []
  },
  {
   "cell_type": "code",
   "execution_count": null,
   "metadata": {},
   "outputs": [],
   "source": []
  },
  {
   "cell_type": "code",
   "execution_count": null,
   "metadata": {},
   "outputs": [],
   "source": []
  },
  {
   "cell_type": "code",
   "execution_count": null,
   "metadata": {},
   "outputs": [],
   "source": []
  },
  {
   "cell_type": "code",
   "execution_count": null,
   "metadata": {},
   "outputs": [],
   "source": []
  },
  {
   "cell_type": "code",
   "execution_count": null,
   "metadata": {},
   "outputs": [],
   "source": []
  },
  {
   "cell_type": "code",
   "execution_count": null,
   "metadata": {},
   "outputs": [],
   "source": []
  }
 ],
 "metadata": {
  "kernelspec": {
   "display_name": "Python 3",
   "language": "python",
   "name": "python3"
  },
  "language_info": {
   "codemirror_mode": {
    "name": "ipython",
    "version": 3
   },
   "file_extension": ".py",
   "mimetype": "text/x-python",
   "name": "python",
   "nbconvert_exporter": "python",
   "pygments_lexer": "ipython3",
   "version": "3.8.5"
  }
 },
 "nbformat": 4,
 "nbformat_minor": 4
}
