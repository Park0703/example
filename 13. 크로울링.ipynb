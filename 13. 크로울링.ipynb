{
 "cells": [
  {
   "cell_type": "code",
   "execution_count": 2,
   "metadata": {},
   "outputs": [
    {
     "name": "stdout",
     "output_type": "stream",
     "text": [
      "Numbers\n"
     ]
    }
   ],
   "source": [
    "from bs4 import BeautifulSoup\n",
    "fp = open(\"py.html\")\n",
    "soup = BeautifulSoup(fp, \"html.parser\")\n",
    "print(soup.select(\"li\")[3].string)"
   ]
  },
  {
   "cell_type": "code",
   "execution_count": 3,
   "metadata": {},
   "outputs": [
    {
     "name": "stdout",
     "output_type": "stream",
     "text": [
      "Numbers\n"
     ]
    }
   ],
   "source": [
    "print(soup.find_all(\"li\")[3].string)"
   ]
  },
  {
   "cell_type": "code",
   "execution_count": 5,
   "metadata": {},
   "outputs": [
    {
     "name": "stdout",
     "output_type": "stream",
     "text": [
      "Numbers\n"
     ]
    }
   ],
   "source": [
    "# id=nu 인 태그\n",
    "print(soup.select_one(\"#nu\").string)"
   ]
  },
  {
   "cell_type": "code",
   "execution_count": 6,
   "metadata": {},
   "outputs": [
    {
     "name": "stdout",
     "output_type": "stream",
     "text": [
      "Numbers\n"
     ]
    }
   ],
   "source": [
    "print(soup.select(\"#nu\")[0].string)"
   ]
  },
  {
   "cell_type": "code",
   "execution_count": 7,
   "metadata": {},
   "outputs": [
    {
     "name": "stdout",
     "output_type": "stream",
     "text": [
      "Numbers\n"
     ]
    }
   ],
   "source": [
    "print(soup.select_one(\"li#nu\").string)"
   ]
  },
  {
   "cell_type": "code",
   "execution_count": 8,
   "metadata": {},
   "outputs": [
    {
     "name": "stdout",
     "output_type": "stream",
     "text": [
      "Numbers\n"
     ]
    }
   ],
   "source": [
    "print(soup.select_one(\"ul > li#nu\").string)"
   ]
  },
  {
   "cell_type": "code",
   "execution_count": 11,
   "metadata": {},
   "outputs": [
    {
     "ename": "AttributeError",
     "evalue": "'NoneType' object has no attribute 'string'",
     "output_type": "error",
     "traceback": [
      "\u001b[1;31m---------------------------------------------------------------------------\u001b[0m",
      "\u001b[1;31mAttributeError\u001b[0m                            Traceback (most recent call last)",
      "\u001b[1;32m<ipython-input-11-9f9967a4373b>\u001b[0m in \u001b[0;36m<module>\u001b[1;34m\u001b[0m\n\u001b[1;32m----> 1\u001b[1;33m \u001b[0mprint\u001b[0m\u001b[1;33m(\u001b[0m\u001b[0msoup\u001b[0m\u001b[1;33m.\u001b[0m\u001b[0mselect_one\u001b[0m\u001b[1;33m(\u001b[0m\u001b[1;34m\"#bible li#nu\"\u001b[0m\u001b[1;33m)\u001b[0m\u001b[1;33m.\u001b[0m\u001b[0mstring\u001b[0m\u001b[1;33m)\u001b[0m\u001b[1;33m\u001b[0m\u001b[1;33m\u001b[0m\u001b[0m\n\u001b[0m",
      "\u001b[1;31mAttributeError\u001b[0m: 'NoneType' object has no attribute 'string'"
     ]
    }
   ],
   "source": [
    "print(soup.select_one(\"#bible li#nu\").string)"
   ]
  },
  {
   "cell_type": "code",
   "execution_count": 14,
   "metadata": {},
   "outputs": [
    {
     "name": "stdout",
     "output_type": "stream",
     "text": [
      "None\n"
     ]
    }
   ],
   "source": [
    "sel = lambda q : print(soup.select_one(q).stirng)\n",
    "sel(\"#nu\")\n",
    "sel(\"#nu\")"
   ]
  },
  {
   "cell_type": "code",
   "execution_count": null,
   "metadata": {},
   "outputs": [],
   "source": []
  },
  {
   "cell_type": "code",
   "execution_count": 15,
   "metadata": {},
   "outputs": [],
   "source": [
    "# 네이버 공시환율 실시간정보가져오기\n",
    "from bs4 import BeautifulSoup\n",
    "import urllib.request as req\n",
    "url = \"https://finance.naver.com/marketindex/\"\n",
    "res = req.urlopen(url)\n",
    "soup = BeautifulSoup(res, \"html.parser\", from_encoding = \"euc-kr\")\n",
    "sel = lambda q : soup.select(q)\n",
    "# class 속성이 head_info div 태그들, 환율 상승하락 \n",
    "hlist = sel(\"div.head_info\")\n",
    "htitle = sel(\"h3.h_lst\")"
   ]
  },
  {
   "cell_type": "code",
   "execution_count": 18,
   "metadata": {},
   "outputs": [
    {
     "name": "stdout",
     "output_type": "stream",
     "text": [
      "미국 USD\t1,136.60 2.60\t상승******\n",
      "일본 JPY(100엔)\t1,028.83 4.67\t상승******\n",
      "유럽연합 EUR\t1,343.40 0.74\t상승******\n",
      "중국 CNY\t175.38 0.08\t상승******\n",
      "달러/일본 엔\t110.5500  0.3900\t하락******\n",
      "유로/달러\t1.1830  0.0029\t하락******\n",
      "영국 파운드/달러\t1.3809  0.0030\t하락******\n",
      "달러인덱스\t92.5400 0.1300\t상승******\n",
      "WTI\t73.37  1.79\t하락******\n",
      "휘발유\t1615.91 0.84\t상승******\n",
      "국제 금\t1793.5 10.90\t상승******\n",
      "국내 금\t65757.65  1.10\t하락******\n"
     ]
    }
   ],
   "source": [
    "for tag, title in zip(hlist, htitle) :\n",
    "    print(title.select_one(\"span.blind\").string, end = \"\\t\")\n",
    "    value = tag.select_one(\"span.value\").string\n",
    "    print(value, end = \" \")\n",
    "    change = tag.select_one(\"span.change\").string\n",
    "    print(change, end = \"\\t\")\n",
    "    blinds = tag.select(\"span.blind\")\n",
    "    b = tag.select(\"span.blind\")[-1].string\n",
    "    print(b, end = \"******\\n\")"
   ]
  },
  {
   "cell_type": "code",
   "execution_count": 19,
   "metadata": {},
   "outputs": [
    {
     "name": "stdout",
     "output_type": "stream",
     "text": [
      "Collecting selenium\n",
      "  Using cached selenium-3.141.0-py2.py3-none-any.whl (904 kB)\n",
      "Requirement already satisfied: urllib3 in c:\\users\\pc\\anaconda3\\lib\\site-packages (from selenium) (1.25.11)\n",
      "Installing collected packages: selenium\n",
      "Successfully installed selenium-3.141.0\n",
      "Note: you may need to restart the kernel to use updated packages.\n"
     ]
    }
   ],
   "source": [
    "pip install selenium"
   ]
  },
  {
   "cell_type": "code",
   "execution_count": 21,
   "metadata": {},
   "outputs": [],
   "source": [
    "from selenium import webdriver"
   ]
  },
  {
   "cell_type": "code",
   "execution_count": 24,
   "metadata": {},
   "outputs": [],
   "source": []
  },
  {
   "cell_type": "code",
   "execution_count": 27,
   "metadata": {},
   "outputs": [
    {
     "name": "stdout",
     "output_type": "stream",
     "text": [
      "<class 'list'>\n",
      "li Python\n",
      "li PSF\n",
      "li Docs\n",
      "li PyPI\n",
      "li Jobs\n",
      "li Community\n"
     ]
    }
   ],
   "source": [
    "driver = webdriver.Chrome(\"C:/R/chromedriver\")\n",
    "driver.get(\"http://python.org\")\n",
    "menus = driver.find_elements_by_css_selector('#top ul.menu li')\n",
    "print(type(menus))\n",
    "pypi = None\n",
    "for m in menus :\n",
    "    if m.text == \"PyPI\" :\n",
    "        pypi = m\n",
    "    print(m.tag_name, m.text)\n",
    "pypi.click()\n",
    "import time\n",
    "time.sleep(5)\n",
    "driver.quit()"
   ]
  },
  {
   "cell_type": "code",
   "execution_count": 28,
   "metadata": {},
   "outputs": [
    {
     "name": "stdout",
     "output_type": "stream",
     "text": [
      "네이버 아이디를 입력하세요 :qkrwltjd121\n",
      "네이버 비밀번호dngkdlgn1!\n"
     ]
    }
   ],
   "source": [
    "# 네이버 로그인\n",
    "driver = webdriver.Chrome(\"C:/R/chromedriver\")\n",
    "url = \"https://nid.naver.com/nidlogin.login?mode=form&url=https%3A%2F%2Fwww.naver.com\"\n",
    "driver.get(url)\n",
    "id = input(\"네이버 아이디를 입력하세요 :\")\n",
    "# execute_script js함수사용  name = 'id' 인 첫번째 태그 선택\n",
    "driver.execute_script(\"document.getElementsByName('id')[0].value='\"+id+\"'\")\n",
    "pw = input(\"네이버 비밀번호\")\n",
    "time.sleep(1)\n",
    "driver.execute_script(\"document.getElementsByName('pw')[0].value='\"+pw+\"'\")\n",
    "time.sleep(1)\n",
    "#// 루트노드, 화면에처음\n",
    "# id = log.login ㅇ태그 선택\n",
    "driver.find_element_by_xpath('//*[@id=\"log.login\"]').click()"
   ]
  },
  {
   "cell_type": "code",
   "execution_count": 31,
   "metadata": {},
   "outputs": [
    {
     "name": "stdout",
     "output_type": "stream",
     "text": [
      "['https://search4.kakaocdn.net/argon/0x200_85_hr/IKDZidUywmD', 'https://search1.kakaocdn.net/argon/0x200_85_hr/F2Bh4dnRNmY', 'https://search3.kakaocdn.net/argon/0x200_85_hr/CKeK80ar9l8', 'https://search3.kakaocdn.net/argon/0x200_85_hr/DHU0eRE3I5O', 'https://search3.kakaocdn.net/argon/0x200_85_hr/2pxrvTAVI0N', 'https://search1.kakaocdn.net/argon/0x200_85_hr/BuFpQOKDZzw', 'https://search1.kakaocdn.net/argon/0x200_85_hr/6nPUHm9hRbE', 'https://search4.kakaocdn.net/argon/0x200_85_hr/KKn1g6QxrAT', 'https://search2.kakaocdn.net/argon/0x200_85_hr/Il8IItV7u5e', 'https://search4.kakaocdn.net/argon/0x200_85_hr/DIijpqPOrnd', 'https://search1.kakaocdn.net/argon/0x200_85_hr/5XZTxo3V7nK', 'https://search2.kakaocdn.net/argon/0x200_85_hr/IhKQEEkl2N8', 'https://search2.kakaocdn.net/argon/0x200_85_hr/284vGYWkl93', 'https://search3.kakaocdn.net/argon/0x200_85_hr/5RBtVj2wT1i', 'https://search3.kakaocdn.net/argon/0x200_85_hr/HWxdUBhUAas', 'https://search2.kakaocdn.net/argon/0x200_85_hr/D7n3vf9hO43', 'https://search3.kakaocdn.net/argon/0x200_85_hr/CKZZFPMeBek', 'https://search3.kakaocdn.net/argon/0x200_85_hr/A3sfAhIxvQP', 'https://search1.kakaocdn.net/argon/0x200_85_hr/8Cbkt2M7urk', 'https://search3.kakaocdn.net/argon/0x200_85_hr/JN2bsXZLk5u', 'https://search3.kakaocdn.net/argon/0x200_85_hr/KOzHKGk6dYX', 'https://search4.kakaocdn.net/argon/0x200_85_hr/K93NnYkZQOq', 'https://search4.kakaocdn.net/argon/0x200_85_hr/BzD9KEJL0iT', 'https://search2.kakaocdn.net/argon/0x200_85_hr/AacQsN1cXlU', 'https://search1.kakaocdn.net/argon/0x200_85_hr/BCXBizBU3jQ', 'https://search2.kakaocdn.net/argon/0x200_85_hr/HDAhYdLyFTS', 'https://search4.kakaocdn.net/argon/0x200_85_hr/2LAlZynFjPq', 'https://search1.kakaocdn.net/argon/0x200_85_hr/5VSSYeOxp3T', 'https://search4.kakaocdn.net/argon/0x200_85_hr/6i7vps0iYT9', 'https://search2.kakaocdn.net/argon/0x200_85_hr/3JbZhUJm2Bq', 'https://search3.kakaocdn.net/argon/0x200_85_hr/4fe1d7YBAI', 'https://search3.kakaocdn.net/argon/0x200_85_hr/CjPLpNu6wJy', 'https://search1.kakaocdn.net/argon/0x200_85_hr/4SPyEh2e5n6', 'https://search1.kakaocdn.net/argon/0x200_85_hr/IhrecVLeW6D', 'https://search3.kakaocdn.net/argon/0x200_85_hr/Kf05htkwrzY', 'https://search1.kakaocdn.net/argon/0x200_85_hr/HDnyKh5NWxs', 'https://search2.kakaocdn.net/argon/0x200_85_hr/H4axqH84M1f', 'https://search4.kakaocdn.net/argon/0x200_85_hr/1gG1MNZMJ26', 'https://search2.kakaocdn.net/argon/0x200_85_hr/Kt87UsEqQen', 'https://search2.kakaocdn.net/argon/0x200_85_hr/BK7cmdzpYrw', 'https://search4.kakaocdn.net/argon/0x200_85_hr/ByCAwZ6n89l', 'https://search4.kakaocdn.net/argon/0x200_85_hr/FgMkQK741R3', 'https://search2.kakaocdn.net/argon/0x200_85_hr/IfUZoK59ddb', 'https://search4.kakaocdn.net/argon/0x200_85_hr/85WXCJ16jO3', 'https://search1.kakaocdn.net/argon/0x200_85_hr/LB5dFRuTLuB', 'https://search4.kakaocdn.net/argon/0x200_85_hr/2jLKlcFlQHt', 'https://search3.kakaocdn.net/argon/0x200_85_hr/7fRaXtcHc7K', 'https://search2.kakaocdn.net/argon/0x200_85_hr/LXWzc5rsfZ6', 'https://search2.kakaocdn.net/argon/0x200_85_hr/Jj1kmo0nskr', 'https://search3.kakaocdn.net/argon/0x200_85_hr/I5wb7dBLrWj', 'https://search4.kakaocdn.net/argon/0x200_85_hr/DQmIm2wg7dC', 'https://search4.kakaocdn.net/argon/0x200_85_hr/EQMRWIj7pIz', 'https://search3.kakaocdn.net/argon/0x200_85_hr/BA4G9gH0uhY', 'https://search4.kakaocdn.net/argon/0x200_85_hr/Ez0WJ9eACEf', 'https://search2.kakaocdn.net/argon/0x200_85_hr/5HOqx87EOBz', 'https://search1.kakaocdn.net/argon/0x200_85_hr/8LdWyd1pWtM', 'https://search1.kakaocdn.net/argon/0x200_85_hr/9E5j4ZcRO9o', 'https://search3.kakaocdn.net/argon/0x200_85_hr/K3K58K3Ym1C', 'https://search4.kakaocdn.net/argon/0x200_85_hr/H5sFVfrKyzf', 'https://search2.kakaocdn.net/argon/0x200_85_hr/6oLuBwZ3cRN', 'https://search4.kakaocdn.net/argon/0x200_85_hr/190HKI3JaQG', 'https://search1.kakaocdn.net/argon/0x200_85_hr/F74seDAQ3T9', 'https://search3.kakaocdn.net/argon/0x200_85_hr/DNZZZo2nS75', 'https://search1.kakaocdn.net/argon/0x200_85_hr/EMSLTajSMAq', 'https://search1.kakaocdn.net/argon/0x200_85_hr/Cd9XRH7f74P', 'https://search4.kakaocdn.net/argon/0x200_85_hr/8RNchuk1lKJ', 'https://search3.kakaocdn.net/argon/0x200_85_hr/HhwZ17nRU', 'https://search3.kakaocdn.net/argon/0x200_85_hr/LEQC2qHQeeA', 'https://search1.kakaocdn.net/argon/0x200_85_hr/Pdbvt47lLR', 'https://search2.kakaocdn.net/argon/0x200_85_hr/G0XFosKCy7z', 'https://search3.kakaocdn.net/argon/0x200_85_hr/9c7HTuvf4ri', 'https://search4.kakaocdn.net/argon/0x200_85_hr/B2kXkJ7b2dp', 'https://search2.kakaocdn.net/argon/0x200_85_hr/FZ9BpxoCmiB', 'https://search3.kakaocdn.net/argon/0x200_85_hr/LsbQO3cx8lO', 'https://search1.kakaocdn.net/argon/0x200_85_hr/C9RNgLIf0eC', 'https://search1.kakaocdn.net/argon/0x200_85_hr/AAohuhnhoId', 'https://search2.kakaocdn.net/argon/0x200_85_hr/JJKLztyarcx', 'https://search2.kakaocdn.net/argon/0x200_85_hr/7fc1kCEHSd1', 'https://search3.kakaocdn.net/argon/0x200_85_hr/8u3m28wZ16s', 'https://search1.kakaocdn.net/argon/0x200_85_hr/BeOiC4Q6YJ9']\n"
     ]
    }
   ],
   "source": [
    "# 이미지 다운\n",
    "# https://search.daum.net/search?nil_suggest=btn&w=img&DA=SBC&q=%EC%9E%A5%EB%AF%B8\n",
    "\n",
    "from selenium import webdriver\n",
    "import time\n",
    "import urllib.request as req\n",
    "import os\n",
    "driver = webdriver.Chrome(\"C:/R/chromedriver\")\n",
    "url1 = \"https://search.daum.net/search?nil_suggest=btn&w=img&DA=SBC&q=%EC%9E%A5%EB%AF%B8\"\n",
    "driver.get(url1)\n",
    "time.sleep(3)\n",
    "\n",
    "images = driver.find_elements_by_css_selector(\"#imgList > div > a > img\")\n",
    "img_url  = []\n",
    "for image in images :\n",
    "    url = image.get_attribute('src') # src 속성값 태그\n",
    "    img_url.append(url)\n",
    "print(img_url)\n",
    "driver.quit()\n",
    "img_folder = \"./img\"\n",
    "if not os.path.isdir(img_folder) : # 없으면 새로 생성하는 조건문\n",
    "    os.mkdir(img_folder)\n",
    "    # enumerate idx 값 조회\n",
    "for idx, link in enumerate(img_url):\n",
    "    req.urlretrieve(link, f'./img/{idx}.jpg')"
   ]
  },
  {
   "cell_type": "code",
   "execution_count": 33,
   "metadata": {},
   "outputs": [],
   "source": [
    "# 네이버 홈화면을 이미지로 저장하기\n",
    "from selenium import webdriver\n",
    "url1 = \"http://www.naver.com/\"\n",
    "driver = webdriver.Chrome(\"C:/R/chromedriver\")\n",
    "driver.get(url1)\n",
    "driver.save_screenshot(\"naverhome.png\")\n",
    "driver.quit()\n"
   ]
  },
  {
   "cell_type": "code",
   "execution_count": null,
   "metadata": {},
   "outputs": [],
   "source": [
    "# 구매목록 스크래핑\n",
    "https://order.pay.naver.com/home?tabMenu=SHOPPING"
   ]
  },
  {
   "cell_type": "code",
   "execution_count": 76,
   "metadata": {
    "scrolled": false
   },
   "outputs": [
    {
     "name": "stdout",
     "output_type": "stream",
     "text": [
      "넥시 11ac 듀얼밴드 USB 무선랜카드 블루투스 동글 NX-AC600BT NX1131\n",
      "씨 오브 시브즈 Sea of Thieves (PC스팀 한글판 연중무휴 1분발송) 다이아 랜덤코드 1+1 리뷰작성시 제공\n",
      "에어팟 프로 PRO 투명 케이스 TPU\n",
      "ks1335  뉴 미 해병마크티셔츠 해병마크 셔츠 미군반팔티 미군티셔츠\n",
      "컴퓨터활용능력 1급 필기 요점 정리집/컴활1급필기/컴활1급요약/컴퓨터활용능력1급필기/무료동영상강의(유튜브)\n",
      "[추가금없음] 삼성 갤럭시 탭A 10.1 32GB 2019 SM-T510\n"
     ]
    }
   ],
   "source": [
    "from selenium import webdriver\n",
    "import time\n",
    "import urllib.request as req\n",
    "import os\n",
    "from bs4 import BeautifulSoup\n",
    "import urllib.request as req\n",
    "# 네이버 로그인\n",
    "driver = webdriver.Chrome(\"C:/R/chromedriver\")\n",
    "url = \"https://nid.naver.com/nidlogin.login?mode=form&url=https%3A%2F%2Fwww.naver.com\"\n",
    "driver.get(url)\n",
    "id = input(\"네이버 아이디를 입력하세요 :\")\n",
    "driver.execute_script(\"document.getElementsByName('id')[0].value='\"+id+\"'\")\n",
    "pw = input(\"네이버 비밀번호\")\n",
    "time.sleep(0.5)\n",
    "driver.execute_script(\"document.getElementsByName('pw')[0].value='\"+pw+\"'\")\n",
    "time.sleep(0.5)\n",
    "driver.find_element_by_xpath('//*[@id=\"log.login\"]').click()\n",
    "\n",
    "# 들어가기\n",
    "time.sleep(1)\n",
    "driver.find_element_by_xpath(\"//*[@id=\\\"NM_FAVORITE\\\"]/div[1]/ul[1]/li[5]/a\").click()\n",
    "time.sleep(0.5)\n",
    "driver.find_element_by_xpath(\"//*[@id=\\\"_myPageWrapper\\\"]/a\").click()\n",
    "time.sleep(0.5)\n",
    "driver.find_element_by_xpath(\"//*[@id=\\\"_myPageWrapper\\\"]/div/div[3]/ul[2]/li[2]/a\").click()\n",
    "\n",
    "html = driver.page_source\n",
    "soup = BeautifulSoup(html, \"html.parser\", from_encoding = \"euc-kr\")\n",
    "orders =  soup.find_all(name=\"div\", attrs={\"class\":\"goods_pay_section\"})\n",
    "\n",
    "new_list = []\n",
    "for idx, order in enumerate(orders) :\n",
    "    ordli = order.find(name=\"p\", attrs={\"class\":\"name\"})\n",
    "    ordli.span.decompose()\n",
    "    new_list.append(ordli.get_text().strip())\n",
    "    print(new_list[idx])\n",
    "\n",
    "driver.quit()"
   ]
  },
  {
   "cell_type": "code",
   "execution_count": 53,
   "metadata": {},
   "outputs": [],
   "source": [
    "# 네이버 공시환율 실시간정보가져오기\n",
    "from bs4 import BeautifulSoup\n",
    "import urllib.request as req\n",
    "url = \"https://finance.naver.com/marketindex/\"\n",
    "res = req.urlopen(url)\n",
    "soup = BeautifulSoup(res, \"html.parser\", from_encoding = \"euc-kr\")\n",
    "sel = lambda q : soup.select(q)\n",
    "# class 속성이 head_info div 태그들, 환율 상승하락 \n",
    "hlist = sel(\"div.head_info\")\n",
    "htitle = sel(\"h3.h_lst\")"
   ]
  },
  {
   "cell_type": "code",
   "execution_count": 54,
   "metadata": {},
   "outputs": [
    {
     "name": "stdout",
     "output_type": "stream",
     "text": [
      "미국 USD\t1,137.50 3.50\t상승******\n",
      "일본 JPY(100엔)\t1,028.20 4.04\t상승******\n",
      "유럽연합 EUR\t1,344.75 2.09\t상승******\n",
      "중국 CNY\t175.90 0.60\t상승******\n",
      "달러/일본 엔\t110.5500  0.3900\t하락******\n",
      "유로/달러\t1.1830  0.0029\t하락******\n",
      "영국 파운드/달러\t1.3809  0.0030\t하락******\n",
      "달러인덱스\t92.5400 0.1300\t상승******\n",
      "WTI\t73.37  1.79\t하락******\n",
      "휘발유\t1617.39 2.32\t상승******\n",
      "국제 금\t1793.5 10.90\t상승******\n",
      "국내 금\t66046.77 288.02\t상승******\n"
     ]
    }
   ],
   "source": [
    "for tag, title in zip(hlist, htitle) :\n",
    "    print(title.select_one(\"span.blind\").string, end = \"\\t\")\n",
    "    value = tag.select_one(\"span.value\").string\n",
    "    print(value, end = \" \")\n",
    "    change = tag.select_one(\"span.change\").string\n",
    "    print(change, end = \"\\t\")\n",
    "    blinds = tag.select(\"span.blind\")\n",
    "    b = tag.select(\"span.blind\")[-1].string\n",
    "    print(b, end = \"******\\n\")"
   ]
  },
  {
   "cell_type": "code",
   "execution_count": null,
   "metadata": {},
   "outputs": [],
   "source": []
  },
  {
   "cell_type": "code",
   "execution_count": null,
   "metadata": {},
   "outputs": [],
   "source": [
    "from selenium import webdriver\n",
    "import time\n",
    "import urllib.request as req\n",
    "import os\n",
    "from bs4 import BeautifulSoup\n",
    "import urllib.request as req\n",
    "\n",
    "\n",
    "driver = webdriver.Chrome(\"C:/R/chromedriver\")\n",
    "url = \"https://nid.naver.com/nidlogin.login?mode=form&url=https%3A%2F%2Fwww.naver.com\"\n",
    "driver.get(url)\n",
    "driver.execute_script(\"document.getElementsByName('id')[0].value='\"+id+\"'\")"
   ]
  },
  {
   "cell_type": "code",
   "execution_count": null,
   "metadata": {},
   "outputs": [],
   "source": []
  },
  {
   "cell_type": "code",
   "execution_count": null,
   "metadata": {},
   "outputs": [],
   "source": []
  },
  {
   "cell_type": "code",
   "execution_count": null,
   "metadata": {},
   "outputs": [],
   "source": []
  },
  {
   "cell_type": "code",
   "execution_count": null,
   "metadata": {},
   "outputs": [],
   "source": []
  },
  {
   "cell_type": "code",
   "execution_count": null,
   "metadata": {},
   "outputs": [],
   "source": []
  },
  {
   "cell_type": "code",
   "execution_count": null,
   "metadata": {},
   "outputs": [],
   "source": []
  },
  {
   "cell_type": "code",
   "execution_count": null,
   "metadata": {},
   "outputs": [],
   "source": []
  },
  {
   "cell_type": "code",
   "execution_count": null,
   "metadata": {},
   "outputs": [],
   "source": []
  },
  {
   "cell_type": "code",
   "execution_count": null,
   "metadata": {},
   "outputs": [],
   "source": []
  },
  {
   "cell_type": "code",
   "execution_count": null,
   "metadata": {},
   "outputs": [],
   "source": []
  },
  {
   "cell_type": "code",
   "execution_count": null,
   "metadata": {},
   "outputs": [],
   "source": []
  },
  {
   "cell_type": "code",
   "execution_count": null,
   "metadata": {},
   "outputs": [],
   "source": []
  },
  {
   "cell_type": "code",
   "execution_count": null,
   "metadata": {},
   "outputs": [],
   "source": []
  },
  {
   "cell_type": "code",
   "execution_count": null,
   "metadata": {},
   "outputs": [],
   "source": []
  },
  {
   "cell_type": "code",
   "execution_count": null,
   "metadata": {},
   "outputs": [],
   "source": []
  }
 ],
 "metadata": {
  "kernelspec": {
   "display_name": "Python 3",
   "language": "python",
   "name": "python3"
  },
  "language_info": {
   "codemirror_mode": {
    "name": "ipython",
    "version": 3
   },
   "file_extension": ".py",
   "mimetype": "text/x-python",
   "name": "python",
   "nbconvert_exporter": "python",
   "pygments_lexer": "ipython3",
   "version": "3.8.5"
  }
 },
 "nbformat": 4,
 "nbformat_minor": 4
}
